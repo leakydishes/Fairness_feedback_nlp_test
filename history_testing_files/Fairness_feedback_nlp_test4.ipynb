{
  "nbformat": 4,
  "nbformat_minor": 0,
  "metadata": {
    "colab": {
      "provenance": [],
      "gpuType": "T4",
      "mount_file_id": "1jixwOITC2bjIzZRc388tdtr1wOYlxE2f",
      "authorship_tag": "ABX9TyM5Bhai13ft4FxUu6123PCJ",
      "include_colab_link": true
    },
    "kernelspec": {
      "name": "python3",
      "display_name": "Python 3"
    },
    "language_info": {
      "name": "python"
    },
    "accelerator": "GPU"
  },
  "cells": [
    {
      "cell_type": "markdown",
      "metadata": {
        "id": "view-in-github",
        "colab_type": "text"
      },
      "source": [
        "<a href=\"https://colab.research.google.com/github/leakydishes/Fairness_feedback_nlp_test/blob/main/Fairness_feedback_nlp_test4.ipynb\" target=\"_parent\"><img src=\"https://colab.research.google.com/assets/colab-badge.svg\" alt=\"Open In Colab\"/></a>"
      ]
    },
    {
      "cell_type": "markdown",
      "source": [
        "#**Deakin University Internship 2023**\n",
        "##Human-Guided Fair Classification for NLP\n",
        "#####Te' Claire\n",
        "\n",
        "*@inproceedings{\n",
        "dorner2023humanguided,\n",
        "title={Human-Guided Fair Classification for Natural Language Processing},\n",
        "author={Florian E. Dorner and Momchil Peychev and Nikola Konstantinov and Naman Goel and Elliott Ash and Martin Vechev},\n",
        "booktitle={The Eleventh International Conference on Learning Representations },\n",
        "year={2023},\n",
        "url={https://openreview.net/forum?id=N_g8TT9Cy7f}\n",
        "}*"
      ],
      "metadata": {
        "id": "1krF2sLeA9Ip"
      }
    },
    {
      "cell_type": "markdown",
      "source": [
        "##**Step 1. Mount Google Drive**"
      ],
      "metadata": {
        "id": "rnMkrDpv5XY_"
      }
    },
    {
      "cell_type": "code",
      "source": [
        "from google.colab import drive\n",
        "drive.mount('/content/drive')"
      ],
      "metadata": {
        "colab": {
          "base_uri": "https://localhost:8080/"
        },
        "id": "wuts1xQ2_yPd",
        "outputId": "0c82608a-ffb1-4867-83a1-02f326ee2496"
      },
      "execution_count": 1,
      "outputs": [
        {
          "output_type": "stream",
          "name": "stdout",
          "text": [
            "Drive already mounted at /content/drive; to attempt to forcibly remount, call drive.mount(\"/content/drive\", force_remount=True).\n"
          ]
        }
      ]
    },
    {
      "cell_type": "markdown",
      "source": [
        "##**Step 2.Download the train.csv file from the Civil comments dataset to Code/Datasets/Kaggle_Toxicity**\n",
        "####Set up a virtual environment with the required packages"
      ],
      "metadata": {
        "id": "riJuKYPvAzPR"
      }
    },
    {
      "cell_type": "markdown",
      "source": [
        "####Note: Google Colab already has Python pre-installed therefore you don't need to create a virtual environment. Instead install dependencies."
      ],
      "metadata": {
        "id": "gg9i_BeQoFoT"
      }
    },
    {
      "cell_type": "code",
      "source": [
        "cd /content/drive/MyDrive/fairness-feedback-nlp-master/Code"
      ],
      "metadata": {
        "id": "2FKZmY_S5tzf",
        "colab": {
          "base_uri": "https://localhost:8080/"
        },
        "outputId": "16fdef91-ff56-4bb8-f041-9aed3c685cc2"
      },
      "execution_count": 2,
      "outputs": [
        {
          "output_type": "stream",
          "name": "stdout",
          "text": [
            "/content/drive/MyDrive/fairness-feedback-nlp-master/Code\n"
          ]
        }
      ]
    },
    {
      "cell_type": "markdown",
      "source": [
        "####Install python 3.8 and update"
      ],
      "metadata": {
        "id": "Tu6ZHHic10Xr"
      }
    },
    {
      "cell_type": "code",
      "source": [
        "!sudo apt-get update\n",
        "!sudo apt-get install python3.8\n",
        "!python3.8 -m ensurepip --upgrade"
      ],
      "metadata": {
        "colab": {
          "base_uri": "https://localhost:8080/"
        },
        "id": "dfnHxFukotDq",
        "outputId": "0db60646-d726-450a-830f-d2a485346d99"
      },
      "execution_count": 3,
      "outputs": [
        {
          "output_type": "stream",
          "name": "stdout",
          "text": [
            "\r0% [Working]\r            \rHit:1 http://archive.ubuntu.com/ubuntu jammy InRelease\n",
            "\r0% [Waiting for headers] [Waiting for headers] [Connecting to ppa.launchpadcont\r                                                                               \rGet:2 http://security.ubuntu.com/ubuntu jammy-security InRelease [110 kB]\n",
            "\r                                                                               \rGet:3 https://cloud.r-project.org/bin/linux/ubuntu jammy-cran40/ InRelease [3,626 B]\n",
            "Get:4 http://archive.ubuntu.com/ubuntu jammy-updates InRelease [119 kB]\n",
            "Get:5 https://developer.download.nvidia.com/compute/cuda/repos/ubuntu2204/x86_64  InRelease [1,581 B]\n",
            "Get:6 http://archive.ubuntu.com/ubuntu jammy-backports InRelease [109 kB]\n",
            "Get:7 https://developer.download.nvidia.com/compute/cuda/repos/ubuntu2204/x86_64  Packages [457 kB]\n",
            "Get:8 http://security.ubuntu.com/ubuntu jammy-security/universe amd64 Packages [979 kB]\n",
            "Hit:9 https://ppa.launchpadcontent.net/c2d4u.team/c2d4u4.0+/ubuntu jammy InRelease\n",
            "Get:10 http://archive.ubuntu.com/ubuntu jammy-updates/multiverse amd64 Packages [49.9 kB]\n",
            "Get:11 http://archive.ubuntu.com/ubuntu jammy-updates/restricted amd64 Packages [876 kB]\n",
            "Get:12 http://archive.ubuntu.com/ubuntu jammy-updates/main amd64 Packages [1,110 kB]\n",
            "Get:13 http://archive.ubuntu.com/ubuntu jammy-updates/universe amd64 Packages [1,236 kB]\n",
            "Hit:14 https://ppa.launchpadcontent.net/deadsnakes/ppa/ubuntu jammy InRelease\n",
            "Hit:15 https://ppa.launchpadcontent.net/graphics-drivers/ppa/ubuntu jammy InRelease\n",
            "Hit:16 https://ppa.launchpadcontent.net/ubuntugis/ppa/ubuntu jammy InRelease\n",
            "Fetched 5,051 kB in 2s (2,474 kB/s)\n",
            "Reading package lists... Done\n",
            "Reading package lists... Done\n",
            "Building dependency tree... Done\n",
            "Reading state information... Done\n",
            "The following additional packages will be installed:\n",
            "  libpython3.8-minimal libpython3.8-stdlib mailcap mime-support\n",
            "  python3.8-minimal\n",
            "Suggested packages:\n",
            "  python3.8-venv binfmt-support\n",
            "The following NEW packages will be installed:\n",
            "  libpython3.8-minimal libpython3.8-stdlib mailcap mime-support python3.8\n",
            "  python3.8-minimal\n",
            "0 upgraded, 6 newly installed, 0 to remove and 16 not upgraded.\n",
            "Need to get 5,099 kB of archives.\n",
            "After this operation, 18.9 MB of additional disk space will be used.\n",
            "Get:1 http://archive.ubuntu.com/ubuntu jammy/main amd64 mailcap all 3.70+nmu1ubuntu1 [23.8 kB]\n",
            "Get:2 http://archive.ubuntu.com/ubuntu jammy/main amd64 mime-support all 3.66 [3,696 B]\n",
            "Get:3 https://ppa.launchpadcontent.net/deadsnakes/ppa/ubuntu jammy/main amd64 libpython3.8-minimal amd64 3.8.17-1+jammy1 [793 kB]\n",
            "Get:4 https://ppa.launchpadcontent.net/deadsnakes/ppa/ubuntu jammy/main amd64 python3.8-minimal amd64 3.8.17-1+jammy1 [2,023 kB]\n",
            "Get:5 https://ppa.launchpadcontent.net/deadsnakes/ppa/ubuntu jammy/main amd64 libpython3.8-stdlib amd64 3.8.17-1+jammy1 [1,817 kB]\n",
            "Get:6 https://ppa.launchpadcontent.net/deadsnakes/ppa/ubuntu jammy/main amd64 python3.8 amd64 3.8.17-1+jammy1 [438 kB]\n",
            "Fetched 5,099 kB in 4s (1,161 kB/s)\n",
            "debconf: unable to initialize frontend: Dialog\n",
            "debconf: (No usable dialog-like program is installed, so the dialog based frontend cannot be used. at /usr/share/perl5/Debconf/FrontEnd/Dialog.pm line 78, <> line 6.)\n",
            "debconf: falling back to frontend: Readline\n",
            "debconf: unable to initialize frontend: Readline\n",
            "debconf: (This frontend requires a controlling tty.)\n",
            "debconf: falling back to frontend: Teletype\n",
            "dpkg-preconfigure: unable to re-open stdin: \n",
            "Selecting previously unselected package libpython3.8-minimal:amd64.\n",
            "(Reading database ... 120511 files and directories currently installed.)\n",
            "Preparing to unpack .../0-libpython3.8-minimal_3.8.17-1+jammy1_amd64.deb ...\n",
            "Unpacking libpython3.8-minimal:amd64 (3.8.17-1+jammy1) ...\n",
            "Selecting previously unselected package python3.8-minimal.\n",
            "Preparing to unpack .../1-python3.8-minimal_3.8.17-1+jammy1_amd64.deb ...\n",
            "Unpacking python3.8-minimal (3.8.17-1+jammy1) ...\n",
            "Selecting previously unselected package mailcap.\n",
            "Preparing to unpack .../2-mailcap_3.70+nmu1ubuntu1_all.deb ...\n",
            "Unpacking mailcap (3.70+nmu1ubuntu1) ...\n",
            "Selecting previously unselected package mime-support.\n",
            "Preparing to unpack .../3-mime-support_3.66_all.deb ...\n",
            "Unpacking mime-support (3.66) ...\n",
            "Selecting previously unselected package libpython3.8-stdlib:amd64.\n",
            "Preparing to unpack .../4-libpython3.8-stdlib_3.8.17-1+jammy1_amd64.deb ...\n",
            "Unpacking libpython3.8-stdlib:amd64 (3.8.17-1+jammy1) ...\n",
            "Selecting previously unselected package python3.8.\n",
            "Preparing to unpack .../5-python3.8_3.8.17-1+jammy1_amd64.deb ...\n",
            "Unpacking python3.8 (3.8.17-1+jammy1) ...\n",
            "Setting up libpython3.8-minimal:amd64 (3.8.17-1+jammy1) ...\n",
            "Setting up python3.8-minimal (3.8.17-1+jammy1) ...\n",
            "Setting up mailcap (3.70+nmu1ubuntu1) ...\n",
            "Setting up mime-support (3.66) ...\n",
            "Setting up libpython3.8-stdlib:amd64 (3.8.17-1+jammy1) ...\n",
            "Setting up python3.8 (3.8.17-1+jammy1) ...\n",
            "Processing triggers for man-db (2.10.2-1) ...\n",
            "/usr/bin/python3.8: No module named ensurepip\n"
          ]
        }
      ]
    },
    {
      "cell_type": "code",
      "source": [
        "#list python versions\n",
        "!ls /usr/bin/python*"
      ],
      "metadata": {
        "colab": {
          "base_uri": "https://localhost:8080/"
        },
        "id": "eMHuy1OAo9LZ",
        "outputId": "5b9c7b10-fe07-4773-b763-c4073025176e"
      },
      "execution_count": 4,
      "outputs": [
        {
          "output_type": "stream",
          "name": "stdout",
          "text": [
            "/usr/bin/python3     /usr/bin/python3.10-config  /usr/bin/python3-config\n",
            "/usr/bin/python3.10  /usr/bin/python3.8\n"
          ]
        }
      ]
    },
    {
      "cell_type": "code",
      "source": [
        "#update python version\n",
        "!sudo update-alternatives --install /usr/bin/python3 python3 /usr/bin/python3.8 1"
      ],
      "metadata": {
        "id": "Bm-ZnUMYqZUq",
        "colab": {
          "base_uri": "https://localhost:8080/"
        },
        "outputId": "887a2a9f-fb66-4252-e431-35f1c5e0d035"
      },
      "execution_count": 5,
      "outputs": [
        {
          "output_type": "stream",
          "name": "stdout",
          "text": [
            "update-alternatives: using /usr/bin/python3.8 to provide /usr/bin/python3 (python3) in auto mode\n"
          ]
        }
      ]
    },
    {
      "cell_type": "code",
      "source": [
        "#Confirgure python version\n",
        "!sudo update-alternatives --config python3"
      ],
      "metadata": {
        "colab": {
          "base_uri": "https://localhost:8080/"
        },
        "id": "zVGh3s64tzNV",
        "outputId": "4a750ea0-ae2b-4457-9262-030a41749630"
      },
      "execution_count": 6,
      "outputs": [
        {
          "output_type": "stream",
          "name": "stdout",
          "text": [
            "There is only one alternative in link group python3 (providing /usr/bin/python3): /usr/bin/python3.8\n",
            "Nothing to configure.\n"
          ]
        }
      ]
    },
    {
      "cell_type": "code",
      "source": [
        "#permanently install the specific version to the google colab\n",
        "!sudo apt install python3-pip"
      ],
      "metadata": {
        "colab": {
          "base_uri": "https://localhost:8080/"
        },
        "id": "oV2U9wrSt-DG",
        "outputId": "c6c145a8-d708-4a05-b346-c67045710c2f"
      },
      "execution_count": 7,
      "outputs": [
        {
          "output_type": "stream",
          "name": "stdout",
          "text": [
            "Reading package lists... Done\n",
            "Building dependency tree... Done\n",
            "Reading state information... Done\n",
            "The following additional packages will be installed:\n",
            "  python3-setuptools python3-wheel\n",
            "Suggested packages:\n",
            "  python-setuptools-doc\n",
            "The following NEW packages will be installed:\n",
            "  python3-pip python3-setuptools python3-wheel\n",
            "0 upgraded, 3 newly installed, 0 to remove and 16 not upgraded.\n",
            "Need to get 1,677 kB of archives.\n",
            "After this operation, 8,965 kB of additional disk space will be used.\n",
            "Get:1 http://archive.ubuntu.com/ubuntu jammy-updates/main amd64 python3-setuptools all 59.6.0-1.2ubuntu0.22.04.1 [339 kB]\n",
            "Get:2 http://archive.ubuntu.com/ubuntu jammy-updates/universe amd64 python3-wheel all 0.37.1-2ubuntu0.22.04.1 [32.0 kB]\n",
            "Get:3 http://archive.ubuntu.com/ubuntu jammy-updates/universe amd64 python3-pip all 22.0.2+dfsg-1ubuntu0.3 [1,305 kB]\n",
            "Fetched 1,677 kB in 1s (1,441 kB/s)\n",
            "debconf: unable to initialize frontend: Dialog\n",
            "debconf: (No usable dialog-like program is installed, so the dialog based frontend cannot be used. at /usr/share/perl5/Debconf/FrontEnd/Dialog.pm line 78, <> line 3.)\n",
            "debconf: falling back to frontend: Readline\n",
            "debconf: unable to initialize frontend: Readline\n",
            "debconf: (This frontend requires a controlling tty.)\n",
            "debconf: falling back to frontend: Teletype\n",
            "dpkg-preconfigure: unable to re-open stdin: \n",
            "Selecting previously unselected package python3-setuptools.\n",
            "(Reading database ... 121162 files and directories currently installed.)\n",
            "Preparing to unpack .../python3-setuptools_59.6.0-1.2ubuntu0.22.04.1_all.deb ...\n",
            "Unpacking python3-setuptools (59.6.0-1.2ubuntu0.22.04.1) ...\n",
            "Selecting previously unselected package python3-wheel.\n",
            "Preparing to unpack .../python3-wheel_0.37.1-2ubuntu0.22.04.1_all.deb ...\n",
            "Unpacking python3-wheel (0.37.1-2ubuntu0.22.04.1) ...\n",
            "Selecting previously unselected package python3-pip.\n",
            "Preparing to unpack .../python3-pip_22.0.2+dfsg-1ubuntu0.3_all.deb ...\n",
            "Unpacking python3-pip (22.0.2+dfsg-1ubuntu0.3) ...\n",
            "Setting up python3-setuptools (59.6.0-1.2ubuntu0.22.04.1) ...\n",
            "Setting up python3-wheel (0.37.1-2ubuntu0.22.04.1) ...\n",
            "Setting up python3-pip (22.0.2+dfsg-1ubuntu0.3) ...\n",
            "Processing triggers for man-db (2.10.2-1) ...\n"
          ]
        }
      ]
    },
    {
      "cell_type": "markdown",
      "source": [
        "####Check correct packages installed for distutils and Numpy"
      ],
      "metadata": {
        "id": "rY-Jb9V52SwK"
      }
    },
    {
      "cell_type": "code",
      "source": [
        "!sudo apt-get install python3.8-distutils"
      ],
      "metadata": {
        "colab": {
          "base_uri": "https://localhost:8080/"
        },
        "id": "30gzRE2nuaLv",
        "outputId": "b4670f31-e62b-4044-cb92-51fc5a35caa4"
      },
      "execution_count": 8,
      "outputs": [
        {
          "output_type": "stream",
          "name": "stdout",
          "text": [
            "Reading package lists... Done\n",
            "Building dependency tree... Done\n",
            "Reading state information... Done\n",
            "The following additional packages will be installed:\n",
            "  python3.8-lib2to3\n",
            "The following NEW packages will be installed:\n",
            "  python3.8-distutils python3.8-lib2to3\n",
            "0 upgraded, 2 newly installed, 0 to remove and 16 not upgraded.\n",
            "Need to get 319 kB of archives.\n",
            "After this operation, 1,237 kB of additional disk space will be used.\n",
            "Get:1 https://ppa.launchpadcontent.net/deadsnakes/ppa/ubuntu jammy/main amd64 python3.8-lib2to3 all 3.8.17-1+jammy1 [126 kB]\n",
            "Get:2 https://ppa.launchpadcontent.net/deadsnakes/ppa/ubuntu jammy/main amd64 python3.8-distutils all 3.8.17-1+jammy1 [193 kB]\n",
            "Fetched 319 kB in 2s (188 kB/s)\n",
            "debconf: unable to initialize frontend: Dialog\n",
            "debconf: (No usable dialog-like program is installed, so the dialog based frontend cannot be used. at /usr/share/perl5/Debconf/FrontEnd/Dialog.pm line 78, <> line 2.)\n",
            "debconf: falling back to frontend: Readline\n",
            "debconf: unable to initialize frontend: Readline\n",
            "debconf: (This frontend requires a controlling tty.)\n",
            "debconf: falling back to frontend: Teletype\n",
            "dpkg-preconfigure: unable to re-open stdin: \n",
            "Selecting previously unselected package python3.8-lib2to3.\n",
            "(Reading database ... 122024 files and directories currently installed.)\n",
            "Preparing to unpack .../python3.8-lib2to3_3.8.17-1+jammy1_all.deb ...\n",
            "Unpacking python3.8-lib2to3 (3.8.17-1+jammy1) ...\n",
            "Selecting previously unselected package python3.8-distutils.\n",
            "Preparing to unpack .../python3.8-distutils_3.8.17-1+jammy1_all.deb ...\n",
            "Unpacking python3.8-distutils (3.8.17-1+jammy1) ...\n",
            "Setting up python3.8-lib2to3 (3.8.17-1+jammy1) ...\n",
            "Setting up python3.8-distutils (3.8.17-1+jammy1) ...\n"
          ]
        }
      ]
    },
    {
      "cell_type": "markdown",
      "source": [],
      "metadata": {
        "id": "t1kEDf8K2Y_K"
      }
    },
    {
      "cell_type": "code",
      "source": [
        "!pip install --force-reinstall numpy==1.22.3\n",
        "#Check numpy version"
      ],
      "metadata": {
        "colab": {
          "base_uri": "https://localhost:8080/"
        },
        "id": "UojJU7W0vZLC",
        "outputId": "658f32d1-3755-47d7-8039-a9e24316b8c2"
      },
      "execution_count": 9,
      "outputs": [
        {
          "output_type": "stream",
          "name": "stdout",
          "text": [
            "Collecting numpy==1.22.3\n",
            "  Downloading numpy-1.22.3-cp38-cp38-manylinux_2_17_x86_64.manylinux2014_x86_64.whl (16.8 MB)\n",
            "\u001b[2K     \u001b[90m━━━━━━━━━━━━━━━━━━━━━━━━━━━━━━━━━━━━━━━━\u001b[0m \u001b[32m16.8/16.8 MB\u001b[0m \u001b[31m38.6 MB/s\u001b[0m eta \u001b[36m0:00:00\u001b[0m\n",
            "\u001b[?25hInstalling collected packages: numpy\n",
            "Successfully installed numpy-1.22.3\n",
            "\u001b[33mWARNING: Running pip as the 'root' user can result in broken permissions and conflicting behaviour with the system package manager. It is recommended to use a virtual environment instead: https://pip.pypa.io/warnings/venv\u001b[0m\u001b[33m\n",
            "\u001b[0m"
          ]
        }
      ]
    },
    {
      "cell_type": "markdown",
      "source": [
        "##Step 3: Then, run"
      ],
      "metadata": {
        "id": "44Ju1GkUp0mV"
      }
    },
    {
      "cell_type": "code",
      "source": [
        "!pip install -r requirements.txt"
      ],
      "metadata": {
        "colab": {
          "base_uri": "https://localhost:8080/",
          "height": 1000
        },
        "id": "tpaYQnTPt8e0",
        "outputId": "034dd76e-e864-4538-9db6-81823821d8f3"
      },
      "execution_count": 10,
      "outputs": [
        {
          "output_type": "stream",
          "name": "stdout",
          "text": [
            "Requirement already satisfied: numpy==1.22.3 in /usr/local/lib/python3.8/dist-packages (from -r requirements.txt (line 1)) (1.22.3)\n",
            "Collecting torch==1.11.0\n",
            "  Downloading torch-1.11.0-cp38-cp38-manylinux1_x86_64.whl (750.6 MB)\n",
            "\u001b[2K     \u001b[90m━━━━━━━━━━━━━━━━━━━━━━━━━━━━━━━━━━━━━━━\u001b[0m \u001b[32m750.6/750.6 MB\u001b[0m \u001b[31m2.0 MB/s\u001b[0m eta \u001b[36m0:00:00\u001b[0m\n",
            "\u001b[?25hCollecting tqdm==4.64.0\n",
            "  Downloading tqdm-4.64.0-py2.py3-none-any.whl (78 kB)\n",
            "\u001b[2K     \u001b[90m━━━━━━━━━━━━━━━━━━━━━━━━━━━━━━━━━━━━━━━━\u001b[0m \u001b[32m78.4/78.4 KB\u001b[0m \u001b[31m9.3 MB/s\u001b[0m eta \u001b[36m0:00:00\u001b[0m\n",
            "\u001b[?25hCollecting transformers==4.18.0\n",
            "  Downloading transformers-4.18.0-py3-none-any.whl (4.0 MB)\n",
            "\u001b[2K     \u001b[90m━━━━━━━━━━━━━━━━━━━━━━━━━━━━━━━━━━━━━━━━\u001b[0m \u001b[32m4.0/4.0 MB\u001b[0m \u001b[31m93.0 MB/s\u001b[0m eta \u001b[36m0:00:00\u001b[0m\n",
            "\u001b[?25hCollecting pandas==1.4.2\n",
            "  Downloading pandas-1.4.2-cp38-cp38-manylinux_2_17_x86_64.manylinux2014_x86_64.whl (11.7 MB)\n",
            "\u001b[2K     \u001b[90m━━━━━━━━━━━━━━━━━━━━━━━━━━━━━━━━━━━━━━━━\u001b[0m \u001b[32m11.7/11.7 MB\u001b[0m \u001b[31m92.7 MB/s\u001b[0m eta \u001b[36m0:00:00\u001b[0m\n",
            "\u001b[?25hCollecting scipy==1.6.3\n",
            "  Downloading scipy-1.6.3-cp38-cp38-manylinux1_x86_64.whl (27.2 MB)\n",
            "\u001b[2K     \u001b[90m━━━━━━━━━━━━━━━━━━━━━━━━━━━━━━━━━━━━━━━━\u001b[0m \u001b[32m27.2/27.2 MB\u001b[0m \u001b[31m61.1 MB/s\u001b[0m eta \u001b[36m0:00:00\u001b[0m\n",
            "\u001b[?25hCollecting typing-extensions\n",
            "  Downloading typing_extensions-4.7.1-py3-none-any.whl (33 kB)\n",
            "Collecting filelock\n",
            "  Downloading filelock-3.12.2-py3-none-any.whl (10 kB)\n",
            "Collecting sacremoses\n",
            "  Downloading sacremoses-0.0.53.tar.gz (880 kB)\n",
            "\u001b[2K     \u001b[90m━━━━━━━━━━━━━━━━━━━━━━━━━━━━━━━━━━━━━━\u001b[0m \u001b[32m880.6/880.6 KB\u001b[0m \u001b[31m46.9 MB/s\u001b[0m eta \u001b[36m0:00:00\u001b[0m\n",
            "\u001b[?25h  Preparing metadata (setup.py) ... \u001b[?25l\u001b[?25hdone\n",
            "Collecting packaging>=20.0\n",
            "  Downloading packaging-23.1-py3-none-any.whl (48 kB)\n",
            "\u001b[2K     \u001b[90m━━━━━━━━━━━━━━━━━━━━━━━━━━━━━━━━━━━━━━━━\u001b[0m \u001b[32m48.9/48.9 KB\u001b[0m \u001b[31m5.3 MB/s\u001b[0m eta \u001b[36m0:00:00\u001b[0m\n",
            "\u001b[?25hCollecting huggingface-hub<1.0,>=0.1.0\n",
            "  Downloading huggingface_hub-0.16.4-py3-none-any.whl (268 kB)\n",
            "\u001b[2K     \u001b[90m━━━━━━━━━━━━━━━━━━━━━━━━━━━━━━━━━━━━━━\u001b[0m \u001b[32m268.8/268.8 KB\u001b[0m \u001b[31m30.9 MB/s\u001b[0m eta \u001b[36m0:00:00\u001b[0m\n",
            "\u001b[?25hCollecting requests\n",
            "  Downloading requests-2.31.0-py3-none-any.whl (62 kB)\n",
            "\u001b[2K     \u001b[90m━━━━━━━━━━━━━━━━━━━━━━━━━━━━━━━━━━━━━━━━\u001b[0m \u001b[32m62.6/62.6 KB\u001b[0m \u001b[31m6.7 MB/s\u001b[0m eta \u001b[36m0:00:00\u001b[0m\n",
            "\u001b[?25hCollecting regex!=2019.12.17\n",
            "  Downloading regex-2023.8.8-cp38-cp38-manylinux_2_17_x86_64.manylinux2014_x86_64.whl (774 kB)\n",
            "\u001b[2K     \u001b[90m━━━━━━━━━━━━━━━━━━━━━━━━━━━━━━━━━━━━━━\u001b[0m \u001b[32m774.3/774.3 KB\u001b[0m \u001b[31m46.0 MB/s\u001b[0m eta \u001b[36m0:00:00\u001b[0m\n",
            "\u001b[?25hCollecting tokenizers!=0.11.3,<0.13,>=0.11.1\n",
            "  Downloading tokenizers-0.12.1-cp38-cp38-manylinux_2_12_x86_64.manylinux2010_x86_64.whl (6.6 MB)\n",
            "\u001b[2K     \u001b[90m━━━━━━━━━━━━━━━━━━━━━━━━━━━━━━━━━━━━━━━━\u001b[0m \u001b[32m6.6/6.6 MB\u001b[0m \u001b[31m71.9 MB/s\u001b[0m eta \u001b[36m0:00:00\u001b[0m\n",
            "\u001b[?25hCollecting pyyaml>=5.1\n",
            "  Downloading PyYAML-6.0.1-cp38-cp38-manylinux_2_17_x86_64.manylinux2014_x86_64.whl (736 kB)\n",
            "\u001b[2K     \u001b[90m━━━━━━━━━━━━━━━━━━━━━━━━━━━━━━━━━━━━━━\u001b[0m \u001b[32m736.6/736.6 KB\u001b[0m \u001b[31m51.5 MB/s\u001b[0m eta \u001b[36m0:00:00\u001b[0m\n",
            "\u001b[?25hCollecting pytz>=2020.1\n",
            "  Downloading pytz-2023.3-py2.py3-none-any.whl (502 kB)\n",
            "\u001b[2K     \u001b[90m━━━━━━━━━━━━━━━━━━━━━━━━━━━━━━━━━━━━━━\u001b[0m \u001b[32m502.3/502.3 KB\u001b[0m \u001b[31m40.4 MB/s\u001b[0m eta \u001b[36m0:00:00\u001b[0m\n",
            "\u001b[?25hCollecting python-dateutil>=2.8.1\n",
            "  Downloading python_dateutil-2.8.2-py2.py3-none-any.whl (247 kB)\n",
            "\u001b[2K     \u001b[90m━━━━━━━━━━━━━━━━━━━━━━━━━━━━━━━━━━━━━━━\u001b[0m \u001b[32m247.7/247.7 KB\u001b[0m \u001b[31m1.4 MB/s\u001b[0m eta \u001b[36m0:00:00\u001b[0m\n",
            "\u001b[?25hCollecting fsspec\n",
            "  Downloading fsspec-2023.6.0-py3-none-any.whl (163 kB)\n",
            "\u001b[2K     \u001b[90m━━━━━━━━━━━━━━━━━━━━━━━━━━━━━━━━━━━━━━\u001b[0m \u001b[32m163.8/163.8 KB\u001b[0m \u001b[31m17.1 MB/s\u001b[0m eta \u001b[36m0:00:00\u001b[0m\n",
            "\u001b[?25hRequirement already satisfied: six>=1.5 in /usr/lib/python3/dist-packages (from python-dateutil>=2.8.1->pandas==1.4.2->-r requirements.txt (line 5)) (1.16.0)\n",
            "Collecting charset-normalizer<4,>=2\n",
            "  Downloading charset_normalizer-3.2.0-cp38-cp38-manylinux_2_17_x86_64.manylinux2014_x86_64.whl (199 kB)\n",
            "\u001b[2K     \u001b[90m━━━━━━━━━━━━━━━━━━━━━━━━━━━━━━━━━━━━━━\u001b[0m \u001b[32m199.1/199.1 KB\u001b[0m \u001b[31m20.2 MB/s\u001b[0m eta \u001b[36m0:00:00\u001b[0m\n",
            "\u001b[?25hCollecting urllib3<3,>=1.21.1\n",
            "  Downloading urllib3-2.0.4-py3-none-any.whl (123 kB)\n",
            "\u001b[2K     \u001b[90m━━━━━━━━━━━━━━━━━━━━━━━━━━━━━━━━━━━━━━\u001b[0m \u001b[32m123.9/123.9 KB\u001b[0m \u001b[31m14.3 MB/s\u001b[0m eta \u001b[36m0:00:00\u001b[0m\n",
            "\u001b[?25hCollecting idna<4,>=2.5\n",
            "  Downloading idna-3.4-py3-none-any.whl (61 kB)\n",
            "\u001b[2K     \u001b[90m━━━━━━━━━━━━━━━━━━━━━━━━━━━━━━━━━━━━━━━━\u001b[0m \u001b[32m61.5/61.5 KB\u001b[0m \u001b[31m7.2 MB/s\u001b[0m eta \u001b[36m0:00:00\u001b[0m\n",
            "\u001b[?25hCollecting certifi>=2017.4.17\n",
            "  Downloading certifi-2023.7.22-py3-none-any.whl (158 kB)\n",
            "\u001b[2K     \u001b[90m━━━━━━━━━━━━━━━━━━━━━━━━━━━━━━━━━━━━━━\u001b[0m \u001b[32m158.3/158.3 KB\u001b[0m \u001b[31m18.5 MB/s\u001b[0m eta \u001b[36m0:00:00\u001b[0m\n",
            "\u001b[?25hCollecting click\n",
            "  Downloading click-8.1.6-py3-none-any.whl (97 kB)\n",
            "\u001b[2K     \u001b[90m━━━━━━━━━━━━━━━━━━━━━━━━━━━━━━━━━━━━━━━━\u001b[0m \u001b[32m97.9/97.9 KB\u001b[0m \u001b[31m11.8 MB/s\u001b[0m eta \u001b[36m0:00:00\u001b[0m\n",
            "\u001b[?25hCollecting joblib\n",
            "  Downloading joblib-1.3.2-py3-none-any.whl (302 kB)\n",
            "\u001b[2K     \u001b[90m━━━━━━━━━━━━━━━━━━━━━━━━━━━━━━━━━━━━━━\u001b[0m \u001b[32m302.2/302.2 KB\u001b[0m \u001b[31m29.1 MB/s\u001b[0m eta \u001b[36m0:00:00\u001b[0m\n",
            "\u001b[?25hBuilding wheels for collected packages: sacremoses\n",
            "  Building wheel for sacremoses (setup.py) ... \u001b[?25l\u001b[?25hdone\n",
            "  Created wheel for sacremoses: filename=sacremoses-0.0.53-py3-none-any.whl size=895260 sha256=72d8e9a77f25b99c6b6cf8fbfaeb28e641688a9ef93e06e3dc26f8b594a6911c\n",
            "  Stored in directory: /root/.cache/pip/wheels/82/ab/9b/c15899bf659ba74f623ac776e861cf2eb8608c1825ddec66a4\n",
            "Successfully built sacremoses\n",
            "Installing collected packages: tokenizers, pytz, urllib3, typing-extensions, tqdm, scipy, regex, pyyaml, python-dateutil, packaging, joblib, idna, fsspec, filelock, click, charset-normalizer, certifi, torch, sacremoses, requests, pandas, huggingface-hub, transformers\n",
            "Successfully installed certifi-2023.7.22 charset-normalizer-3.2.0 click-8.1.6 filelock-3.12.2 fsspec-2023.6.0 huggingface-hub-0.16.4 idna-3.4 joblib-1.3.2 packaging-23.1 pandas-1.4.2 python-dateutil-2.8.2 pytz-2023.3 pyyaml-6.0.1 regex-2023.8.8 requests-2.31.0 sacremoses-0.0.53 scipy-1.6.3 tokenizers-0.12.1 torch-1.11.0 tqdm-4.64.0 transformers-4.18.0 typing-extensions-4.7.1 urllib3-2.0.4\n",
            "\u001b[33mWARNING: Running pip as the 'root' user can result in broken permissions and conflicting behaviour with the system package manager. It is recommended to use a virtual environment instead: https://pip.pypa.io/warnings/venv\u001b[0m\u001b[33m\n",
            "\u001b[0m"
          ]
        },
        {
          "output_type": "display_data",
          "data": {
            "application/vnd.colab-display-data+json": {
              "pip_warning": {
                "packages": [
                  "certifi",
                  "dateutil"
                ]
              }
            }
          },
          "metadata": {}
        }
      ]
    },
    {
      "cell_type": "markdown",
      "source": [
        "####Check file path and script is granted permission to be executed as a program"
      ],
      "metadata": {
        "id": "lvyV7KCj2jOz"
      }
    },
    {
      "cell_type": "code",
      "source": [
        "cd /content/drive/MyDrive/fairness-feedback-nlp-master/Code"
      ],
      "metadata": {
        "colab": {
          "base_uri": "https://localhost:8080/"
        },
        "id": "hMGoUHhtuexa",
        "outputId": "f66cbadc-6241-4b2c-a4d7-500ccc769632"
      },
      "execution_count": 11,
      "outputs": [
        {
          "output_type": "stream",
          "name": "stdout",
          "text": [
            "/content/drive/MyDrive/fairness-feedback-nlp-master/Code\n"
          ]
        }
      ]
    },
    {
      "cell_type": "code",
      "source": [
        "#!chmod +x Generation.sh\n",
        "!chmod +x Generation_Quick.sh"
      ],
      "metadata": {
        "id": "mIXm04nczVm4"
      },
      "execution_count": 12,
      "outputs": []
    },
    {
      "cell_type": "markdown",
      "source": [
        "####Additionally added Transfers"
      ],
      "metadata": {
        "id": "-b3ZSQ4S2y1j"
      }
    },
    {
      "cell_type": "code",
      "source": [
        "!pip install transformers"
      ],
      "metadata": {
        "colab": {
          "base_uri": "https://localhost:8080/"
        },
        "id": "GdVfDb6T0Z-5",
        "outputId": "bbc8467a-fed7-42ce-d228-a0eb2e7e2d93"
      },
      "execution_count": 13,
      "outputs": [
        {
          "output_type": "stream",
          "name": "stdout",
          "text": [
            "Requirement already satisfied: transformers in /usr/local/lib/python3.8/dist-packages (4.18.0)\n",
            "Requirement already satisfied: requests in /usr/local/lib/python3.8/dist-packages (from transformers) (2.31.0)\n",
            "Requirement already satisfied: sacremoses in /usr/local/lib/python3.8/dist-packages (from transformers) (0.0.53)\n",
            "Requirement already satisfied: numpy>=1.17 in /usr/local/lib/python3.8/dist-packages (from transformers) (1.22.3)\n",
            "Requirement already satisfied: filelock in /usr/local/lib/python3.8/dist-packages (from transformers) (3.12.2)\n",
            "Requirement already satisfied: regex!=2019.12.17 in /usr/local/lib/python3.8/dist-packages (from transformers) (2023.8.8)\n",
            "Requirement already satisfied: pyyaml>=5.1 in /usr/local/lib/python3.8/dist-packages (from transformers) (6.0.1)\n",
            "Requirement already satisfied: tqdm>=4.27 in /usr/local/lib/python3.8/dist-packages (from transformers) (4.64.0)\n",
            "Requirement already satisfied: huggingface-hub<1.0,>=0.1.0 in /usr/local/lib/python3.8/dist-packages (from transformers) (0.16.4)\n",
            "Requirement already satisfied: packaging>=20.0 in /usr/local/lib/python3.8/dist-packages (from transformers) (23.1)\n",
            "Requirement already satisfied: tokenizers!=0.11.3,<0.13,>=0.11.1 in /usr/local/lib/python3.8/dist-packages (from transformers) (0.12.1)\n",
            "Requirement already satisfied: typing-extensions>=3.7.4.3 in /usr/local/lib/python3.8/dist-packages (from huggingface-hub<1.0,>=0.1.0->transformers) (4.7.1)\n",
            "Requirement already satisfied: fsspec in /usr/local/lib/python3.8/dist-packages (from huggingface-hub<1.0,>=0.1.0->transformers) (2023.6.0)\n",
            "Requirement already satisfied: certifi>=2017.4.17 in /usr/local/lib/python3.8/dist-packages (from requests->transformers) (2023.7.22)\n",
            "Requirement already satisfied: idna<4,>=2.5 in /usr/local/lib/python3.8/dist-packages (from requests->transformers) (3.4)\n",
            "Requirement already satisfied: charset-normalizer<4,>=2 in /usr/local/lib/python3.8/dist-packages (from requests->transformers) (3.2.0)\n",
            "Requirement already satisfied: urllib3<3,>=1.21.1 in /usr/local/lib/python3.8/dist-packages (from requests->transformers) (2.0.4)\n",
            "Requirement already satisfied: six in /usr/lib/python3/dist-packages (from sacremoses->transformers) (1.16.0)\n",
            "Requirement already satisfied: click in /usr/local/lib/python3.8/dist-packages (from sacremoses->transformers) (8.1.6)\n",
            "Requirement already satisfied: joblib in /usr/local/lib/python3.8/dist-packages (from sacremoses->transformers) (1.3.2)\n",
            "\u001b[33mWARNING: Running pip as the 'root' user can result in broken permissions and conflicting behaviour with the system package manager. It is recommended to use a virtual environment instead: https://pip.pypa.io/warnings/venv\u001b[0m\u001b[33m\n",
            "\u001b[0m"
          ]
        }
      ]
    },
    {
      "cell_type": "markdown",
      "source": [
        "\n",
        "\n",
        "\n",
        "#### Add a click function in console to stop Google Collab from timing out\n",
        "#### NOTE: This does not work as google only gives 90min time on free plan, capcha box will appear and clicker no longer works as of 2023\n",
        "\n",
        "#### Declare function\n",
        "function ConnectButton() {\n",
        "    console.log(\"Working\");\n",
        "    document.querySelector(\"colab-toolbar-button\").click();\n",
        "}\n",
        "\n",
        "#### Define Function\n",
        "var connect = setInterval(ConnectButton, 100);\n",
        "\n",
        "\n",
        "#### stop\n",
        "clearInterval(connect)\n",
        "\n",
        "#### call back\n",
        "#### Define Function\n",
        "var connect = setInterval(ConnectButton, 100);\n"
      ],
      "metadata": {
        "id": "XD4oDLY34Vpf"
      }
    },
    {
      "cell_type": "code",
      "source": [
        "#Run the code\n",
        "!./Generation_Quick.sh"
      ],
      "metadata": {
        "colab": {
          "base_uri": "https://localhost:8080/"
        },
        "id": "XBtK7CP3z0nk",
        "outputId": "ce1778cf-d5e8-41f0-8686-1bc8b7d43e64"
      },
      "execution_count": null,
      "outputs": [
        {
          "output_type": "stream",
          "name": "stdout",
          "text": [
            "Downloading: 100% 1.59k/1.59k [00:00<00:00, 7.58MB/s]\n",
            "Downloading: 100% 971M/971M [00:24<00:00, 42.0MB/s]\n",
            "Downloading: 100% 878k/878k [00:00<00:00, 17.2MB/s]\n",
            "Downloading: 100% 446k/446k [00:00<00:00, 10.7MB/s]\n",
            "Downloading: 100% 26.0/26.0 [00:00<00:00, 116kB/s]\n",
            "Downloading: 100% 878k/878k [00:00<00:00, 9.64MB/s]\n",
            "Downloading: 100% 446k/446k [00:00<00:00, 6.50MB/s]\n",
            "Downloading: 100% 481/481 [00:00<00:00, 2.61MB/s]\n",
            "Downloading: 100% 478M/478M [00:12<00:00, 40.4MB/s]\n",
            "Some weights of the model checkpoint at roberta-base were not used when initializing RobertaModel: ['lm_head.bias', 'lm_head.layer_norm.bias', 'lm_head.decoder.weight', 'lm_head.layer_norm.weight', 'lm_head.dense.bias', 'lm_head.dense.weight']\n",
            "- This IS expected if you are initializing RobertaModel from the checkpoint of a model trained on another task or with another architecture (e.g. initializing a BertForSequenceClassification model from a BertForPreTraining model).\n",
            "- This IS NOT expected if you are initializing RobertaModel from the checkpoint of a model that you expect to be exactly identical (initializing a BertForSequenceClassification model from a BertForSequenceClassification model).\n",
            "train epoch:  0\n",
            "Batch_loss $1.6928:   2% 999/64822 [05:09<5:46:17,  3.07it/s]999\n",
            "Thank you. Matthew 25:34-45 is my favorite passage of the entire Bible, Jewish or Christian Scriptures -- and I'm Jewish. In 12 verses, Jesus of Nazareth sums up the entirety of the Jewish prophets' social justice message.\n",
            "\n",
            "Thank you. Matthew 25:3445 favorite passage of the entire, or Scriptures -- and I'm. In 12 verses of Naz sums up the entirety of the prophets justice message.\n",
            "\n",
            "Thank you. Matthew 25:34-45 is my favorite passage of the entire Bible, Bible or Gospel Scriptures -- and I'm Catholic. In 12 verses Gospel of Nazareth he sums up the entirety of the prophets social justice message.\n",
            "Batch_loss $1.2650:   3% 1999/64822 [10:19<5:27:11,  3.20it/s]1999\n",
            "The snowflakes were out.\n",
            "\n",
            "Theflakes out.\n",
            "\n",
            "The whiteflakes are out.\n",
            "Batch_loss $1.1101:   5% 2999/64822 [15:29<5:28:20,  3.14it/s]2999\n",
            "Seems the wrong man got shot. Why feed squirrels? What is happening in this country when you can't shoot someone in the back anymore? They are coming for our guns next.\n",
            "\n",
            "Seems the. Why squirrels? What is happening in this country when you can't shoot in the anymore? They are coming for next.\n",
            "\n",
            "Seems the man. Why kill squirrels? What is happening in this country when you can't shoot a man in the head anymore? They are coming for us next.\n",
            "Batch_loss $1.0194:   6% 3999/64822 [20:42<5:31:30,  3.06it/s]3999\n",
            "OMG the Commander of Chief doesn't even have command of his own White House.  The President's closest advisors Ivanka & Jared's recommendation failed.  But the Trumpster's still love him and so does Fox News.  And they thought he was an outstanding hire, outstanding.\n",
            "\n",
            "G the of doesn't even have of own.  The's closest advisors Jared's recommendation failed.  But the Trumpster's still love and so does.  And they thought was an outstanding, outstanding.\n",
            "\n",
            "G the President of the United States doesn't even have one of his own lawyers.  The President's closest advisors  Jared's recommendation failed.  And they thought he was an outstanding lawyer, outstanding.  But the Trumpster's still love him and so does white supremacists.\n",
            "Batch_loss $0.9606:   8% 4999/64822 [25:55<5:13:21,  3.18it/s]4999\n",
            "Putin hacked the polls because Hillary tried to throw Putin under the bus during his last election...what goes around comes around!\n",
            "\n",
            " the because tried to throw under the bus during his last...what goes around comes around!\n",
            "\n",
            "All the more because Obama tried to throw him under the bus during his last election...what goes around comes around!\n",
            "Batch_loss $0.9202:   9% 5999/64822 [31:06<4:55:28,  3.32it/s]5999\n",
            "NAMBLA supported Hillary. Does that mean Hillary made pedophelia respectable? If\n",
            "\n",
            "A supported. Does that mean made pedopia respectable? If\n",
            "\n",
            "A supported him. Does that mean he made pedopublica respectable? If\n",
            "Batch_loss $0.8976:  11% 6999/64822 [36:19<4:48:00,  3.35it/s]6999\n",
            "Heil Putin, huh, Comrade.\n",
            "\n",
            "Heil, huh,.\n",
            "\n",
            "Heilin, huh, right.\n",
            "Batch_loss $0.8732:  12% 7999/64822 [41:31<4:48:22,  3.28it/s]7999\n",
            "You are lying again, Richard Wright.  The article is clear:  \"...resignations from presidentially appointed positions.\"\n",
            "\n",
            " are again,.  The article is clear:  \"...resations from appointed positions.\"\n",
            "\n",
            "Democrats are lying again, Hillary.  The article is clear:  \"...resorting from elected appointed positions.\"\n",
            "Batch_loss $0.8534:  14% 8999/64822 [46:44<4:39:12,  3.33it/s]8999\n",
            "Washington Redskins  fan?\n",
            "\n",
            "?\n",
            "\n",
            "What happened?\n",
            "Batch_loss $0.8393:  15% 9999/64822 [51:54<4:45:50,  3.20it/s]9999\n",
            "Empty accusations are your calling card and your lies gain you nothing but an uptick in deceit. WTUI, writing trash while under the influence is just waste management. Get a life comrade.\n",
            "\n",
            " accusations calling card and your gain you but an uptick in. WTUI, writing trash while under the influence is just management. Get a comrade.\n",
            "\n",
            "Your accusations are your calling card and your not gonna gain you anything but an uptick in traffic. WTUI, writing trash while under the influence is just time management. Get a life comrade.\n",
            "Batch_loss $0.8273:  17% 10999/64822 [57:04<4:22:45,  3.41it/s]10999\n",
            "Just what the 6th CD needs: a rich, white, east coast, ivy league, Washington insider from a political dynasty... Apparently the elite, Democratic donor-class cares less about winning control of Congress and more about building name recognition for their kids, grandkids, nieces and nephews.\n",
            "\n",
            "Just what the 6th CD needs: a,,,y, insider from a political dynasty... the elite, donor- cares less about winning control of Congress and more about building for,kids, nie ands.\n",
            "\n",
            "Just what the 6th CD needs: a white, male, rich, elitist, ney ney white insider from a political dynasty... from the elite, white donor-machine who cares less about winning control of Congress and more about building mansions for his wife, his kids, nie\n",
            "Batch_loss $0.8156:  19% 11999/64822 [1:02:18<4:24:57,  3.32it/s]11999\n",
            "\"I need a girlfriend who can keep up\" and \"I'm going to be bored.\" Do both of yourselves a favor and find another girlfriend because you clearly don't really care about her.\n",
            "\n",
            "\" need who can keep\" and \"'m going to bored.\" Do both of a favor and find another because you don't really care about.\n",
            "\n",
            "\"I need someone who can keep up\" and \"I'm going to be bored.\" Do both of you a favor and find another job because you really don't really care about your job.\n",
            "Batch_loss $0.8058:  20% 12999/64822 [1:07:32<4:21:46,  3.30it/s]12999\n",
            "First of all maybe she simply had nothing to say. Ignoring useless people is normal, not racism. Secondly perhaps she should respect the  heritage of the institution. If pictures of old white guys offend her maybe she is simply a racist.  Time to start ignoring this broken record.\n",
            "\n",
            "First of all maybe simply nothing to say. Ignoring people is normal, not. Secondly should respect the  heritage of the institution. If pictures of offend her maybe is simply a.  Time to start ignoring this broken record.\n",
            "\n",
            "First of all maybe she simply had nothing to say. Secondly she should respect the  heritage of the institution. Ignoring white people is normal, not racist. If pictures of white people offend her maybe she is simply a racist.  Time to start ignoring this broken record.\n",
            "Batch_loss $0.7966:  22% 13999/64822 [1:12:44<4:37:11,  3.06it/s]13999\n",
            "I have two white male sons of this age and that is literally the last thing that I worry about.\n",
            "\n",
            "I have sons this and that literally the last thing that I worry about.\n",
            "\n",
            "I have two white sons in this country and that is literally the last thing that I worry about.\n",
            "Batch_loss $0.7892:  23% 14999/64822 [1:17:58<4:20:20,  3.19it/s]14999\n",
            "If Trump wants the media to stop, then he should quit engaging them.  It's just too easy to elicit a rise from the man, and he falls for it every time.\n",
            "\n",
            "If wants the to stop, then he should quit engaging them.  It's too easy to elicit a rise from the, and falls for it every time.\n",
            "\n",
            "If he wants the men to stop, then he should quit engaging them.  It's just too easy to elicit a rise from the men, and he falls for it every time.\n",
            "Batch_loss $0.7823:  25% 15999/64822 [1:23:08<4:26:22,  3.05it/s]15999\n",
            "What does giving Trump a pass on doing something that you essentially labeled a crime when Hillary did it have to do with undoing Obama-era policy?  Are you telling me that such a task can't be completed by Trump without doing something that you labeled as criminal?  You're too funny.\n",
            "\n",
            "What does giving a on doing something that essentially labeled a when it have to do with undoing-era policy? you telling me that such a task can't be completed by Trump without doing something that you labeled as?  You're.\n",
            "\n",
            "What does giving Trump a free pass on doing something that he was essentially labeled a dictator when he was President it have to do with undoing Obama-era policy?  Are you telling me that such a task can't be completed by Trump?  You're right.\n",
            "Batch_loss $0.7761:  26% 16999/64822 [1:28:22<3:41:52,  3.59it/s]16999\n",
            "Not other people...Just you.\n",
            "\n",
            "...Just you.\n",
            "\n",
            "Yes...Just you.\n",
            "Batch_loss $0.7707:  28% 17999/64822 [1:33:33<4:09:49,  3.12it/s]17999\n",
            "Hillary has a 9 ft wall around her property to keep illegals out...... check it......  http://www.theamericanmirror.com/photos-hillary-clintons-protective-wall-around-chappaqua-estate/\n",
            "\n",
            " has a 9 ft around property to keep out...... check it......  http://www.themir.com/photos--cl-protective-wall-around-appa-/\n",
            "\n",
            "She has a 9 ft wall around her property to keep people out...... check it......  http://www.themirage.com/photos-her-climax-protective-wall-around- her-home/\n",
            "Batch_loss $0.7656:  29% 18999/64822 [1:38:45<3:44:06,  3.41it/s]18999\n",
            "I'm all for that, as long as we ban Christianity and all other sky fairy daddy religions too.\n",
            "\n",
            "I'm all for that, as long as we ban and all other sky fairy too.\n",
            "\n",
            "I'm all for that, as long as we ban Jesus and all other sky fairy saints too.\n",
            "Batch_loss $0.7609:  31% 19999/64822 [1:43:55<3:59:33,  3.12it/s]19999\n",
            "Agree!  100%\n",
            "\n",
            "Ag!%\n",
            "\n",
            "Agree! 100%\n",
            "Batch_loss $0.7568:  32% 20999/64822 [1:49:05<3:28:50,  3.50it/s]20999\n",
            "No way Karllson is the best. Too weak in his own zone when the other guys have the puck.\n",
            "\n",
            "No way Karll is the best. Too in own when the other have the puck.\n",
            "\n",
            "No way Karllas is the best. Too bad he lost in his own mind when the other guys have the puck.\n",
            "Batch_loss $0.7533:  34% 21999/64822 [1:54:17<3:48:05,  3.13it/s]21999\n",
            "\"A tale told by an idiot...\"\n",
            "\n",
            "\"A tale told by...\"\n",
            "\n",
            "\"A tale told by a young girl...\"\n",
            "Batch_loss $0.7494:  35% 22999/64822 [1:59:28<3:39:44,  3.17it/s]22999\n",
            "No I don't watch RT, I read selected articles that interest me on their web site to obtain a balanced POV. I do not recall any \"conspiracy theories and outright lies\" concerning the US election on their web site. Please feel free to provide them.\n",
            "\n",
            " don't watch, I read selected articles that interest on web site to obtain a balanced POV. I do not recall anyconspiracy theories and outright\" concerning the on their web site. feel free to provide them.\n",
            "\n",
            "I don't watch CNN, I read selected articles that interest me on their web site to obtain a balanced POV. I do not recall any \"conspiracy theories and outright lies\" concerning the Trump administration on them web site. I feel free to provide them.\n",
            "Batch_loss $0.7457:  37% 23999/64822 [2:04:39<3:22:57,  3.35it/s]23999\n",
            "Now those on the top want to protect themselves from a competition, this is very narrowminded. Cooking doesn't require special skills, almost everyone does it daily. Patrons decide with their money if a restaurant deserve to exist.\n",
            "\n",
            "Now on the want to themselves from a competition, this is very. doesn require almost does it daily. Pat decide with their money if a deserve to exist.\n",
            "\n",
            "Now the people on the left want to separate themselves from a competition, this is very silly.  Voting doesn't require voting almost everyone does it daily. Patriots decide with their money if a few deserve to exist.\n",
            "Batch_loss $0.7424:  39% 24999/64822 [2:09:50<3:06:11,  3.56it/s]24999\n",
            "WOW!!!  Glad everyone is okay including the bear.\n",
            "\n",
            "OW!!! is the.\n",
            "\n",
            "WOW!!!  This is not the internet.\n",
            "Batch_loss $0.7398:  40% 25999/64822 [2:15:01<3:36:44,  2.99it/s]25999\n",
            "Syd's mom predeceased him, and he continued to live in her home by himself after she died.  I should have also mentioned that he continued with his art work.  The point was directing energy to peaceful means--not whether any person was an invalid.\n",
            "\n",
            "Syd's predeceased, and continued to live in her home by himself after.  I should have also mentioned that continued with his work. The point directing energy to peaceful means--not whether any.\n",
            "\n",
            "Syd's wife predeceased him, and he continued to live in her home by himself after her death.  I should have also mentioned that he continued with his family work.  The point was directing energy to peaceful means--not whether any one was alive.\n",
            "Batch_loss $0.7369:  42% 26999/64822 [2:20:12<3:17:57,  3.18it/s]26999\n",
            "Sins of the father? Fred Trump...KKK member and fraudster. His father Friedrich Drumpf? Made his fortune as a pimp and brothel owner, exploiting women. Good to see Freidrich's grandson getting lectured on manners and integrity  by women...\n",
            "\n",
            " the? Fred Trump...KKK member and fraudster. His Friedrich Drumpf? Made his fortune as a pimp andthel owner, exploiting. Good to see Freidrich's grandson getting lectured on and integrity by...\n",
            "\n",
            "Where in the world? Fred Trump...KKK member and fraudster. His grandfather Friedrich Drumpf? Made his fortune as a pimp and brothel owner, exploiting women. Good to see Freidrich's grandson getting lectured on morality and integrity  by the media...\n",
            "Batch_loss $0.7344:  43% 27999/64822 [2:25:26<3:02:28,  3.36it/s]27999\n",
            "You don't create productivity from government fiat.\n",
            "\n",
            " don create productivity from fiat.\n",
            "\n",
            "Don't don't create productivity from human fiat.\n",
            "Batch_loss $0.7320:  45% 28999/64822 [2:30:35<3:11:45,  3.11it/s]28999\n",
            "And despite all that, the allegedly \"leftist\" DP actually endorsed him at least once.\n",
            "\n",
            "And despite all that, the allegedly\" DP actually endorsed at least once.\n",
            "\n",
            "And despite all that, the allegedly \"liberal\" DP actually endorsed him at least once.\n",
            "Batch_loss $0.7294:  46% 29999/64822 [2:35:46<3:10:29,  3.05it/s]29999\n",
            "Immigration!!!  Too high.  Too many women (we have more women under 50 than men).  Too easy to sponsor young women without being married.\n",
            "\n",
            "igration!!!  Too high.  Too many (we have more under 50 than).  Too easy to sponsor without being.\n",
            "\n",
            "Immigration!!!  Too high.  Too many women (we have more women under 50 than men).  Too easy to sponsor a child without being pregnant.\n",
            "Batch_loss $0.7268:  48% 30999/64822 [2:40:58<2:46:29,  3.39it/s]30999\n",
            "Cory Gardner has failed to govern as a moderate.\n",
            "\n",
            "C Gardner has to as a.\n",
            "\n",
            "Cory Gardner has nothing to do as a Republican.\n",
            "Batch_loss $0.7247:  49% 31999/64822 [2:46:08<2:37:18,  3.48it/s]31999\n",
            "Mike objects to gay sex because it's \"icky\". He thinks this justifies his fear and loathing of gays. He reads the gospel as saying, \"You shall love your neighbor as yourself, unless the neighbor is gay. That neighbor you shall loathe.\"\n",
            "\n",
            " objects to because it's \"\". thinks this justifies his fear and loathing of. He reads the as saying, \" shall love your neighbor as, unless the neighbor is. That neighbor you shall loathe.\"\n",
            "\n",
            "He objects to gay marriage because it's \"gay marriage\". He thinks this justifies his fear and loathing of gays. He reads the Bible as saying, \"You shall love your neighbor as yourself, unless the neighbor is gay. That neighbor you shall loathe.\"\n",
            "Batch_loss $0.7227:  51% 32999/64822 [2:51:19<2:28:22,  3.57it/s]32999\n",
            "Just remembered the \"Potty-Peeper\" who hid in the collection tank of a portapotty to peep on women as they relieved themselves at a yoga festival in Boulder several years back... seems like a match made in hell.\n",
            "\n",
            " remembered the \"-Peeper\" who in the collection tank of a portapotty to peep on as they relieved themselves at a festival in Boulder several years back... seems like a made in.\n",
            "\n",
            "I remembered the \"Peeper\" who stood in the collection tank of a portapotty to peep on women as they relieved themselves at a cannabis festival in Boulder several years back... seems like a joke he made in Boulder.\n",
            "Batch_loss $0.7207:  52% 33999/64822 [2:56:32<2:38:25,  3.24it/s]33999\n",
            "no, Canada is fronting costs for a private enterprise that will pay the resulting revenues to Canada so that they recoup those costs\n",
            "\n",
            "no, is fronting costs for a that pay the resulting revenues so that recoup those costs\n",
            "\n",
            "no, he is fronting costs for a corporation that will pay the resulting revenues directly so that he can recoup those costs\n",
            "Batch_loss $0.7183:  54% 34999/64822 [3:01:45<2:33:04,  3.25it/s]34999\n",
            "And if the whole FIASCO was managed professionally, competently and HONESTLY, the Leg wouldn't even have to be a factor.   But we know how your boss the part-time mayor loves to deflect responsibility.\n",
            "\n",
            "And if whole was, competently HONESTLY, the Leg wouldn't even have to be a factor. But we know how your the-time loves to deflect.\n",
            "\n",
            "And if this whole thing was done, competently and HONESTLY, the Leg wouldn't even have to be a factor.  But we know how your guy the part-time politician loves to deflect blame.\n",
            "Batch_loss $0.7163:  56% 35999/64822 [3:06:58<2:21:05,  3.40it/s]35999\n",
            "Hillary didn't have to use the term deplorable.  People like you already owned that adjective.\n",
            "\n",
            " didn't have to use the term. like you already owned that adjective.\n",
            "\n",
            "You didn't have to use the term racist. Seems like you already owned that adjective.\n",
            "Batch_loss $0.7147:  57% 36999/64822 [3:12:10<2:27:51,  3.14it/s]36999\n",
            "All this suggests to me the emphasis on good financial planning to reach a level of financial security by around 55.  You have maybe 20 good years in the work force to do it, from about 30 to 50.  After that, it gets iffy as many have pointed out.\n",
            "\n",
            "All this suggests to the emphasis on good to a level of by. have 20 good the to do it, from about 30 to 50.  After that, it gets iffy as many have pointed out.\n",
            "\n",
            "All this suggests to me the emphasis on good health care needs to rise to a level of care by many.  We have about 20 good people to do it, from about 30 to 50.  After that, it gets iffy as many have pointed out.\n",
            "Batch_loss $0.7130:  59% 37999/64822 [3:17:22<2:16:54,  3.27it/s]37999\n",
            "Denver Post fact checking is like having 2 wolves and a sheep deciding on whats for dinner.\n",
            "\n",
            " Post is like having and a sheep deciding on whats for dinner.\n",
            "\n",
            "The Denver Post article is like having two dogs and a sheep deciding on whats for dinner.\n",
            "Batch_loss $0.7115:  60% 38999/64822 [3:22:32<2:13:56,  3.21it/s]38999\n",
            "It will be built, it just won't be built here and the telescopes and industries that support them will migrate to the Canary Islands and Chile and India and...Hawaii Island's economy will be based on tourists and our kids making their beds...\n",
            "\n",
            "It will be built, it won be built and the telescopes and that support them will to the and and and..Hawaii's will be based on tourists and making their beds..\n",
            "\n",
            "It will be built, it certainly won't be built in Hawaii and the telescopes and telescopes that support them will come to the mainland and Hawaii and..Hawaii's economy will be based on tourists and people making their beds. .\n",
            "Batch_loss $0.7101:  62% 39999/64822 [3:27:43<2:08:33,  3.22it/s]39999\n",
            "Obviously you've never participated in litigation against the state. They are shameless in withholding discovery that should be automatically provided and shameless in lying about its existence.\n",
            "\n",
            "'ve participated in against the. are shameless in withholding discovery that should be automatically provided and in about its existence.\n",
            "\n",
            "I've never participated in violence against the police. They are shameless in withholding discovery that should be automatically provided and they live in denial about its existence.\n",
            "Batch_loss $0.7088:  63% 40999/64822 [3:32:54<1:58:38,  3.35it/s]40999\n",
            "Long live the Pope!\n",
            "\n",
            " live the!\n",
            "\n",
            "Jesus live the Gospel!\n",
            "Batch_loss $0.7072:  65% 41999/64822 [3:38:04<1:55:40,  3.29it/s]41999\n",
            "\"D\" socialism comedy at it finest!   The problem with socialism is that you eventually run out of other people’s money. LOL\n",
            "\n",
            "\"D\" at it finest!  The problem with is that eventually run out of otherâĢs money. LOL\n",
            "\n",
            "\"D\" humor at it finest!   The problem with Trump is that he will eventually run out of other people’s money. LOL\n",
            "Batch_loss $0.7059:  66% 42999/64822 [3:43:15<1:48:21,  3.36it/s]42999\n",
            "Tony Romo.  That is all.\n",
            "\n",
            ".  That is all.\n",
            "\n",
            "Exactly.  That is all.\n",
            "Batch_loss $0.7047:  68% 43999/64822 [3:48:26<1:50:28,  3.14it/s]43999\n",
            "Goatie?  I sure hope you're calling your elits (sic).  Let me know when you're ready for my PO Box#.\n",
            "\n",
            "?  I hope you're ().  Let me know when you're ready for PO Box#.\n",
            "\n",
            "Why?  I sure hope you're right (sic).  Let me know when you're ready for my PO Box#.\n",
            "Batch_loss $0.7032:  69% 44999/64822 [3:53:38<1:49:58,  3.00it/s]44999\n",
            "And yet he still managed to accomplish more. Says more about Obama then Trump.\n",
            "\n",
            " yet still managed to accomplish. Says more about then Trump.\n",
            "\n",
            "And yet he still managed to accomplish nothing. Says more about him then Trump.\n",
            "Batch_loss $0.7020:  71% 45999/64822 [3:58:47<1:38:20,  3.19it/s]45999\n",
            "You don't deserve your freedoms, coward.\n",
            "\n",
            " don't deserve your,.\n",
            "\n",
            "You don't deserve your job, John.\n",
            "Batch_loss $0.7009:  73% 46999/64822 [4:04:00<1:34:22,  3.15it/s]46999\n",
            "Looks like we're being held hostage by NCAA, which is not the institution that sets and meets our mission as UA. In tough budget times, that's one of the first external holds that should be broken.\n",
            "\n",
            "Looks like're being held by which is the that sets and meets our mission as. In tough times, that's one of the first holds that should be broken.\n",
            "\n",
            "Looks like we're being held accountable by our church which is not the church that sets and meets our mission as Christians. In tough economic times, that's one of the first church holds that should be broken.\n",
            "Batch_loss $0.6998:  74% 47999/64822 [4:09:14<1:26:07,  3.26it/s]47999\n",
            "A pillar of Breitbart thinks pedophilia is just fine. I hope he ends up behind bars.\n",
            "\n",
            "A pillar of thinks is just fine. I hope ends up behind bars.\n",
            "\n",
            "A pillar of civilization thinks he is just fine. I hope he ends up behind bars.\n",
            "Batch_loss $0.6984:  76% 48999/64822 [4:14:29<1:16:31,  3.45it/s]48999\n",
            "Yet another demand from the feminist agenda to drain the federal treasury.\n",
            "\n",
            "Yet another demand from the agenda to drain the treasury.\n",
            "\n",
            "Yet another demand from the feminist agenda to drain the state treasury.\n",
            "Batch_loss $0.6973:  77% 49999/64822 [4:19:38<1:11:52,  3.44it/s]49999\n",
            "I'd guess most Americans would want Medicare for all if they knew the facts.\n",
            "\n",
            "I'd guess most would want for if they knew the.\n",
            "\n",
            "I'd guess most people would want to vote for him if they knew the truth.\n",
            "Batch_loss $0.6958:  79% 50999/64822 [4:24:49<1:16:41,  3.00it/s]50999\n",
            "I also feel sorry for the black lady as KPMG gives a ton of weights to her to deal with messes made by previous officials.\n",
            "\n",
            "I also feel sorry for the as KPMG gives a ton of weights to her to deal with messes made by previous officials.\n",
            "\n",
            "I also feel sorry for the woman as KPMG gives a ton of weights to her to deal with messes made by previous officials.\n",
            "Batch_loss $0.6946:  80% 51999/64822 [4:30:01<1:08:14,  3.13it/s]51999\n",
            "I'm not a fan of Rand either, but I'd probably take a Rand fan over our current leader who remarks of his great admiration for the works of Castro and the Chinese communists.\n",
            "\n",
            "I'm not a fan of Rand either, but I probably take a Rand fan over our current leader who remarks of his great admiration for the works of.\n",
            "\n",
            "I'm not a fan of Rand either, but I'd probably take a Rand fan over our current leader who remarks of his great admiration for the works of the Chinese.\n",
            "Batch_loss $0.6935:  82% 52999/64822 [4:35:12<58:59,  3.34it/s]52999\n",
            "bizarre comment.  Illegal Islamic immigrants in Hawaii total about zero in number.  Moreover, Islam has a prominent role for hard- working small business people.  Hawaii could use a lot more of the immigrants who come here to work hard, pay taxes and contribute.\n",
            "\n",
            "bizarre comment. in total about zero in number.  Moreover, has a prominent role for hard- working small. use a lot more of the who come here to work hard, pay taxes and contribute.\n",
            "\n",
            "bizarre comment. Muslims in Canada total about zero in number.  Moreover, Canada has a prominent role for hard- working small business people.  We could use a lot more of the people who come here to work hard, pay taxes and contribute.\n",
            "Batch_loss $0.6926:  83% 53999/64822 [4:40:26<57:52,  3.12it/s]53999\n",
            "The MSM is absolutely corrupt and the Globe has lost all credibility. Period.\n",
            "\n",
            "The is and the has lost all credibility. Period.\n",
            "\n",
            "The media is corrupt and the media has lost all credibility. Period.\n",
            "Batch_loss $0.6916:  85% 54999/64822 [4:45:35<51:57,  3.15it/s]54999\n",
            "Call governor Hickenlooper, he has a home ready for all of them.\n",
            "\n",
            "Call Hlooper, has a ready for all of.\n",
            "\n",
            "Call Governor Hickenlooper, he has a job ready for all of us.\n",
            "Batch_loss $0.6907:  86% 55999/64822 [4:50:46<47:45,  3.08it/s]55999\n",
            "He's trolling you,  WolfEagle,    Ignore him, and he'll seek attention to himself somewhere else.\n",
            "\n",
            "'s trolling you,E, him, and'll seek to somewhere else.\n",
            "\n",
            "He's trolling you, JEFT, who hates him, and you'll seek sanctuary to live somewhere else.\n",
            "Batch_loss $0.6898:  88% 56999/64822 [4:55:56<42:10,  3.09it/s]56999\n",
            "And yet that is what the law (at least in the US) demands. There was a story about this in, IIRC, Who Stole Feminism, in which a delay of about 20 seconds was too much.\n",
            "\n",
            "And yet that is what the (at least in the) demands. There a story about this in, IIRC, St, in which a delay of about 20 seconds too much.\n",
            "\n",
            "And yet that is what the media (at least in the US) demands. There was a story about this in, IIRC, the St Louis Times, in which a delay of about 20 seconds was too much.\n",
            "Batch_loss $0.6888:  89% 57999/64822 [5:01:08<34:55,  3.26it/s]57999\n",
            "But if you did have $400k to buy at the Tate, and if you'd gotten in early, you would be enjoying a free ride under MUPTE....\n",
            "\n",
            "But if havek to buy at the, and if you'd gotten, you would be enjoying a rideTE....\n",
            "\n",
            "But if you didn't have 10k to buy at the gas station, and if you'd gotten gas, you would be enjoying a free ride TO TEACHTE....\n",
            "Batch_loss $0.6877:  91% 58999/64822 [5:06:20<29:52,  3.25it/s]58999\n",
            "You don't understand art.  As of October 2016, \"the overall value of the market for the artist’s works sold in the last three years totals $252.7 million for 93 lots, giving us an average price of $2.7 million.\"\n",
            "\n",
            ".  As of October 2016, \"the overall value of the forâĢs works sold in the last years totals $252.7 million for 93 lots, giving an average price of $.7 million.\"\n",
            "\n",
            "Not true.  As of October 2016, \"the overall value of the property for the developer’s works sold in the last four years totals $252.7 million for 93 lots, giving him an average price of $1.7 billion.\"\n",
            "Batch_loss $0.6868:  93% 59999/64822 [5:11:32<26:58,  2.98it/s]59999\n",
            "When in Rome, do as the Romans do! In modern terms - assimilate!!!!\n",
            "\n",
            "When in, do as do! In modern terms - assimilate!!!!\n",
            "\n",
            "When in Canada, do as Canadians do! In modern terms - assimilate!!!!\n",
            "Batch_loss $0.6860:  94% 60999/64822 [5:16:44<20:38,  3.09it/s]60999\n",
            "Agree, seems suspect that an engine failure the day before would not prompt repairs before going back up.\n",
            "\n",
            "Agree, seems that an the before would not prompt repairs before going back.\n",
            "\n",
            "Agree, seems unlikely that an accident in the days before would not prompt repairs before going back to work.\n",
            "Batch_loss $0.6851:  96% 61999/64822 [5:21:56<14:18,  3.29it/s]61999\n",
            "Nope. He won't.\n",
            "\n",
            "Nope..\n",
            "\n",
            "Nope.  No.\n",
            "Batch_loss $0.6844:  97% 62999/64822 [5:27:07<09:20,  3.25it/s]62999\n",
            "Only steers and queers come from Texas, Private Cowboy!\n",
            "\n",
            "Only steers anders come from, Private!\n",
            "\n",
            "Only steers and homers come from gay, Private Schools!\n",
            "Batch_loss $0.6838:  99% 63999/64822 [5:32:18<04:07,  3.33it/s]63999\n",
            "I like the \"well regulated\" part.\n",
            "\n",
            " like the\" part.\n",
            "\n",
            "I like the \"fake news\" part.\n",
            "Batch_loss $0.6831: 100% 64822/64822 [5:36:33<00:00,  3.21it/s]\n",
            "Traceback (most recent call last):\n",
            "  File \"Bart_Label.py\", line 10, in <module>\n",
            "    train_generator(batch_size=3,max_length=64, lr=1e-5, epochs=3 ,mode=\"Bart\",attention_layer=10,\n",
            "  File \"/content/drive/MyDrive/fairness-feedback-nlp-master/Code/Transfer/Training/Training.py\", line 211, in train_generator\n",
            "    torch.save(model.state_dict(), save+str(epoch))\n",
            "  File \"/usr/local/lib/python3.8/dist-packages/torch/serialization.py\", line 377, in save\n",
            "    with _open_file_like(f, 'wb') as opened_file:\n",
            "  File \"/usr/local/lib/python3.8/dist-packages/torch/serialization.py\", line 231, in _open_file_like\n",
            "    return _open_file(name_or_buffer, mode)\n",
            "  File \"/usr/local/lib/python3.8/dist-packages/torch/serialization.py\", line 212, in __init__\n",
            "    super(_open_file, self).__init__(open(name, mode))\n",
            "OSError: [Errno 107] Transport endpoint is not connected: 'generations/Bart_test_label_attention_mean_640'\n",
            "shell-init: error retrieving current directory: getcwd: cannot access parent directories: Transport endpoint is not connected\n",
            "python3: can't open file 'Transfer.py': [Errno 107] Transport endpoint is not connected\n",
            "shell-init: error retrieving current directory: getcwd: cannot access parent directories: Transport endpoint is not connected\n",
            "python3: can't open file 'Transfer_WR_Full.py': [Errno 107] Transport endpoint is not connected\n",
            "shell-init: error retrieving current directory: getcwd: cannot access parent directories: Transport endpoint is not connected\n",
            "python3: can't open file 'Transfer_WR_50.py': [Errno 107] Transport endpoint is not connected\n"
          ]
        }
      ]
    },
    {
      "cell_type": "code",
      "source": [],
      "metadata": {
        "id": "PF_-Af-B4dN-"
      },
      "execution_count": null,
      "outputs": []
    },
    {
      "cell_type": "markdown",
      "source": [
        "##**Train the transfer pipeline and generate pairs using style transfer and word replacement.**\n",
        "###Results are found in folders Code/generations.\n",
        "######Note: Generating modified comments for all original comments in the dataset can take a long time.\n"
      ],
      "metadata": {
        "id": "rvcBw6OL0vWm"
      }
    },
    {
      "cell_type": "code",
      "source": [
        "#!chmod +x Tables.sh"
      ],
      "metadata": {
        "id": "kFJYZkkr26EZ"
      },
      "execution_count": null,
      "outputs": []
    },
    {
      "cell_type": "code",
      "source": [
        "#!./Tables.sh"
      ],
      "metadata": {
        "id": "6wmlzx4A7Y3T"
      },
      "execution_count": null,
      "outputs": []
    },
    {
      "cell_type": "code",
      "source": [],
      "metadata": {
        "id": "cLOLgQsZ4OkV"
      },
      "execution_count": null,
      "outputs": []
    },
    {
      "cell_type": "code",
      "source": [],
      "metadata": {
        "id": "Lq22K-Aw-2SI"
      },
      "execution_count": null,
      "outputs": []
    }
  ]
}
