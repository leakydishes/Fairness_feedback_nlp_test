{
  "nbformat": 4,
  "nbformat_minor": 0,
  "metadata": {
    "colab": {
      "provenance": [],
      "gpuType": "T4",
      "mount_file_id": "1jixwOITC2bjIzZRc388tdtr1wOYlxE2f",
      "authorship_tag": "ABX9TyMmo3YPXzPtw4xYKZe+ZgBx",
      "include_colab_link": true
    },
    "kernelspec": {
      "name": "python3",
      "display_name": "Python 3"
    },
    "language_info": {
      "name": "python"
    }
  },
  "cells": [
    {
      "cell_type": "markdown",
      "metadata": {
        "id": "view-in-github",
        "colab_type": "text"
      },
      "source": [
        "<a href=\"https://colab.research.google.com/github/leakydishes/Fairness_feedback_nlp_test/blob/main/Fairness_feedback_nlp_test3.ipynb\" target=\"_parent\"><img src=\"https://colab.research.google.com/assets/colab-badge.svg\" alt=\"Open In Colab\"/></a>"
      ]
    },
    {
      "cell_type": "markdown",
      "source": [
        "#**Deakin University Internship 2023**\n",
        "##Human-Guided Fair Classification for NLP\n",
        "#####Te' Claire\n",
        "\n",
        "*@inproceedings{\n",
        "dorner2023humanguided,\n",
        "title={Human-Guided Fair Classification for Natural Language Processing},\n",
        "author={Florian E. Dorner and Momchil Peychev and Nikola Konstantinov and Naman Goel and Elliott Ash and Martin Vechev},\n",
        "booktitle={The Eleventh International Conference on Learning Representations },\n",
        "year={2023},\n",
        "url={https://openreview.net/forum?id=N_g8TT9Cy7f}\n",
        "}*"
      ],
      "metadata": {
        "id": "1krF2sLeA9Ip"
      }
    },
    {
      "cell_type": "markdown",
      "source": [
        "##**Step 1. Mount Google Drive**"
      ],
      "metadata": {
        "id": "rnMkrDpv5XY_"
      }
    },
    {
      "cell_type": "code",
      "source": [
        "from google.colab import drive\n",
        "drive.mount('/content/drive')"
      ],
      "metadata": {
        "colab": {
          "base_uri": "https://localhost:8080/"
        },
        "id": "wuts1xQ2_yPd",
        "outputId": "62459e3f-5d45-4f64-a465-2b537172f6f8"
      },
      "execution_count": 1,
      "outputs": [
        {
          "output_type": "stream",
          "name": "stdout",
          "text": [
            "Drive already mounted at /content/drive; to attempt to forcibly remount, call drive.mount(\"/content/drive\", force_remount=True).\n"
          ]
        }
      ]
    },
    {
      "cell_type": "markdown",
      "source": [
        "##**Step 2.Download the train.csv file from the Civil comments dataset to Code/Datasets/Kaggle_Toxicity**\n",
        "####Set up a virtual environment with the required packages"
      ],
      "metadata": {
        "id": "riJuKYPvAzPR"
      }
    },
    {
      "cell_type": "markdown",
      "source": [
        "####Note: Google Colab already has Python pre-installed therefore you don't need to create a virtual environment. Instead install dependencies."
      ],
      "metadata": {
        "id": "gg9i_BeQoFoT"
      }
    },
    {
      "cell_type": "code",
      "source": [
        "cd /content/drive/MyDrive/fairness-feedback-nlp-master/Code"
      ],
      "metadata": {
        "id": "2FKZmY_S5tzf",
        "colab": {
          "base_uri": "https://localhost:8080/"
        },
        "outputId": "2e1597c3-84fd-437e-d343-16062ce2f2c5"
      },
      "execution_count": 2,
      "outputs": [
        {
          "output_type": "stream",
          "name": "stdout",
          "text": [
            "/content/drive/MyDrive/fairness-feedback-nlp-master/Code\n"
          ]
        }
      ]
    },
    {
      "cell_type": "markdown",
      "source": [
        "####Install python 3.8 and update"
      ],
      "metadata": {
        "id": "Tu6ZHHic10Xr"
      }
    },
    {
      "cell_type": "code",
      "source": [
        "!sudo apt-get update\n",
        "!sudo apt-get install python3.8\n",
        "!python3.8 -m ensurepip --upgrade"
      ],
      "metadata": {
        "colab": {
          "base_uri": "https://localhost:8080/"
        },
        "id": "dfnHxFukotDq",
        "outputId": "52bcf73e-87f9-4040-8b63-db888fe1576f"
      },
      "execution_count": 3,
      "outputs": [
        {
          "output_type": "stream",
          "name": "stdout",
          "text": [
            "\r0% [Working]\r            \rGet:1 https://cloud.r-project.org/bin/linux/ubuntu jammy-cran40/ InRelease [3,626 B]\n",
            "\r0% [Waiting for headers] [Connecting to security.ubuntu.com] [1 InRelease 3,626\r0% [Waiting for headers] [Connecting to security.ubuntu.com] [Connecting to ppa\r                                                                               \rHit:2 http://archive.ubuntu.com/ubuntu jammy InRelease\n",
            "\r0% [Waiting for headers] [Connecting to security.ubuntu.com] [Connecting to ppa\r                                                                               \rHit:3 https://developer.download.nvidia.com/compute/cuda/repos/ubuntu2204/x86_64  InRelease\n",
            "Get:4 http://archive.ubuntu.com/ubuntu jammy-updates InRelease [119 kB]\n",
            "Get:5 http://archive.ubuntu.com/ubuntu jammy-backports InRelease [108 kB]\n",
            "Get:6 https://ppa.launchpadcontent.net/c2d4u.team/c2d4u4.0+/ubuntu jammy InRelease [18.1 kB]\n",
            "Get:7 http://archive.ubuntu.com/ubuntu jammy-updates/main amd64 Packages [1,092 kB]\n",
            "Get:8 http://security.ubuntu.com/ubuntu jammy-security InRelease [110 kB]\n",
            "Get:9 http://archive.ubuntu.com/ubuntu jammy-updates/restricted amd64 Packages [865 kB]\n",
            "Get:10 http://archive.ubuntu.com/ubuntu jammy-updates/universe amd64 Packages [1,231 kB]\n",
            "Get:11 http://security.ubuntu.com/ubuntu jammy-security/universe amd64 Packages [977 kB]\n",
            "Hit:12 https://ppa.launchpadcontent.net/deadsnakes/ppa/ubuntu jammy InRelease\n",
            "Get:13 http://security.ubuntu.com/ubuntu jammy-security/main amd64 Packages [823 kB]\n",
            "Hit:14 https://ppa.launchpadcontent.net/graphics-drivers/ppa/ubuntu jammy InRelease\n",
            "Hit:15 https://ppa.launchpadcontent.net/ubuntugis/ppa/ubuntu jammy InRelease\n",
            "Get:16 https://ppa.launchpadcontent.net/c2d4u.team/c2d4u4.0+/ubuntu jammy/main Sources [2,159 kB]\n",
            "Fetched 7,506 kB in 3s (2,215 kB/s)\n",
            "Reading package lists... Done\n",
            "Reading package lists... Done\n",
            "Building dependency tree... Done\n",
            "Reading state information... Done\n",
            "The following additional packages will be installed:\n",
            "  libpython3.8-minimal libpython3.8-stdlib mailcap mime-support\n",
            "  python3.8-minimal\n",
            "Suggested packages:\n",
            "  python3.8-venv binfmt-support\n",
            "The following NEW packages will be installed:\n",
            "  libpython3.8-minimal libpython3.8-stdlib mailcap mime-support python3.8\n",
            "  python3.8-minimal\n",
            "0 upgraded, 6 newly installed, 0 to remove and 16 not upgraded.\n",
            "Need to get 5,099 kB of archives.\n",
            "After this operation, 18.9 MB of additional disk space will be used.\n",
            "Get:1 http://archive.ubuntu.com/ubuntu jammy/main amd64 mailcap all 3.70+nmu1ubuntu1 [23.8 kB]\n",
            "Get:2 http://archive.ubuntu.com/ubuntu jammy/main amd64 mime-support all 3.66 [3,696 B]\n",
            "Get:3 https://ppa.launchpadcontent.net/deadsnakes/ppa/ubuntu jammy/main amd64 libpython3.8-minimal amd64 3.8.17-1+jammy1 [793 kB]\n",
            "Get:4 https://ppa.launchpadcontent.net/deadsnakes/ppa/ubuntu jammy/main amd64 python3.8-minimal amd64 3.8.17-1+jammy1 [2,023 kB]\n",
            "Get:5 https://ppa.launchpadcontent.net/deadsnakes/ppa/ubuntu jammy/main amd64 libpython3.8-stdlib amd64 3.8.17-1+jammy1 [1,817 kB]\n",
            "Get:6 https://ppa.launchpadcontent.net/deadsnakes/ppa/ubuntu jammy/main amd64 python3.8 amd64 3.8.17-1+jammy1 [438 kB]\n",
            "Fetched 5,099 kB in 5s (1,126 kB/s)\n",
            "debconf: unable to initialize frontend: Dialog\n",
            "debconf: (No usable dialog-like program is installed, so the dialog based frontend cannot be used. at /usr/share/perl5/Debconf/FrontEnd/Dialog.pm line 78, <> line 6.)\n",
            "debconf: falling back to frontend: Readline\n",
            "debconf: unable to initialize frontend: Readline\n",
            "debconf: (This frontend requires a controlling tty.)\n",
            "debconf: falling back to frontend: Teletype\n",
            "dpkg-preconfigure: unable to re-open stdin: \n",
            "Selecting previously unselected package libpython3.8-minimal:amd64.\n",
            "(Reading database ... 120500 files and directories currently installed.)\n",
            "Preparing to unpack .../0-libpython3.8-minimal_3.8.17-1+jammy1_amd64.deb ...\n",
            "Unpacking libpython3.8-minimal:amd64 (3.8.17-1+jammy1) ...\n",
            "Selecting previously unselected package python3.8-minimal.\n",
            "Preparing to unpack .../1-python3.8-minimal_3.8.17-1+jammy1_amd64.deb ...\n",
            "Unpacking python3.8-minimal (3.8.17-1+jammy1) ...\n",
            "Selecting previously unselected package mailcap.\n",
            "Preparing to unpack .../2-mailcap_3.70+nmu1ubuntu1_all.deb ...\n",
            "Unpacking mailcap (3.70+nmu1ubuntu1) ...\n",
            "Selecting previously unselected package mime-support.\n",
            "Preparing to unpack .../3-mime-support_3.66_all.deb ...\n",
            "Unpacking mime-support (3.66) ...\n",
            "Selecting previously unselected package libpython3.8-stdlib:amd64.\n",
            "Preparing to unpack .../4-libpython3.8-stdlib_3.8.17-1+jammy1_amd64.deb ...\n",
            "Unpacking libpython3.8-stdlib:amd64 (3.8.17-1+jammy1) ...\n",
            "Selecting previously unselected package python3.8.\n",
            "Preparing to unpack .../5-python3.8_3.8.17-1+jammy1_amd64.deb ...\n",
            "Unpacking python3.8 (3.8.17-1+jammy1) ...\n",
            "Setting up libpython3.8-minimal:amd64 (3.8.17-1+jammy1) ...\n",
            "Setting up python3.8-minimal (3.8.17-1+jammy1) ...\n",
            "Setting up mailcap (3.70+nmu1ubuntu1) ...\n",
            "Setting up mime-support (3.66) ...\n",
            "Setting up libpython3.8-stdlib:amd64 (3.8.17-1+jammy1) ...\n",
            "Setting up python3.8 (3.8.17-1+jammy1) ...\n",
            "Processing triggers for man-db (2.10.2-1) ...\n",
            "/usr/bin/python3.8: No module named ensurepip\n"
          ]
        }
      ]
    },
    {
      "cell_type": "code",
      "source": [
        "#list python versions\n",
        "!ls /usr/bin/python*"
      ],
      "metadata": {
        "colab": {
          "base_uri": "https://localhost:8080/"
        },
        "id": "eMHuy1OAo9LZ",
        "outputId": "e7ba27a3-67c7-4a61-ded5-289c2915a9cd"
      },
      "execution_count": 4,
      "outputs": [
        {
          "output_type": "stream",
          "name": "stdout",
          "text": [
            "/usr/bin/python3     /usr/bin/python3.10-config  /usr/bin/python3-config\n",
            "/usr/bin/python3.10  /usr/bin/python3.8\n"
          ]
        }
      ]
    },
    {
      "cell_type": "code",
      "source": [
        "#update python version\n",
        "!sudo update-alternatives --install /usr/bin/python3 python3 /usr/bin/python3.8 1"
      ],
      "metadata": {
        "id": "Bm-ZnUMYqZUq",
        "colab": {
          "base_uri": "https://localhost:8080/"
        },
        "outputId": "ef0f76b0-8ffd-4835-be8e-4162a2177d32"
      },
      "execution_count": 5,
      "outputs": [
        {
          "output_type": "stream",
          "name": "stdout",
          "text": [
            "update-alternatives: using /usr/bin/python3.8 to provide /usr/bin/python3 (python3) in auto mode\n"
          ]
        }
      ]
    },
    {
      "cell_type": "code",
      "source": [
        "#Confirgure python version\n",
        "!sudo update-alternatives --config python3"
      ],
      "metadata": {
        "colab": {
          "base_uri": "https://localhost:8080/"
        },
        "id": "zVGh3s64tzNV",
        "outputId": "edc21054-36da-4506-e598-883d6b75c293"
      },
      "execution_count": 6,
      "outputs": [
        {
          "output_type": "stream",
          "name": "stdout",
          "text": [
            "There is only one alternative in link group python3 (providing /usr/bin/python3): /usr/bin/python3.8\n",
            "Nothing to configure.\n"
          ]
        }
      ]
    },
    {
      "cell_type": "code",
      "source": [
        "#permanently install the specific version to the google colab\n",
        "!sudo apt install python3-pip"
      ],
      "metadata": {
        "colab": {
          "base_uri": "https://localhost:8080/"
        },
        "id": "oV2U9wrSt-DG",
        "outputId": "4bea37a6-0906-4de4-c26f-45077a2a798c"
      },
      "execution_count": 7,
      "outputs": [
        {
          "output_type": "stream",
          "name": "stdout",
          "text": [
            "Reading package lists... Done\n",
            "Building dependency tree... Done\n",
            "Reading state information... Done\n",
            "The following additional packages will be installed:\n",
            "  python3-setuptools python3-wheel\n",
            "Suggested packages:\n",
            "  python-setuptools-doc\n",
            "The following NEW packages will be installed:\n",
            "  python3-pip python3-setuptools python3-wheel\n",
            "0 upgraded, 3 newly installed, 0 to remove and 16 not upgraded.\n",
            "Need to get 1,677 kB of archives.\n",
            "After this operation, 8,965 kB of additional disk space will be used.\n",
            "Get:1 http://archive.ubuntu.com/ubuntu jammy-updates/main amd64 python3-setuptools all 59.6.0-1.2ubuntu0.22.04.1 [339 kB]\n",
            "Get:2 http://archive.ubuntu.com/ubuntu jammy-updates/universe amd64 python3-wheel all 0.37.1-2ubuntu0.22.04.1 [32.0 kB]\n",
            "Get:3 http://archive.ubuntu.com/ubuntu jammy-updates/universe amd64 python3-pip all 22.0.2+dfsg-1ubuntu0.3 [1,305 kB]\n",
            "Fetched 1,677 kB in 0s (3,867 kB/s)\n",
            "debconf: unable to initialize frontend: Dialog\n",
            "debconf: (No usable dialog-like program is installed, so the dialog based frontend cannot be used. at /usr/share/perl5/Debconf/FrontEnd/Dialog.pm line 78, <> line 3.)\n",
            "debconf: falling back to frontend: Readline\n",
            "debconf: unable to initialize frontend: Readline\n",
            "debconf: (This frontend requires a controlling tty.)\n",
            "debconf: falling back to frontend: Teletype\n",
            "dpkg-preconfigure: unable to re-open stdin: \n",
            "Selecting previously unselected package python3-setuptools.\n",
            "(Reading database ... 121151 files and directories currently installed.)\n",
            "Preparing to unpack .../python3-setuptools_59.6.0-1.2ubuntu0.22.04.1_all.deb ...\n",
            "Unpacking python3-setuptools (59.6.0-1.2ubuntu0.22.04.1) ...\n",
            "Selecting previously unselected package python3-wheel.\n",
            "Preparing to unpack .../python3-wheel_0.37.1-2ubuntu0.22.04.1_all.deb ...\n",
            "Unpacking python3-wheel (0.37.1-2ubuntu0.22.04.1) ...\n",
            "Selecting previously unselected package python3-pip.\n",
            "Preparing to unpack .../python3-pip_22.0.2+dfsg-1ubuntu0.3_all.deb ...\n",
            "Unpacking python3-pip (22.0.2+dfsg-1ubuntu0.3) ...\n",
            "Setting up python3-setuptools (59.6.0-1.2ubuntu0.22.04.1) ...\n",
            "Setting up python3-wheel (0.37.1-2ubuntu0.22.04.1) ...\n",
            "Setting up python3-pip (22.0.2+dfsg-1ubuntu0.3) ...\n",
            "Processing triggers for man-db (2.10.2-1) ...\n"
          ]
        }
      ]
    },
    {
      "cell_type": "markdown",
      "source": [
        "####Check correct packages installed for distutils and Numpy"
      ],
      "metadata": {
        "id": "rY-Jb9V52SwK"
      }
    },
    {
      "cell_type": "code",
      "source": [
        "!sudo apt-get install python3.8-distutils"
      ],
      "metadata": {
        "colab": {
          "base_uri": "https://localhost:8080/"
        },
        "id": "30gzRE2nuaLv",
        "outputId": "5fa46942-98b7-43ef-ae61-8f4284dd6305"
      },
      "execution_count": 8,
      "outputs": [
        {
          "output_type": "stream",
          "name": "stdout",
          "text": [
            "Reading package lists... Done\n",
            "Building dependency tree... Done\n",
            "Reading state information... Done\n",
            "The following additional packages will be installed:\n",
            "  python3.8-lib2to3\n",
            "The following NEW packages will be installed:\n",
            "  python3.8-distutils python3.8-lib2to3\n",
            "0 upgraded, 2 newly installed, 0 to remove and 16 not upgraded.\n",
            "Need to get 319 kB of archives.\n",
            "After this operation, 1,237 kB of additional disk space will be used.\n",
            "Get:1 https://ppa.launchpadcontent.net/deadsnakes/ppa/ubuntu jammy/main amd64 python3.8-lib2to3 all 3.8.17-1+jammy1 [126 kB]\n",
            "Get:2 https://ppa.launchpadcontent.net/deadsnakes/ppa/ubuntu jammy/main amd64 python3.8-distutils all 3.8.17-1+jammy1 [193 kB]\n",
            "Fetched 319 kB in 2s (201 kB/s)\n",
            "debconf: unable to initialize frontend: Dialog\n",
            "debconf: (No usable dialog-like program is installed, so the dialog based frontend cannot be used. at /usr/share/perl5/Debconf/FrontEnd/Dialog.pm line 78, <> line 2.)\n",
            "debconf: falling back to frontend: Readline\n",
            "debconf: unable to initialize frontend: Readline\n",
            "debconf: (This frontend requires a controlling tty.)\n",
            "debconf: falling back to frontend: Teletype\n",
            "dpkg-preconfigure: unable to re-open stdin: \n",
            "Selecting previously unselected package python3.8-lib2to3.\n",
            "(Reading database ... 122013 files and directories currently installed.)\n",
            "Preparing to unpack .../python3.8-lib2to3_3.8.17-1+jammy1_all.deb ...\n",
            "Unpacking python3.8-lib2to3 (3.8.17-1+jammy1) ...\n",
            "Selecting previously unselected package python3.8-distutils.\n",
            "Preparing to unpack .../python3.8-distutils_3.8.17-1+jammy1_all.deb ...\n",
            "Unpacking python3.8-distutils (3.8.17-1+jammy1) ...\n",
            "Setting up python3.8-lib2to3 (3.8.17-1+jammy1) ...\n",
            "Setting up python3.8-distutils (3.8.17-1+jammy1) ...\n"
          ]
        }
      ]
    },
    {
      "cell_type": "markdown",
      "source": [],
      "metadata": {
        "id": "t1kEDf8K2Y_K"
      }
    },
    {
      "cell_type": "code",
      "source": [
        "!pip install --force-reinstall numpy==1.22.3\n",
        "#Check numpy version"
      ],
      "metadata": {
        "colab": {
          "base_uri": "https://localhost:8080/"
        },
        "id": "UojJU7W0vZLC",
        "outputId": "b05836c3-1bd2-4f45-a981-75a4994b40e3"
      },
      "execution_count": 9,
      "outputs": [
        {
          "output_type": "stream",
          "name": "stdout",
          "text": [
            "Collecting numpy==1.22.3\n",
            "  Downloading numpy-1.22.3-cp38-cp38-manylinux_2_17_x86_64.manylinux2014_x86_64.whl (16.8 MB)\n",
            "\u001b[2K     \u001b[90m━━━━━━━━━━━━━━━━━━━━━━━━━━━━━━━━━━━━━━━━\u001b[0m \u001b[32m16.8/16.8 MB\u001b[0m \u001b[31m40.0 MB/s\u001b[0m eta \u001b[36m0:00:00\u001b[0m\n",
            "\u001b[?25hInstalling collected packages: numpy\n",
            "Successfully installed numpy-1.22.3\n",
            "\u001b[33mWARNING: Running pip as the 'root' user can result in broken permissions and conflicting behaviour with the system package manager. It is recommended to use a virtual environment instead: https://pip.pypa.io/warnings/venv\u001b[0m\u001b[33m\n",
            "\u001b[0m"
          ]
        }
      ]
    },
    {
      "cell_type": "markdown",
      "source": [
        "##Step 3: Then, run"
      ],
      "metadata": {
        "id": "44Ju1GkUp0mV"
      }
    },
    {
      "cell_type": "code",
      "source": [
        "!pip install -r requirements.txt"
      ],
      "metadata": {
        "colab": {
          "base_uri": "https://localhost:8080/",
          "height": 1000
        },
        "id": "tpaYQnTPt8e0",
        "outputId": "f0bf8c09-2e9b-4d52-c5f2-12a637540cc6"
      },
      "execution_count": 10,
      "outputs": [
        {
          "output_type": "stream",
          "name": "stdout",
          "text": [
            "Requirement already satisfied: numpy==1.22.3 in /usr/local/lib/python3.8/dist-packages (from -r requirements.txt (line 1)) (1.22.3)\n",
            "Collecting torch==1.11.0\n",
            "  Downloading torch-1.11.0-cp38-cp38-manylinux1_x86_64.whl (750.6 MB)\n",
            "\u001b[2K     \u001b[90m━━━━━━━━━━━━━━━━━━━━━━━━━━━━━━━━━━━━━━━\u001b[0m \u001b[32m750.6/750.6 MB\u001b[0m \u001b[31m2.3 MB/s\u001b[0m eta \u001b[36m0:00:00\u001b[0m\n",
            "\u001b[?25hCollecting tqdm==4.64.0\n",
            "  Downloading tqdm-4.64.0-py2.py3-none-any.whl (78 kB)\n",
            "\u001b[2K     \u001b[90m━━━━━━━━━━━━━━━━━━━━━━━━━━━━━━━━━━━━━━━━\u001b[0m \u001b[32m78.4/78.4 KB\u001b[0m \u001b[31m8.4 MB/s\u001b[0m eta \u001b[36m0:00:00\u001b[0m\n",
            "\u001b[?25hCollecting transformers==4.18.0\n",
            "  Downloading transformers-4.18.0-py3-none-any.whl (4.0 MB)\n",
            "\u001b[2K     \u001b[90m━━━━━━━━━━━━━━━━━━━━━━━━━━━━━━━━━━━━━━━━\u001b[0m \u001b[32m4.0/4.0 MB\u001b[0m \u001b[31m63.3 MB/s\u001b[0m eta \u001b[36m0:00:00\u001b[0m\n",
            "\u001b[?25hCollecting pandas==1.4.2\n",
            "  Downloading pandas-1.4.2-cp38-cp38-manylinux_2_17_x86_64.manylinux2014_x86_64.whl (11.7 MB)\n",
            "\u001b[2K     \u001b[90m━━━━━━━━━━━━━━━━━━━━━━━━━━━━━━━━━━━━━━━━\u001b[0m \u001b[32m11.7/11.7 MB\u001b[0m \u001b[31m90.3 MB/s\u001b[0m eta \u001b[36m0:00:00\u001b[0m\n",
            "\u001b[?25hCollecting scipy==1.6.3\n",
            "  Downloading scipy-1.6.3-cp38-cp38-manylinux1_x86_64.whl (27.2 MB)\n",
            "\u001b[2K     \u001b[90m━━━━━━━━━━━━━━━━━━━━━━━━━━━━━━━━━━━━━━━━\u001b[0m \u001b[32m27.2/27.2 MB\u001b[0m \u001b[31m34.5 MB/s\u001b[0m eta \u001b[36m0:00:00\u001b[0m\n",
            "\u001b[?25hCollecting typing-extensions\n",
            "  Downloading typing_extensions-4.7.1-py3-none-any.whl (33 kB)\n",
            "Collecting requests\n",
            "  Downloading requests-2.31.0-py3-none-any.whl (62 kB)\n",
            "\u001b[2K     \u001b[90m━━━━━━━━━━━━━━━━━━━━━━━━━━━━━━━━━━━━━━━━\u001b[0m \u001b[32m62.6/62.6 KB\u001b[0m \u001b[31m6.7 MB/s\u001b[0m eta \u001b[36m0:00:00\u001b[0m\n",
            "\u001b[?25hCollecting regex!=2019.12.17\n",
            "  Downloading regex-2023.6.3-cp38-cp38-manylinux_2_17_x86_64.manylinux2014_x86_64.whl (772 kB)\n",
            "\u001b[2K     \u001b[90m━━━━━━━━━━━━━━━━━━━━━━━━━━━━━━━━━━━━━━\u001b[0m \u001b[32m772.3/772.3 KB\u001b[0m \u001b[31m58.0 MB/s\u001b[0m eta \u001b[36m0:00:00\u001b[0m\n",
            "\u001b[?25hCollecting filelock\n",
            "  Downloading filelock-3.12.2-py3-none-any.whl (10 kB)\n",
            "Collecting sacremoses\n",
            "  Downloading sacremoses-0.0.53.tar.gz (880 kB)\n",
            "\u001b[2K     \u001b[90m━━━━━━━━━━━━━━━━━━━━━━━━━━━━━━━━━━━━━━\u001b[0m \u001b[32m880.6/880.6 KB\u001b[0m \u001b[31m67.0 MB/s\u001b[0m eta \u001b[36m0:00:00\u001b[0m\n",
            "\u001b[?25h  Preparing metadata (setup.py) ... \u001b[?25l\u001b[?25hdone\n",
            "Collecting huggingface-hub<1.0,>=0.1.0\n",
            "  Downloading huggingface_hub-0.16.4-py3-none-any.whl (268 kB)\n",
            "\u001b[2K     \u001b[90m━━━━━━━━━━━━━━━━━━━━━━━━━━━━━━━━━━━━━━\u001b[0m \u001b[32m268.8/268.8 KB\u001b[0m \u001b[31m25.2 MB/s\u001b[0m eta \u001b[36m0:00:00\u001b[0m\n",
            "\u001b[?25hCollecting pyyaml>=5.1\n",
            "  Downloading PyYAML-6.0.1-cp38-cp38-manylinux_2_17_x86_64.manylinux2014_x86_64.whl (736 kB)\n",
            "\u001b[2K     \u001b[90m━━━━━━━━━━━━━━━━━━━━━━━━━━━━━━━━━━━━━━\u001b[0m \u001b[32m736.6/736.6 KB\u001b[0m \u001b[31m51.0 MB/s\u001b[0m eta \u001b[36m0:00:00\u001b[0m\n",
            "\u001b[?25hCollecting packaging>=20.0\n",
            "  Downloading packaging-23.1-py3-none-any.whl (48 kB)\n",
            "\u001b[2K     \u001b[90m━━━━━━━━━━━━━━━━━━━━━━━━━━━━━━━━━━━━━━━━\u001b[0m \u001b[32m48.9/48.9 KB\u001b[0m \u001b[31m6.0 MB/s\u001b[0m eta \u001b[36m0:00:00\u001b[0m\n",
            "\u001b[?25hCollecting tokenizers!=0.11.3,<0.13,>=0.11.1\n",
            "  Downloading tokenizers-0.12.1-cp38-cp38-manylinux_2_12_x86_64.manylinux2010_x86_64.whl (6.6 MB)\n",
            "\u001b[2K     \u001b[90m━━━━━━━━━━━━━━━━━━━━━━━━━━━━━━━━━━━━━━━━\u001b[0m \u001b[32m6.6/6.6 MB\u001b[0m \u001b[31m73.4 MB/s\u001b[0m eta \u001b[36m0:00:00\u001b[0m\n",
            "\u001b[?25hCollecting python-dateutil>=2.8.1\n",
            "  Downloading python_dateutil-2.8.2-py2.py3-none-any.whl (247 kB)\n",
            "\u001b[2K     \u001b[90m━━━━━━━━━━━━━━━━━━━━━━━━━━━━━━━━━━━━━━\u001b[0m \u001b[32m247.7/247.7 KB\u001b[0m \u001b[31m24.8 MB/s\u001b[0m eta \u001b[36m0:00:00\u001b[0m\n",
            "\u001b[?25hCollecting pytz>=2020.1\n",
            "  Downloading pytz-2023.3-py2.py3-none-any.whl (502 kB)\n",
            "\u001b[2K     \u001b[90m━━━━━━━━━━━━━━━━━━━━━━━━━━━━━━━━━━━━━━\u001b[0m \u001b[32m502.3/502.3 KB\u001b[0m \u001b[31m41.3 MB/s\u001b[0m eta \u001b[36m0:00:00\u001b[0m\n",
            "\u001b[?25hCollecting fsspec\n",
            "  Downloading fsspec-2023.6.0-py3-none-any.whl (163 kB)\n",
            "\u001b[2K     \u001b[90m━━━━━━━━━━━━━━━━━━━━━━━━━━━━━━━━━━━━━━\u001b[0m \u001b[32m163.8/163.8 KB\u001b[0m \u001b[31m18.5 MB/s\u001b[0m eta \u001b[36m0:00:00\u001b[0m\n",
            "\u001b[?25hRequirement already satisfied: six>=1.5 in /usr/lib/python3/dist-packages (from python-dateutil>=2.8.1->pandas==1.4.2->-r requirements.txt (line 5)) (1.16.0)\n",
            "Collecting certifi>=2017.4.17\n",
            "  Downloading certifi-2023.7.22-py3-none-any.whl (158 kB)\n",
            "\u001b[2K     \u001b[90m━━━━━━━━━━━━━━━━━━━━━━━━━━━━━━━━━━━━━━\u001b[0m \u001b[32m158.3/158.3 KB\u001b[0m \u001b[31m17.3 MB/s\u001b[0m eta \u001b[36m0:00:00\u001b[0m\n",
            "\u001b[?25hCollecting charset-normalizer<4,>=2\n",
            "  Downloading charset_normalizer-3.2.0-cp38-cp38-manylinux_2_17_x86_64.manylinux2014_x86_64.whl (199 kB)\n",
            "\u001b[2K     \u001b[90m━━━━━━━━━━━━━━━━━━━━━━━━━━━━━━━━━━━━━━\u001b[0m \u001b[32m199.1/199.1 KB\u001b[0m \u001b[31m20.5 MB/s\u001b[0m eta \u001b[36m0:00:00\u001b[0m\n",
            "\u001b[?25hCollecting urllib3<3,>=1.21.1\n",
            "  Downloading urllib3-2.0.4-py3-none-any.whl (123 kB)\n",
            "\u001b[2K     \u001b[90m━━━━━━━━━━━━━━━━━━━━━━━━━━━━━━━━━━━━━━\u001b[0m \u001b[32m123.9/123.9 KB\u001b[0m \u001b[31m15.3 MB/s\u001b[0m eta \u001b[36m0:00:00\u001b[0m\n",
            "\u001b[?25hCollecting idna<4,>=2.5\n",
            "  Downloading idna-3.4-py3-none-any.whl (61 kB)\n",
            "\u001b[2K     \u001b[90m━━━━━━━━━━━━━━━━━━━━━━━━━━━━━━━━━━━━━━━━\u001b[0m \u001b[32m61.5/61.5 KB\u001b[0m \u001b[31m7.4 MB/s\u001b[0m eta \u001b[36m0:00:00\u001b[0m\n",
            "\u001b[?25hCollecting click\n",
            "  Downloading click-8.1.6-py3-none-any.whl (97 kB)\n",
            "\u001b[2K     \u001b[90m━━━━━━━━━━━━━━━━━━━━━━━━━━━━━━━━━━━━━━━━\u001b[0m \u001b[32m97.9/97.9 KB\u001b[0m \u001b[31m12.4 MB/s\u001b[0m eta \u001b[36m0:00:00\u001b[0m\n",
            "\u001b[?25hCollecting joblib\n",
            "  Downloading joblib-1.3.1-py3-none-any.whl (301 kB)\n",
            "\u001b[2K     \u001b[90m━━━━━━━━━━━━━━━━━━━━━━━━━━━━━━━━━━━━━━\u001b[0m \u001b[32m302.0/302.0 KB\u001b[0m \u001b[31m29.3 MB/s\u001b[0m eta \u001b[36m0:00:00\u001b[0m\n",
            "\u001b[?25hBuilding wheels for collected packages: sacremoses\n",
            "  Building wheel for sacremoses (setup.py) ... \u001b[?25l\u001b[?25hdone\n",
            "  Created wheel for sacremoses: filename=sacremoses-0.0.53-py3-none-any.whl size=895260 sha256=2197a11e4826e68c3afba92971c0391ff662078fd20aae6ddcc30e7add50e164\n",
            "  Stored in directory: /root/.cache/pip/wheels/82/ab/9b/c15899bf659ba74f623ac776e861cf2eb8608c1825ddec66a4\n",
            "Successfully built sacremoses\n",
            "Installing collected packages: tokenizers, pytz, urllib3, typing-extensions, tqdm, scipy, regex, pyyaml, python-dateutil, packaging, joblib, idna, fsspec, filelock, click, charset-normalizer, certifi, torch, sacremoses, requests, pandas, huggingface-hub, transformers\n",
            "Successfully installed certifi-2023.7.22 charset-normalizer-3.2.0 click-8.1.6 filelock-3.12.2 fsspec-2023.6.0 huggingface-hub-0.16.4 idna-3.4 joblib-1.3.1 packaging-23.1 pandas-1.4.2 python-dateutil-2.8.2 pytz-2023.3 pyyaml-6.0.1 regex-2023.6.3 requests-2.31.0 sacremoses-0.0.53 scipy-1.6.3 tokenizers-0.12.1 torch-1.11.0 tqdm-4.64.0 transformers-4.18.0 typing-extensions-4.7.1 urllib3-2.0.4\n",
            "\u001b[33mWARNING: Running pip as the 'root' user can result in broken permissions and conflicting behaviour with the system package manager. It is recommended to use a virtual environment instead: https://pip.pypa.io/warnings/venv\u001b[0m\u001b[33m\n",
            "\u001b[0m"
          ]
        },
        {
          "output_type": "display_data",
          "data": {
            "application/vnd.colab-display-data+json": {
              "pip_warning": {
                "packages": [
                  "certifi",
                  "dateutil"
                ]
              }
            }
          },
          "metadata": {}
        }
      ]
    },
    {
      "cell_type": "markdown",
      "source": [
        "####Check file path and script is granted permission to be executed as a program"
      ],
      "metadata": {
        "id": "lvyV7KCj2jOz"
      }
    },
    {
      "cell_type": "code",
      "source": [
        "cd /content/drive/MyDrive/fairness-feedback-nlp-master/Code"
      ],
      "metadata": {
        "colab": {
          "base_uri": "https://localhost:8080/"
        },
        "id": "hMGoUHhtuexa",
        "outputId": "acde4b74-4ee9-4150-f325-b4143fed0194"
      },
      "execution_count": 11,
      "outputs": [
        {
          "output_type": "stream",
          "name": "stdout",
          "text": [
            "/content/drive/MyDrive/fairness-feedback-nlp-master/Code\n"
          ]
        }
      ]
    },
    {
      "cell_type": "code",
      "source": [
        "#!chmod +x Generation.sh\n",
        "!chmod +x Generation_Quick.sh"
      ],
      "metadata": {
        "id": "mIXm04nczVm4"
      },
      "execution_count": 12,
      "outputs": []
    },
    {
      "cell_type": "markdown",
      "source": [
        "####Additionally added Transfers"
      ],
      "metadata": {
        "id": "-b3ZSQ4S2y1j"
      }
    },
    {
      "cell_type": "code",
      "source": [
        "!pip install transformers"
      ],
      "metadata": {
        "colab": {
          "base_uri": "https://localhost:8080/"
        },
        "id": "GdVfDb6T0Z-5",
        "outputId": "1179ac44-e84d-438b-faee-770555a9e8c8"
      },
      "execution_count": 13,
      "outputs": [
        {
          "output_type": "stream",
          "name": "stdout",
          "text": [
            "Requirement already satisfied: transformers in /usr/local/lib/python3.8/dist-packages (4.18.0)\n",
            "Requirement already satisfied: filelock in /usr/local/lib/python3.8/dist-packages (from transformers) (3.12.2)\n",
            "Requirement already satisfied: regex!=2019.12.17 in /usr/local/lib/python3.8/dist-packages (from transformers) (2023.6.3)\n",
            "Requirement already satisfied: numpy>=1.17 in /usr/local/lib/python3.8/dist-packages (from transformers) (1.22.3)\n",
            "Requirement already satisfied: tqdm>=4.27 in /usr/local/lib/python3.8/dist-packages (from transformers) (4.64.0)\n",
            "Requirement already satisfied: pyyaml>=5.1 in /usr/local/lib/python3.8/dist-packages (from transformers) (6.0.1)\n",
            "Requirement already satisfied: sacremoses in /usr/local/lib/python3.8/dist-packages (from transformers) (0.0.53)\n",
            "Requirement already satisfied: huggingface-hub<1.0,>=0.1.0 in /usr/local/lib/python3.8/dist-packages (from transformers) (0.16.4)\n",
            "Requirement already satisfied: tokenizers!=0.11.3,<0.13,>=0.11.1 in /usr/local/lib/python3.8/dist-packages (from transformers) (0.12.1)\n",
            "Requirement already satisfied: requests in /usr/local/lib/python3.8/dist-packages (from transformers) (2.31.0)\n",
            "Requirement already satisfied: packaging>=20.0 in /usr/local/lib/python3.8/dist-packages (from transformers) (23.1)\n",
            "Requirement already satisfied: fsspec in /usr/local/lib/python3.8/dist-packages (from huggingface-hub<1.0,>=0.1.0->transformers) (2023.6.0)\n",
            "Requirement already satisfied: typing-extensions>=3.7.4.3 in /usr/local/lib/python3.8/dist-packages (from huggingface-hub<1.0,>=0.1.0->transformers) (4.7.1)\n",
            "Requirement already satisfied: charset-normalizer<4,>=2 in /usr/local/lib/python3.8/dist-packages (from requests->transformers) (3.2.0)\n",
            "Requirement already satisfied: certifi>=2017.4.17 in /usr/local/lib/python3.8/dist-packages (from requests->transformers) (2023.7.22)\n",
            "Requirement already satisfied: idna<4,>=2.5 in /usr/local/lib/python3.8/dist-packages (from requests->transformers) (3.4)\n",
            "Requirement already satisfied: urllib3<3,>=1.21.1 in /usr/local/lib/python3.8/dist-packages (from requests->transformers) (2.0.4)\n",
            "Requirement already satisfied: joblib in /usr/local/lib/python3.8/dist-packages (from sacremoses->transformers) (1.3.1)\n",
            "Requirement already satisfied: click in /usr/local/lib/python3.8/dist-packages (from sacremoses->transformers) (8.1.6)\n",
            "Requirement already satisfied: six in /usr/lib/python3/dist-packages (from sacremoses->transformers) (1.16.0)\n",
            "\u001b[33mWARNING: Running pip as the 'root' user can result in broken permissions and conflicting behaviour with the system package manager. It is recommended to use a virtual environment instead: https://pip.pypa.io/warnings/venv\u001b[0m\u001b[33m\n",
            "\u001b[0m"
          ]
        }
      ]
    },
    {
      "cell_type": "markdown",
      "source": [
        "\n",
        "\n",
        "\n",
        "#### Add a click function in console to stop Google Collab from timing out\n",
        "#### NOTE: This does not work as google only gives 90min time on free plan, capcha box will appear and clicker no longer works as of 2023\n",
        "\n",
        "#### Declare function\n",
        "function ConnectButton() {\n",
        "    console.log(\"Working\");\n",
        "    document.querySelector(\"colab-toolbar-button\").click();\n",
        "}\n",
        "\n",
        "#### Define Function\n",
        "var connect = setInterval(ConnectButton, 100);\n",
        "\n",
        "\n",
        "#### stop\n",
        "clearInterval(connect)\n",
        "\n",
        "#### call back\n",
        "#### Define Function\n",
        "var connect = setInterval(ConnectButton, 100);\n"
      ],
      "metadata": {
        "id": "XD4oDLY34Vpf"
      }
    },
    {
      "cell_type": "code",
      "source": [],
      "metadata": {
        "id": "Kkld74nkEHAj"
      },
      "execution_count": 13,
      "outputs": []
    },
    {
      "cell_type": "code",
      "source": [
        "#Run the code\n",
        "!./Generation_Quick.sh"
      ],
      "metadata": {
        "colab": {
          "base_uri": "https://localhost:8080/"
        },
        "id": "XBtK7CP3z0nk",
        "outputId": "02c76fb9-208f-4262-a91d-325b44c02fab"
      },
      "execution_count": 14,
      "outputs": [
        {
          "output_type": "stream",
          "name": "stdout",
          "text": [
            "Downloading: 100% 1.59k/1.59k [00:00<00:00, 7.20MB/s]\n",
            "Downloading: 100% 971M/971M [00:20<00:00, 49.7MB/s]\n",
            "Downloading: 100% 878k/878k [00:00<00:00, 15.8MB/s]\n",
            "Downloading: 100% 446k/446k [00:00<00:00, 11.2MB/s]\n",
            "Downloading: 100% 26.0/26.0 [00:00<00:00, 113kB/s]\n",
            "Downloading: 100% 878k/878k [00:00<00:00, 15.5MB/s]\n",
            "Downloading: 100% 446k/446k [00:00<00:00, 5.17MB/s]\n",
            "Downloading: 100% 481/481 [00:00<00:00, 2.50MB/s]\n",
            "Downloading: 100% 478M/478M [00:08<00:00, 60.6MB/s]\n",
            "Some weights of the model checkpoint at roberta-base were not used when initializing RobertaModel: ['lm_head.layer_norm.weight', 'lm_head.bias', 'lm_head.layer_norm.bias', 'lm_head.dense.bias', 'lm_head.dense.weight', 'lm_head.decoder.weight']\n",
            "- This IS expected if you are initializing RobertaModel from the checkpoint of a model trained on another task or with another architecture (e.g. initializing a BertForSequenceClassification model from a BertForPreTraining model).\n",
            "- This IS NOT expected if you are initializing RobertaModel from the checkpoint of a model that you expect to be exactly identical (initializing a BertForSequenceClassification model from a BertForSequenceClassification model).\n",
            "train epoch:  0\n",
            "Batch_loss $2.7072:   2% 999/64822 [05:03<5:09:55,  3.43it/s]999\n",
            "\"Mother\" Nature? Why are you blaming this on women? <sarcasm font>  ;) Best wishes James.\n",
            "\n",
            "\"\" Nature? are you blaming this on? <sarcasm font> Best wishes.\n",
            "\n",
            "\"Nature\" Nature? What are you blaming this on? <sarcasm font>  Best wishes.\n",
            "Batch_loss $1.8508:   3% 1999/64822 [10:09<5:38:37,  3.09it/s]1999\n",
            "She's retiring due to term limits. Already made her retirement working only 15 years.\n",
            "\n",
            "'s due to limits. Already made her working only 15 years.\n",
            "\n",
            "Her age was due to her work limits. Already made her retirement working only 15 years.\n",
            "Batch_loss $1.5049:   5% 2999/64822 [15:16<5:10:00,  3.32it/s]2999\n",
            "It is very, very clear from Donald Trump's history that he is motivated almost entirely by the following:  1) make money 2) bed attractive women 3) play golf 4) draw attention to himself  I leave the actual ordering up to the reader.  Stephen J. Remington\n",
            "\n",
            "It is very very clear from Donald Trump's history that is motivated almost entirely by the following: 1) make money) 3) play) draw attention to I leave the actual ordering up to the reader.  Stephen J. Remington\n",
            "\n",
            "It is very  very very clear from Donald Trump's history that he is motivated almost entirely by the following:  1) make money 2) lie 3) play games 3) draw attention to himself.  I leave the actual ordering up to the reader.  Stephen J. Remington\n",
            "Batch_loss $1.3177:   6% 3999/64822 [20:24<5:30:51,  3.06it/s]3999\n",
            "Hey Globe and Mail, why you will not allow us to record negative votes to our comments. What kind of censorship are you practicing?\n",
            "\n",
            "Hey and, you not allow to record to comments. kind of are you practicing?\n",
            "\n",
            "Hey Paul, why you would not allow me to record my response to your comments.  What kind of BS are you practicing?\n",
            "Batch_loss $1.2006:   8% 4999/64822 [25:30<4:53:32,  3.40it/s]4999\n",
            "Yup, with Trudeau in power these women will become multimillionaires. What could be better?\n",
            "\n",
            "Yup, with in power these will becomeillionaires. What could be better?\n",
            "\n",
            "Yup, with women in power these women will become millionaires. What could be better?\n",
            "Batch_loss $1.1235:   9% 5999/64822 [30:36<5:14:26,  3.12it/s]5999\n",
            "Dear God, YES!!!\n",
            "\n",
            "Dear,!!!\n",
            "\n",
            "Dear God, Jesus Christ!!!\n",
            "Batch_loss $1.0718:  11% 6999/64822 [35:42<4:32:01,  3.54it/s]6999\n",
            "Hispanics voted for Trump. So did black people. And so did Muslims.   I guess his team is not racist as a result.\n",
            "\n",
            " voted for Trump. So did. And so did.   I guess his team is not as a result.\n",
            "\n",
            "I voted for Trump. And so did he.   I guess his team is not happy as a result.\n",
            "Batch_loss $1.0303:  12% 7999/64822 [40:49<4:56:56,  3.19it/s]7999\n",
            "Indeed.\n",
            "\n",
            ".\n",
            "\n",
            "No.\n",
            "Batch_loss $0.9945:  14% 8999/64822 [45:54<4:37:27,  3.35it/s]8999\n",
            "\"It seems now that if a black is shot and killed by police it brings immediate protesting and usually some level of rioting\"  I think you're confusing news coverage with reality. About 200 blacks have been killed by police so far in 2016. There haven't been 200 protests or rioting.\n",
            "\n",
            "\"It seems now that if is and by it brings immediate protesting and usually some level of rioting\" I think you're confusing news coverage with reality. About have been by so far in 2016. There haven't been 200 oring.\n",
            "\n",
            "\"It seems now that if someone is black and murdered by police it brings immediate protesting and usually some level of rioting\"  I think you're confusing news coverage with reality. There haven't been 200 murders by police or rioting. About 300 people have been killed by police so far in 2016.\n",
            "Batch_loss $0.9643:  15% 9999/64822 [50:59<4:34:10,  3.33it/s]9999\n",
            "Really?\n",
            "\n",
            "?\n",
            "\n",
            "Really?\n",
            "Batch_loss $0.9402:  17% 10999/64822 [56:03<4:47:46,  3.12it/s]10999\n",
            "What do you think he could/should have done.  If you have a solution that the last xx number of presidents did not have, surely you ought to share it?\n",
            "\n",
            " do you think couldshould done.  If you have a solution that the xx did not have, you ought to share it?\n",
            "\n",
            "How do you think he could or should have done.  If you have a solution that the city of xx did not have,  you ought to share it?\n",
            "Batch_loss $0.9192:  19% 11999/64822 [1:01:06<4:26:23,  3.30it/s]11999\n",
            "Because your comment isn't true. There was plenty of discussion,giving Republicans the opportunity to add 170 amendments as well as public hearings. Maybe you didn't pay attention at the time.    To date, only 13 white GOP men have had any input.\n",
            "\n",
            "Because your comment isn't. There was plenty of discussion,giving the opportunity to add 170 amendments as well as hearings. Maybe you didn't pay attention at the time. To date, only 13 have had any input.\n",
            "\n",
            "Because your comment isn't true. There was plenty of discussion,giving them the opportunity to add 170 amendments as well as public hearings. Maybe you didn't pay attention at the time.  To date, only 13 people have had any input.\n",
            "Batch_loss $0.9033:  20% 12999/64822 [1:06:09<4:16:27,  3.37it/s]12999\n",
            "\"No Trump investigation ever went on, no Trump involvement at all.\"  Trump was investigating someone pray tell?  Who?  Was it about those tapes he lied about?  What do the Hispanics make of all of this since you are representing them now?\n",
            "\n",
            "\"No Trump ever went on, no involvement at all.\"  Trump investigating someone pray tell?  Who? it about those tapes he lied about?  What make of all of this since you are representing now?\n",
            "\n",
            "\"No Trump tape ever went on, no Russian involvement at all.\"  Trump is investigating someone pray tell?  Who?  How is it about those tapes he lied about?  What would he make of all of this since you are representing him now?\n",
            "Batch_loss $0.8883:  22% 13999/64822 [1:11:12<4:32:27,  3.11it/s]13999\n",
            "Brian Griffin quoted Mencken: \"The common man's a fool\".  Peter Griffin is proof.\n",
            "\n",
            "Brian Griffin quoted Mencken: \"The's a\".  Peter Griffin is proof.\n",
            "\n",
            "Brian Griffin quoted Mencken: \"The man's a man\".  Peter Griffin is proof.\n",
            "Batch_loss $0.8754:  23% 14999/64822 [1:16:15<4:24:30,  3.14it/s]14999\n",
            "Soon unfortunately he will get to make comments about Hillary,s screeching voice. Like scratching a black board.\n",
            "\n",
            "Soon unfortunately will get to make comments about,s screeching voice. Like scratching a board.\n",
            "\n",
            "Soon unfortunately he will get to make comments about his,s screeching voice. Like scratching a chess board.\n",
            "Batch_loss $0.8639:  25% 15999/64822 [1:21:18<4:08:29,  3.27it/s]15999\n",
            "Are you suggesting that Christ was not a man?  That would be news to billions of people living and dead, but I guess you know better, eh?\n",
            "\n",
            "Are you suggesting that not?  That would be news to billions of living and, but I guess you know better, eh?\n",
            "\n",
            "Are you suggesting that Jesus was not a Christian?  That would be news to billions of people living and dead, but I guess you know better, eh?\n",
            "Batch_loss $0.8534:  26% 16999/64822 [1:26:22<4:02:26,  3.29it/s]16999\n",
            "I think you're confusing education with intelligence.  The left generally has higher level of education but that has no bearing on actual intelligence/IQ..\n",
            "\n",
            "I think're confusing education with.  The generally has higher level of education but that has no bearing on actual/..\n",
            "\n",
            "I think you're confusing education with math.  The average student generally has higher level of education but that has no bearing on actual math/science skills..\n",
            "Batch_loss $0.8433:  28% 17999/64822 [1:31:25<4:17:40,  3.03it/s]17999\n",
            "Keep hunting Chris, you're doing nothing wrong.  You're doing what is right and proper.  Good luck and best wishes.\n",
            "\n",
            ", you doing wrong.  You're doing what is right and.  Good luck and best wishes.\n",
            "\n",
            "Well, you're doing nothing wrong.  You're doing what is right and right.  Good luck and best wishes.\n",
            "Batch_loss $0.8347:  29% 18999/64822 [1:36:26<3:45:23,  3.39it/s]18999\n",
            "Uhhh...I think you missed \"Psychopathic\".  Goes for Newt too, after all he is on record for saying if Muslims fail a religious test they should be deported.  So, who's next?  Methodists I suppose.\n",
            "\n",
            "Uhhh...I think missed \"\".  Goes for Newt too, after all he on record for saying if fail a should be deported.  So, who's next? I suppose.\n",
            "\n",
            "Uhhh...I think he missed \"Islamophobia\".  Goes for Newt too, after all he was on record for saying if Muslims fail a test they should be deported.  So, who's next?  I suppose.\n",
            "Batch_loss $0.8264:  31% 19999/64822 [1:41:29<3:40:04,  3.39it/s]19999\n",
            "What's your area?  Single men should track where the hotspots are for false accusations and steer away.\n",
            "\n",
            "What's your area? should track where the hotspots are for false accusations and steer away.\n",
            "\n",
            "What's your area? Men should track where the hotspots are for false accusations and steer away.\n",
            "Batch_loss $0.8194:  32% 20999/64822 [1:46:31<3:39:12,  3.33it/s]20999\n",
            "what would you have seen him do?  You have an idea?\n",
            "\n",
            "what you do? You have an idea?\n",
            "\n",
            "what would you guys do?  You have an idea?\n",
            "Batch_loss $0.8128:  34% 21999/64822 [1:51:32<3:39:48,  3.25it/s]21999\n",
            "\"Your comment has nothing to do with the topic of approving a Muslim cemetery in Quebec.\"  Nor does the author of this article's comment about a cemetery in a TV show.\n",
            "\n",
            "\"Your comment has nothing to do with the topic of approving a.\" Nor does the of this article's comment about a in a TV show.\n",
            "\n",
            "\"Your comment has nothing to do with the topic of approving a mosque.\"  Nor does the author of this article's comment about a Muslim character in a TV show.\n",
            "Batch_loss $0.8060:  35% 22999/64822 [1:56:36<3:21:31,  3.46it/s]22999\n",
            "Now Serial Divorcers Occupy The Vatican And WH. How ecumenical and cozy for all conservative RCs and Evangelicals joining Hobby Lobby in Rome for the next Republican Convention.\n",
            "\n",
            "Now Serial Divorcers Occupy The And WH How ecumenical and cozy for all RCs and joining Lobby in for the next Convention.\n",
            "\n",
            "Now Serial Divorcers Occupy The Catholic Church And WHMC How ecumenical and cozy for all Catholic RCs and Catholics joining the Lobby in DC for the next Democratic Convention.\n",
            "Batch_loss $0.8010:  37% 23999/64822 [2:01:36<3:19:09,  3.42it/s]23999\n",
            "Truth is, the dynamics of intelligence and religious authenticity are one and the same. No one, no institution has exclusive claim either on intelligence or religion. :-)...\n",
            "\n",
            "Truth is, the dynamics of and authenticity are one and the same. No, no institution has exclusive claim either on or. :-)...\n",
            "\n",
            "Truth is, the dynamics of sex and sexual authenticity are one and the same. No church, no institution has exclusive claim either on sex or sex. :-)...\n",
            "Batch_loss $0.7960:  39% 24999/64822 [2:06:38<3:18:48,  3.34it/s]24999\n",
            "Quite correct.  Incredible how Boeing can claim \"damage\" when it does not offer a product in this category!  Incredible!\n",
            "\n",
            " correct.  Incredible how can claim\" when it does a in this! Incredible!\n",
            "\n",
            "True correct.  Incredible how someone can claim \"love\" when it does not love a person in this country!  Incredible!\n",
            "Batch_loss $0.7912:  40% 25999/64822 [2:11:40<3:25:40,  3.15it/s]25999\n",
            "Of course not.  #maleprivilege\n",
            "\n",
            "Of course not.  #\n",
            "\n",
            "Of course not.  #MAGA\n",
            "Batch_loss $0.7864:  42% 26999/64822 [2:16:41<3:11:21,  3.29it/s]26999\n",
            "Yes, because the law has always been correct. Something about three-fifths comes to mind.\n",
            "\n",
            ", because the has been. Something about-ths comes to mind.\n",
            "\n",
            "Well, because the author has never been elected. Something about anti-semitists comes to mind.\n",
            "Batch_loss $0.7818:  43% 27999/64822 [2:21:42<3:06:40,  3.29it/s]27999\n",
            "Seems to me like a prime opportunity to develop a more mature democracy and for the leaders and parties involved in governing to rise to the occasion on a day-by-day basis for the coming years...  We will soon see if they can meet the challenge.\n",
            "\n",
            " to like a prime opportunity to a and for involved in governing to rise to the occasion on a day-by- basis for the coming years... will soon see if can meet the challenge.\n",
            "\n",
            "Sounds to me like a prime opportunity to elect a competent leader and for those involved in governing to rise to the occasion on a day-by-day basis for the coming years... We will soon see if we can meet the challenge.\n",
            "Batch_loss $0.7777:  45% 28999/64822 [2:26:45<3:07:00,  3.19it/s]28999\n",
            "Respect for the USA must come from and include the presidency.  Why elaborate - we all know trump practices nothing that respects America.\n",
            "\n",
            "Respect for must come and include the.  Why elaborate - we all know practices nothing that respects.\n",
            "\n",
            "Respect for everyone must come first and include the man.  Why elaborate - we all know he practices nothing that respects women.\n",
            "Batch_loss $0.7738:  46% 29999/64822 [2:31:48<2:51:03,  3.39it/s]29999\n",
            "You heard? What on earth does that mean?  I worked in a hospital for years. There's no such thing as \"being fired for simply mentioning that they did things differently at another medical facility.\"\n",
            "\n",
            "You heard? on does that mean? in a for years. There's no such thing as \"being fired for simply mentioning that things differently at another.\"\n",
            "\n",
            "You heard?  What on earth does that mean? I worked in a bank for years. There's no such thing as \"being fired for simply mentioning that they did things differently at another bank.\"\n",
            "Batch_loss $0.7705:  48% 30999/64822 [2:36:49<2:48:43,  3.34it/s]30999\n",
            "She did that to herself.  With a lot of help from Mr. Podesta,  of course.  It is difficult to believe that he used to be paid $172,000 by the US taxpayers.\n",
            "\n",
            " that.  With a lot of help from. Podesta,  of course.  It is difficult to believe that he to be paid $172,000 by taxpayers.\n",
            "\n",
            "Well that Mr. Podesta,  of course.  With a lot of help from Russia.  It is difficult to believe that he used to be paid $172,000 by Russian taxpayers.\n",
            "Batch_loss $0.7676:  49% 31999/64822 [2:41:50<2:45:05,  3.31it/s]31999\n",
            "Broken record in the face of counter evidence. Please find a new note as this one has fallen flat. People handed thier money pretend to know about business when in reality Jack had thier back and paved the road the whole way.\n",
            "\n",
            " record in the face of evidence. Please find a new note as this one has fallen flat. handed money pretend to about when in reality had th back and paved the road the whole way.\n",
            "\n",
            "Good record in the face of hard evidence. Please find a new note as this one has fallen flat. You hand me money pretend to care about people when in reality you had thier back and paved the road the whole way.\n",
            "Batch_loss $0.7640:  51% 32999/64822 [2:46:52<2:36:08,  3.40it/s]32999\n",
            "Voting?  http://tinyurl.com/y8bg6rah\n",
            "\n",
            "?  http://url./86\n",
            "\n",
            "Really?  http://curl.co.za/2016/08/8/6\n",
            "Batch_loss $0.7609:  52% 33999/64822 [2:51:52<2:43:51,  3.14it/s]33999\n",
            "Israel has been living in peace for years with both Egypt and Jordan. Palestinians should move back to both these countries.\n",
            "\n",
            " has been living in for years with both and. should move back to both these countries.\n",
            "\n",
            "He has been living in Germany for years with both Jews and Muslims. He should move back to both these countries.\n",
            "Batch_loss $0.7580:  54% 34999/64822 [2:56:52<2:25:58,  3.40it/s]34999\n",
            "Spoons made me fat!\n",
            "\n",
            "Spoons made!\n",
            "\n",
            "Spoons made me cry!\n",
            "Batch_loss $0.7551:  56% 35999/64822 [3:01:53<2:27:19,  3.26it/s]35999\n",
            "The repulsive members of the majority appear to fear testing: perhaps because their home and Christian schooled spawn would come off looking ill-informed?\n",
            "\n",
            "The rep of the appear to fear testing: perhaps because home and schooled spawn come off looking ill-informed?\n",
            "\n",
            "The repubs of the Catholic church appear to fear testing: perhaps because their home and their schooled spawn would come off looking ill-informed?\n",
            "Batch_loss $0.7523:  57% 36999/64822 [3:06:56<2:11:25,  3.53it/s]36999\n",
            "Unfortunately if they set the bar too high they will have to figure out how to bury their bitcoin in their back yard.\n",
            "\n",
            "Unfortunately set the bar too high have to figure out how to their in back yard.\n",
            "\n",
            "Unfortunately they set the bar too high and will have to figure out how to protect their children in their back yard.\n",
            "Batch_loss $0.7496:  59% 37999/64822 [3:11:58<2:22:10,  3.14it/s]37999\n",
            "Three recipients and that's all \"we\" need to know? Speak for yourself, your advice has the distinct aroma of playground BS.\n",
            "\n",
            " recipients and that's all need to know? Speak for, your advice has the distinct aroma of BS.\n",
            "\n",
            "Tax recipients and that's all you need to know? Speak for yourself, your advice has the distinct aroma of Liberal BS.\n",
            "Batch_loss $0.7468:  60% 38999/64822 [3:17:01<2:06:39,  3.40it/s]38999\n",
            "He may be on a path to take back our oil and gas industry from the oil and gas companies that run the state, I hope.\n",
            "\n",
            " may be on a path to take back and from the and that run the, I hope.\n",
            "\n",
            "We may be on a path to take back health care and education from the politicians and corporations that run the state, I hope.\n",
            "Batch_loss $0.7444:  62% 39999/64822 [3:22:03<2:16:08,  3.04it/s]39999\n",
            "\"If you know for sure she lied, then you must have proof. \" You don't have to have proof to know something. I can see you do one thing and then hear you say you did something else but that doesn't mean I can prove it.\n",
            "\n",
            "If you know for sure, then you must. You don't have to have proof to something. can see you do one thing and then hear you say you did something else but that doesn mean can prove it.\n",
            "\n",
            "\"If you know for sure you did nothing wrong, then you must be lying.  You don't have to have proof to lie something.  I can see you do one thing and then hear you say you did something else but that doesn't mean I can prove it.\n",
            "Batch_loss $0.7423:  63% 40999/64822 [3:27:05<1:58:24,  3.35it/s]40999\n",
            "So did your side, and you people didn't have a permit.\n",
            "\n",
            "So did, and't have a permit.\n",
            "\n",
            "So did I, and I didn't have a permit.\n",
            "Batch_loss $0.7402:  65% 41999/64822 [3:32:06<1:51:33,  3.41it/s]41999\n",
            "Charity doesn't demand commenters turn every comment into lurid, salacious points.\n",
            "\n",
            " doesn demand turn every comment into lurid, points.\n",
            "\n",
            "Trump doesn't demand you turn every comment into lurid, hyperbolic points.\n",
            "Batch_loss $0.7385:  66% 42999/64822 [3:37:07<1:50:33,  3.29it/s]42999\n",
            "Levin uses \"common sense & logic\"!\n",
            "\n",
            "L uses sense &\"!\n",
            "\n",
            "Lane uses common sense & logic\"!\n",
            "Batch_loss $0.7364:  68% 43999/64822 [3:42:07<1:42:48,  3.38it/s]43999\n",
            "Science.\n",
            "\n",
            ".\n",
            "\n",
            "Thanks.\n",
            "Batch_loss $0.7344:  69% 44999/64822 [3:47:08<1:35:58,  3.44it/s]44999\n",
            "And did you take the Mooch to task for what he said and did?\n",
            "\n",
            "And you take the to task for what said and did?\n",
            "\n",
            "And did you take the author to task for what he said and did?\n",
            "Batch_loss $0.7326:  71% 45999/64822 [3:52:09<1:31:11,  3.44it/s]45999\n",
            "This woman should get into politics and try to win everyone over. Work in university as the principal? No! She has no spine to defend freedom of speech!   What a disappointing roll model for all young women.\n",
            "\n",
            "This should get and try to win everyone over. Work in as the? No! She has no spine to defend of! What a disappointing roll model for all.\n",
            "\n",
            "This woman should get real and try to win everyone over. Work in prison as the mayor? No! She has no spine to defend the rights of women!  What a disappointing roll model for all women.\n",
            "Batch_loss $0.7306:  73% 46999/64822 [3:57:11<1:32:03,  3.23it/s]46999\n",
            "What a complete crock!\n",
            "\n",
            " a complete cro!\n",
            "\n",
            "You are a complete crook!\n",
            "Batch_loss $0.7289:  74% 47999/64822 [4:02:13<1:28:34,  3.17it/s]47999\n",
            "Try again cupcake. No tears in my sunny world.\n",
            "\n",
            " again cup. in sunny world.\n",
            "\n",
            "Thanks again cupcake. Peace in your sunny world.\n",
            "Batch_loss $0.7272:  76% 48999/64822 [4:07:14<1:20:28,  3.28it/s]48999\n",
            "Man, imagine driving in the other lane and seeing that tanker come rolling at ya!\n",
            "\n",
            ", imagine in the other lane and seeing that come rolling at ya!\n",
            "\n",
            "Man, imagine driving in the other lane and seeing that man come rolling at ya!\n",
            "Batch_loss $0.7253:  77% 49999/64822 [4:12:16<1:07:40,  3.65it/s]49999\n",
            "Carlin would never have backed Levant. There is a difference between \"politically incorrect\" speech and hate speech. Levant is guilty of the latter.\n",
            "\n",
            "Carlin have backed. There is a difference betweenically\" speech and speech. is guilty of the latter.\n",
            "\n",
            "Carlino would have backed Trump. There is a difference between \"politically correct\" speech and hate speech. Trump is guilty of the latter.\n",
            "Batch_loss $0.7237:  79% 50999/64822 [4:17:18<1:13:29,  3.13it/s]50999\n",
            "Yeah, but keep trying. Maybe you will recognize it next time!\n",
            "\n",
            ", but keep trying. you it time!\n",
            "\n",
            "Sorry, but keep trying. Maybe you'll get it next time!\n",
            "Batch_loss $0.7222:  80% 51999/64822 [4:22:19<56:17,  3.80it/s]51999\n",
            "...... starting with O'Really.\n",
            "\n",
            "...... starting with O.\n",
            "\n",
            "...... starting with Oahu.\n",
            "Batch_loss $0.7208:  82% 52999/64822 [4:27:22<57:07,  3.45it/s]52999\n",
            "Sounds like the boss is a one man anarchist.\n",
            "\n",
            "Sounds like the boss is a.\n",
            "\n",
            "Sounds like the boss is a man.\n",
            "Batch_loss $0.7191:  83% 53999/64822 [4:32:24<57:23,  3.14it/s]53999\n",
            "Yep. For today's cons, making most of America upset and angry is a \"win\".     They are out of ideas; it's just about trolling real Americans now.\n",
            "\n",
            ". For today's, making most upset and angry is a \"win\". are out of ideas; it's just about trolling now.\n",
            "\n",
            "Good. For today's left, making most people upset and angry is a \"win\". They are out of ideas; it's just about trolling people now.\n",
            "Batch_loss $0.7176:  85% 54999/64822 [4:37:28<46:31,  3.52it/s]54999\n",
            "So most the rick people out there didn't come from money? And the foreign money  was obtained under the same level of scrutiny and  legality that is imposed on Canadians? Surly you jest!!!\n",
            "\n",
            "So most the r out there come money? And the money was obtained under the same level of scrutiny and that is imposed on? Surly you jest!!!\n",
            "\n",
            "So most the russians out there will never come to our money? And the foreign money  was obtained under the same level of scrutiny and secrecy that is imposed on us? Surly you jestards!!!\n",
            "Batch_loss $0.7161:  86% 55999/64822 [4:42:30<45:34,  3.23it/s]55999\n",
            "I gave Jews as a specific example, mentioned by name in Cantate Domino.  (Is there a way of getting italics and other HTML in Civil Comments? The user guide is silent on things like formatting.)\n",
            "\n",
            " as a specific example, mentioned by name.  (Is there a way of gettingics and other Comments? The user guide is silent on things like formatting.)\n",
            "\n",
            "As well as a specific example, mentioned by name only.  (Is there a way of getting gender equivalency equivalics and other Jewish Comments? The user guide is silent on things like formatting.)\n",
            "Batch_loss $0.7149:  88% 56999/64822 [4:47:31<37:14,  3.50it/s]56999\n",
            "This is not about the temporary travel. It is about arbitrary action by American border guards against Canadian citizens.\n",
            "\n",
            "This is not about the temporary travel It is about arbitrary action by border against\n",
            "\n",
            "This is not about the temporary travel ban. It is about arbitrary action by Canadian border security against white people\n",
            "Batch_loss $0.7138:  89% 57999/64822 [4:52:32<34:53,  3.26it/s]57999\n",
            "I thought Jesus Christ was a fairy tale in your mind?\n",
            "\n",
            "I thought was a fairy tale in your?\n",
            "\n",
            "I thought Christianity was a fairy tale in your mind?\n",
            "Batch_loss $0.7125:  91% 58999/64822 [4:57:34<28:17,  3.43it/s]58999\n",
            "Make Canada great again. Who would have ever thought of that?!\n",
            "\n",
            "Make again. would have ever thought of that?!\n",
            "\n",
            "Make Canada great again. Who would have ever thought of that?!\n",
            "Batch_loss $0.7115:  93% 59999/64822 [5:02:34<23:50,  3.37it/s]59999\n",
            "quote:\"..noting that black women are more likely to be victims of domestic violence.\" And why? Because the number of violent crimes committed by blacks is triple the average per capita for non-blacks.\n",
            "\n",
            "quote:\"..noting that are more likely to be victims of violence.\" And why? Because the number of crimes committed by is triple the average per capita for.\n",
            "\n",
            "quote:\"..noting that women are more likely to be victims of domestic violence.\" And why? Because the number of hate crimes committed by women is triple the average per capita for men.\n",
            "Batch_loss $0.7102:  94% 60999/64822 [5:07:37<19:27,  3.27it/s]60999\n",
            "Indigenous, radicalized Muslims, BLM's all get to protest but three, albeit childish, white guys show up and engage in a bit of banter; and it's scandalous behaviour. Over the top reaction to a non-story.\n",
            "\n",
            ", radicalized, BLM's all get to protest but three, albeit childish, show up and engage in a bit of banter; and it scandalous behaviour. Over the top reaction to a non-story.\n",
            "\n",
            "White, radicalized men, BLM's all get to protest but three, albeit childish, white men show up and engage in a bit of banter; and it's scandalous behaviour. Over the top reaction to a non-story.\n",
            "Batch_loss $0.7090:  96% 61999/64822 [5:12:39<14:40,  3.21it/s]61999\n",
            "I'm sorry, let me rephrase that. What a intellectual disabled state.\n",
            "\n",
            "I'm sorry, let me rephrase that. What a.\n",
            "\n",
            "I'm sorry, let me rephrase that. What a joke.\n",
            "Batch_loss $0.7080:  97% 62999/64822 [5:17:40<09:44,  3.12it/s]62999\n",
            "Nobody did. You are confused.\n",
            "\n",
            ". You are.\n",
            "\n",
            "No. You are wrong.\n",
            "Batch_loss $0.7070:  99% 63999/64822 [5:22:39<03:43,  3.68it/s]63999\n",
            "You've conveniently left out the crises that both Clinton and Obama left us. You have no credibility.\n",
            "\n",
            "You've conveniently left out the that both and left. You have no credibility.\n",
            "\n",
            "You've conveniently left out the facts that both Obama and Hillary left the US. You have no credibility.\n",
            "Batch_loss $0.7062: 100% 64822/64822 [5:26:47<00:00,  3.31it/s]\n",
            "Traceback (most recent call last):\n",
            "  File \"Bart_Label.py\", line 9, in <module>\n",
            "    train_generator(batch_size=3,max_length=64, lr=1e-5, epochs=3 ,mode=\"Bart\",attention_layer=10,\n",
            "  File \"/content/drive/MyDrive/fairness-feedback-nlp-master/Code/Transfer/Training/Training.py\", line 209, in train_generator\n",
            "    torch.save(model.state_dict(), save+str(epoch))\n",
            "  File \"/usr/local/lib/python3.8/dist-packages/torch/serialization.py\", line 377, in save\n",
            "    with _open_file_like(f, 'wb') as opened_file:\n",
            "  File \"/usr/local/lib/python3.8/dist-packages/torch/serialization.py\", line 231, in _open_file_like\n",
            "    return _open_file(name_or_buffer, mode)\n",
            "  File \"/usr/local/lib/python3.8/dist-packages/torch/serialization.py\", line 212, in __init__\n",
            "    super(_open_file, self).__init__(open(name, mode))\n",
            "OSError: [Errno 107] Transport endpoint is not connected: 'generations/Bart_test_label_attention_mean_640'\n",
            "shell-init: error retrieving current directory: getcwd: cannot access parent directories: Transport endpoint is not connected\n",
            "python3: can't open file 'Transfer.py': [Errno 107] Transport endpoint is not connected\n",
            "shell-init: error retrieving current directory: getcwd: cannot access parent directories: Transport endpoint is not connected\n",
            "python3: can't open file 'Transfer_WR_Full.py': [Errno 107] Transport endpoint is not connected\n",
            "shell-init: error retrieving current directory: getcwd: cannot access parent directories: Transport endpoint is not connected\n",
            "python3: can't open file 'Transfer_WR_50.py': [Errno 107] Transport endpoint is not connected\n"
          ]
        }
      ]
    },
    {
      "cell_type": "code",
      "source": [],
      "metadata": {
        "id": "PF_-Af-B4dN-"
      },
      "execution_count": 14,
      "outputs": []
    },
    {
      "cell_type": "markdown",
      "source": [
        "##**Train the transfer pipeline and generate pairs using style transfer and word replacement.**\n",
        "###Results are found in folders Code/generations.\n",
        "######Note: Generating modified comments for all original comments in the dataset can take a long time.\n"
      ],
      "metadata": {
        "id": "rvcBw6OL0vWm"
      }
    },
    {
      "cell_type": "code",
      "source": [
        "#!chmod +x Tables.sh"
      ],
      "metadata": {
        "id": "kFJYZkkr26EZ"
      },
      "execution_count": 15,
      "outputs": []
    },
    {
      "cell_type": "code",
      "source": [
        "#!./Tables.sh"
      ],
      "metadata": {
        "id": "6wmlzx4A7Y3T"
      },
      "execution_count": 16,
      "outputs": []
    },
    {
      "cell_type": "code",
      "source": [],
      "metadata": {
        "id": "cLOLgQsZ4OkV"
      },
      "execution_count": 16,
      "outputs": []
    },
    {
      "cell_type": "code",
      "source": [],
      "metadata": {
        "id": "Lq22K-Aw-2SI"
      },
      "execution_count": 16,
      "outputs": []
    }
  ]
}