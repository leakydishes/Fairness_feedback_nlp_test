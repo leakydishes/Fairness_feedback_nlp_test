{
  "nbformat": 4,
  "nbformat_minor": 0,
  "metadata": {
    "colab": {
      "provenance": [],
      "machine_shape": "hm",
      "gpuType": "V100",
      "authorship_tag": "ABX9TyN8DWoIdiHy4TxlkTJ0QngK",
      "include_colab_link": true
    },
    "kernelspec": {
      "name": "python3",
      "display_name": "Python 3"
    },
    "language_info": {
      "name": "python"
    },
    "accelerator": "GPU",
    "widgets": {
      "application/vnd.jupyter.widget-state+json": {
        "d5f74d414dbb4fec98ce8154b2ec0484": {
          "model_module": "@jupyter-widgets/controls",
          "model_name": "HBoxModel",
          "model_module_version": "1.5.0",
          "state": {
            "_dom_classes": [],
            "_model_module": "@jupyter-widgets/controls",
            "_model_module_version": "1.5.0",
            "_model_name": "HBoxModel",
            "_view_count": null,
            "_view_module": "@jupyter-widgets/controls",
            "_view_module_version": "1.5.0",
            "_view_name": "HBoxView",
            "box_style": "",
            "children": [
              "IPY_MODEL_a610bf0ea6db47c7ba7d902ecffa27af",
              "IPY_MODEL_2aa3177ec482498488b6c903b117a001",
              "IPY_MODEL_3f06c21235b942e5980566f4c9f03160"
            ],
            "layout": "IPY_MODEL_7c402d005bf94dfb90612485cf199ea5"
          }
        },
        "a610bf0ea6db47c7ba7d902ecffa27af": {
          "model_module": "@jupyter-widgets/controls",
          "model_name": "HTMLModel",
          "model_module_version": "1.5.0",
          "state": {
            "_dom_classes": [],
            "_model_module": "@jupyter-widgets/controls",
            "_model_module_version": "1.5.0",
            "_model_name": "HTMLModel",
            "_view_count": null,
            "_view_module": "@jupyter-widgets/controls",
            "_view_module_version": "1.5.0",
            "_view_name": "HTMLView",
            "description": "",
            "description_tooltip": null,
            "layout": "IPY_MODEL_eca76ed0efd3433ea8ed1a521d4a1d2d",
            "placeholder": "​",
            "style": "IPY_MODEL_ee067d9b4eed4e68a183cb2e01e2321c",
            "value": "Saving the dataset (1/1 shards): 100%"
          }
        },
        "2aa3177ec482498488b6c903b117a001": {
          "model_module": "@jupyter-widgets/controls",
          "model_name": "FloatProgressModel",
          "model_module_version": "1.5.0",
          "state": {
            "_dom_classes": [],
            "_model_module": "@jupyter-widgets/controls",
            "_model_module_version": "1.5.0",
            "_model_name": "FloatProgressModel",
            "_view_count": null,
            "_view_module": "@jupyter-widgets/controls",
            "_view_module_version": "1.5.0",
            "_view_name": "ProgressView",
            "bar_style": "success",
            "description": "",
            "description_tooltip": null,
            "layout": "IPY_MODEL_07afe4527b6941a48caf5efd9009c02b",
            "max": 36097,
            "min": 0,
            "orientation": "horizontal",
            "style": "IPY_MODEL_868cbc34e8c144618d2e2c149274b0a9",
            "value": 36097
          }
        },
        "3f06c21235b942e5980566f4c9f03160": {
          "model_module": "@jupyter-widgets/controls",
          "model_name": "HTMLModel",
          "model_module_version": "1.5.0",
          "state": {
            "_dom_classes": [],
            "_model_module": "@jupyter-widgets/controls",
            "_model_module_version": "1.5.0",
            "_model_name": "HTMLModel",
            "_view_count": null,
            "_view_module": "@jupyter-widgets/controls",
            "_view_module_version": "1.5.0",
            "_view_name": "HTMLView",
            "description": "",
            "description_tooltip": null,
            "layout": "IPY_MODEL_4fc6f718e08e4d14a399ca06739411d2",
            "placeholder": "​",
            "style": "IPY_MODEL_305796e9a5754062a19d6f9f50696f75",
            "value": " 36097/36097 [00:00&lt;00:00, 486392.39 examples/s]"
          }
        },
        "7c402d005bf94dfb90612485cf199ea5": {
          "model_module": "@jupyter-widgets/base",
          "model_name": "LayoutModel",
          "model_module_version": "1.2.0",
          "state": {
            "_model_module": "@jupyter-widgets/base",
            "_model_module_version": "1.2.0",
            "_model_name": "LayoutModel",
            "_view_count": null,
            "_view_module": "@jupyter-widgets/base",
            "_view_module_version": "1.2.0",
            "_view_name": "LayoutView",
            "align_content": null,
            "align_items": null,
            "align_self": null,
            "border": null,
            "bottom": null,
            "display": null,
            "flex": null,
            "flex_flow": null,
            "grid_area": null,
            "grid_auto_columns": null,
            "grid_auto_flow": null,
            "grid_auto_rows": null,
            "grid_column": null,
            "grid_gap": null,
            "grid_row": null,
            "grid_template_areas": null,
            "grid_template_columns": null,
            "grid_template_rows": null,
            "height": null,
            "justify_content": null,
            "justify_items": null,
            "left": null,
            "margin": null,
            "max_height": null,
            "max_width": null,
            "min_height": null,
            "min_width": null,
            "object_fit": null,
            "object_position": null,
            "order": null,
            "overflow": null,
            "overflow_x": null,
            "overflow_y": null,
            "padding": null,
            "right": null,
            "top": null,
            "visibility": null,
            "width": null
          }
        },
        "eca76ed0efd3433ea8ed1a521d4a1d2d": {
          "model_module": "@jupyter-widgets/base",
          "model_name": "LayoutModel",
          "model_module_version": "1.2.0",
          "state": {
            "_model_module": "@jupyter-widgets/base",
            "_model_module_version": "1.2.0",
            "_model_name": "LayoutModel",
            "_view_count": null,
            "_view_module": "@jupyter-widgets/base",
            "_view_module_version": "1.2.0",
            "_view_name": "LayoutView",
            "align_content": null,
            "align_items": null,
            "align_self": null,
            "border": null,
            "bottom": null,
            "display": null,
            "flex": null,
            "flex_flow": null,
            "grid_area": null,
            "grid_auto_columns": null,
            "grid_auto_flow": null,
            "grid_auto_rows": null,
            "grid_column": null,
            "grid_gap": null,
            "grid_row": null,
            "grid_template_areas": null,
            "grid_template_columns": null,
            "grid_template_rows": null,
            "height": null,
            "justify_content": null,
            "justify_items": null,
            "left": null,
            "margin": null,
            "max_height": null,
            "max_width": null,
            "min_height": null,
            "min_width": null,
            "object_fit": null,
            "object_position": null,
            "order": null,
            "overflow": null,
            "overflow_x": null,
            "overflow_y": null,
            "padding": null,
            "right": null,
            "top": null,
            "visibility": null,
            "width": null
          }
        },
        "ee067d9b4eed4e68a183cb2e01e2321c": {
          "model_module": "@jupyter-widgets/controls",
          "model_name": "DescriptionStyleModel",
          "model_module_version": "1.5.0",
          "state": {
            "_model_module": "@jupyter-widgets/controls",
            "_model_module_version": "1.5.0",
            "_model_name": "DescriptionStyleModel",
            "_view_count": null,
            "_view_module": "@jupyter-widgets/base",
            "_view_module_version": "1.2.0",
            "_view_name": "StyleView",
            "description_width": ""
          }
        },
        "07afe4527b6941a48caf5efd9009c02b": {
          "model_module": "@jupyter-widgets/base",
          "model_name": "LayoutModel",
          "model_module_version": "1.2.0",
          "state": {
            "_model_module": "@jupyter-widgets/base",
            "_model_module_version": "1.2.0",
            "_model_name": "LayoutModel",
            "_view_count": null,
            "_view_module": "@jupyter-widgets/base",
            "_view_module_version": "1.2.0",
            "_view_name": "LayoutView",
            "align_content": null,
            "align_items": null,
            "align_self": null,
            "border": null,
            "bottom": null,
            "display": null,
            "flex": null,
            "flex_flow": null,
            "grid_area": null,
            "grid_auto_columns": null,
            "grid_auto_flow": null,
            "grid_auto_rows": null,
            "grid_column": null,
            "grid_gap": null,
            "grid_row": null,
            "grid_template_areas": null,
            "grid_template_columns": null,
            "grid_template_rows": null,
            "height": null,
            "justify_content": null,
            "justify_items": null,
            "left": null,
            "margin": null,
            "max_height": null,
            "max_width": null,
            "min_height": null,
            "min_width": null,
            "object_fit": null,
            "object_position": null,
            "order": null,
            "overflow": null,
            "overflow_x": null,
            "overflow_y": null,
            "padding": null,
            "right": null,
            "top": null,
            "visibility": null,
            "width": null
          }
        },
        "868cbc34e8c144618d2e2c149274b0a9": {
          "model_module": "@jupyter-widgets/controls",
          "model_name": "ProgressStyleModel",
          "model_module_version": "1.5.0",
          "state": {
            "_model_module": "@jupyter-widgets/controls",
            "_model_module_version": "1.5.0",
            "_model_name": "ProgressStyleModel",
            "_view_count": null,
            "_view_module": "@jupyter-widgets/base",
            "_view_module_version": "1.2.0",
            "_view_name": "StyleView",
            "bar_color": null,
            "description_width": ""
          }
        },
        "4fc6f718e08e4d14a399ca06739411d2": {
          "model_module": "@jupyter-widgets/base",
          "model_name": "LayoutModel",
          "model_module_version": "1.2.0",
          "state": {
            "_model_module": "@jupyter-widgets/base",
            "_model_module_version": "1.2.0",
            "_model_name": "LayoutModel",
            "_view_count": null,
            "_view_module": "@jupyter-widgets/base",
            "_view_module_version": "1.2.0",
            "_view_name": "LayoutView",
            "align_content": null,
            "align_items": null,
            "align_self": null,
            "border": null,
            "bottom": null,
            "display": null,
            "flex": null,
            "flex_flow": null,
            "grid_area": null,
            "grid_auto_columns": null,
            "grid_auto_flow": null,
            "grid_auto_rows": null,
            "grid_column": null,
            "grid_gap": null,
            "grid_row": null,
            "grid_template_areas": null,
            "grid_template_columns": null,
            "grid_template_rows": null,
            "height": null,
            "justify_content": null,
            "justify_items": null,
            "left": null,
            "margin": null,
            "max_height": null,
            "max_width": null,
            "min_height": null,
            "min_width": null,
            "object_fit": null,
            "object_position": null,
            "order": null,
            "overflow": null,
            "overflow_x": null,
            "overflow_y": null,
            "padding": null,
            "right": null,
            "top": null,
            "visibility": null,
            "width": null
          }
        },
        "305796e9a5754062a19d6f9f50696f75": {
          "model_module": "@jupyter-widgets/controls",
          "model_name": "DescriptionStyleModel",
          "model_module_version": "1.5.0",
          "state": {
            "_model_module": "@jupyter-widgets/controls",
            "_model_module_version": "1.5.0",
            "_model_name": "DescriptionStyleModel",
            "_view_count": null,
            "_view_module": "@jupyter-widgets/base",
            "_view_module_version": "1.2.0",
            "_view_name": "StyleView",
            "description_width": ""
          }
        },
        "0d81205f9541463ea525a496a42694aa": {
          "model_module": "@jupyter-widgets/controls",
          "model_name": "HBoxModel",
          "model_module_version": "1.5.0",
          "state": {
            "_dom_classes": [],
            "_model_module": "@jupyter-widgets/controls",
            "_model_module_version": "1.5.0",
            "_model_name": "HBoxModel",
            "_view_count": null,
            "_view_module": "@jupyter-widgets/controls",
            "_view_module_version": "1.5.0",
            "_view_name": "HBoxView",
            "box_style": "",
            "children": [
              "IPY_MODEL_d2a33143175a4ad195f430907dfaa548",
              "IPY_MODEL_af5f86d63c4a466bbdf984d76077d795",
              "IPY_MODEL_3dcfad9ea4ef49d885b92be7b1336c9c"
            ],
            "layout": "IPY_MODEL_cb414d8aaa4e493b9cca9b326a8a5f87"
          }
        },
        "d2a33143175a4ad195f430907dfaa548": {
          "model_module": "@jupyter-widgets/controls",
          "model_name": "HTMLModel",
          "model_module_version": "1.5.0",
          "state": {
            "_dom_classes": [],
            "_model_module": "@jupyter-widgets/controls",
            "_model_module_version": "1.5.0",
            "_model_name": "HTMLModel",
            "_view_count": null,
            "_view_module": "@jupyter-widgets/controls",
            "_view_module_version": "1.5.0",
            "_view_name": "HTMLView",
            "description": "",
            "description_tooltip": null,
            "layout": "IPY_MODEL_2df543bf55e84d10a429ffd39cd6b229",
            "placeholder": "​",
            "style": "IPY_MODEL_e7a5717e0a024c2a9c80ff2185a9a428",
            "value": "Map: 100%"
          }
        },
        "af5f86d63c4a466bbdf984d76077d795": {
          "model_module": "@jupyter-widgets/controls",
          "model_name": "FloatProgressModel",
          "model_module_version": "1.5.0",
          "state": {
            "_dom_classes": [],
            "_model_module": "@jupyter-widgets/controls",
            "_model_module_version": "1.5.0",
            "_model_name": "FloatProgressModel",
            "_view_count": null,
            "_view_module": "@jupyter-widgets/controls",
            "_view_module_version": "1.5.0",
            "_view_name": "ProgressView",
            "bar_style": "success",
            "description": "",
            "description_tooltip": null,
            "layout": "IPY_MODEL_ddb2bc9cb87f4ff89ffc0790177d75ab",
            "max": 3000,
            "min": 0,
            "orientation": "horizontal",
            "style": "IPY_MODEL_88a303c1251f46dfab3698997f100799",
            "value": 3000
          }
        },
        "3dcfad9ea4ef49d885b92be7b1336c9c": {
          "model_module": "@jupyter-widgets/controls",
          "model_name": "HTMLModel",
          "model_module_version": "1.5.0",
          "state": {
            "_dom_classes": [],
            "_model_module": "@jupyter-widgets/controls",
            "_model_module_version": "1.5.0",
            "_model_name": "HTMLModel",
            "_view_count": null,
            "_view_module": "@jupyter-widgets/controls",
            "_view_module_version": "1.5.0",
            "_view_name": "HTMLView",
            "description": "",
            "description_tooltip": null,
            "layout": "IPY_MODEL_8d612bc3606144de86f3756a84efd004",
            "placeholder": "​",
            "style": "IPY_MODEL_11e9b311a83a4b6e9c3802c572acc6ac",
            "value": " 3000/3000 [00:00&lt;00:00, 9139.20 examples/s]"
          }
        },
        "cb414d8aaa4e493b9cca9b326a8a5f87": {
          "model_module": "@jupyter-widgets/base",
          "model_name": "LayoutModel",
          "model_module_version": "1.2.0",
          "state": {
            "_model_module": "@jupyter-widgets/base",
            "_model_module_version": "1.2.0",
            "_model_name": "LayoutModel",
            "_view_count": null,
            "_view_module": "@jupyter-widgets/base",
            "_view_module_version": "1.2.0",
            "_view_name": "LayoutView",
            "align_content": null,
            "align_items": null,
            "align_self": null,
            "border": null,
            "bottom": null,
            "display": null,
            "flex": null,
            "flex_flow": null,
            "grid_area": null,
            "grid_auto_columns": null,
            "grid_auto_flow": null,
            "grid_auto_rows": null,
            "grid_column": null,
            "grid_gap": null,
            "grid_row": null,
            "grid_template_areas": null,
            "grid_template_columns": null,
            "grid_template_rows": null,
            "height": null,
            "justify_content": null,
            "justify_items": null,
            "left": null,
            "margin": null,
            "max_height": null,
            "max_width": null,
            "min_height": null,
            "min_width": null,
            "object_fit": null,
            "object_position": null,
            "order": null,
            "overflow": null,
            "overflow_x": null,
            "overflow_y": null,
            "padding": null,
            "right": null,
            "top": null,
            "visibility": null,
            "width": null
          }
        },
        "2df543bf55e84d10a429ffd39cd6b229": {
          "model_module": "@jupyter-widgets/base",
          "model_name": "LayoutModel",
          "model_module_version": "1.2.0",
          "state": {
            "_model_module": "@jupyter-widgets/base",
            "_model_module_version": "1.2.0",
            "_model_name": "LayoutModel",
            "_view_count": null,
            "_view_module": "@jupyter-widgets/base",
            "_view_module_version": "1.2.0",
            "_view_name": "LayoutView",
            "align_content": null,
            "align_items": null,
            "align_self": null,
            "border": null,
            "bottom": null,
            "display": null,
            "flex": null,
            "flex_flow": null,
            "grid_area": null,
            "grid_auto_columns": null,
            "grid_auto_flow": null,
            "grid_auto_rows": null,
            "grid_column": null,
            "grid_gap": null,
            "grid_row": null,
            "grid_template_areas": null,
            "grid_template_columns": null,
            "grid_template_rows": null,
            "height": null,
            "justify_content": null,
            "justify_items": null,
            "left": null,
            "margin": null,
            "max_height": null,
            "max_width": null,
            "min_height": null,
            "min_width": null,
            "object_fit": null,
            "object_position": null,
            "order": null,
            "overflow": null,
            "overflow_x": null,
            "overflow_y": null,
            "padding": null,
            "right": null,
            "top": null,
            "visibility": null,
            "width": null
          }
        },
        "e7a5717e0a024c2a9c80ff2185a9a428": {
          "model_module": "@jupyter-widgets/controls",
          "model_name": "DescriptionStyleModel",
          "model_module_version": "1.5.0",
          "state": {
            "_model_module": "@jupyter-widgets/controls",
            "_model_module_version": "1.5.0",
            "_model_name": "DescriptionStyleModel",
            "_view_count": null,
            "_view_module": "@jupyter-widgets/base",
            "_view_module_version": "1.2.0",
            "_view_name": "StyleView",
            "description_width": ""
          }
        },
        "ddb2bc9cb87f4ff89ffc0790177d75ab": {
          "model_module": "@jupyter-widgets/base",
          "model_name": "LayoutModel",
          "model_module_version": "1.2.0",
          "state": {
            "_model_module": "@jupyter-widgets/base",
            "_model_module_version": "1.2.0",
            "_model_name": "LayoutModel",
            "_view_count": null,
            "_view_module": "@jupyter-widgets/base",
            "_view_module_version": "1.2.0",
            "_view_name": "LayoutView",
            "align_content": null,
            "align_items": null,
            "align_self": null,
            "border": null,
            "bottom": null,
            "display": null,
            "flex": null,
            "flex_flow": null,
            "grid_area": null,
            "grid_auto_columns": null,
            "grid_auto_flow": null,
            "grid_auto_rows": null,
            "grid_column": null,
            "grid_gap": null,
            "grid_row": null,
            "grid_template_areas": null,
            "grid_template_columns": null,
            "grid_template_rows": null,
            "height": null,
            "justify_content": null,
            "justify_items": null,
            "left": null,
            "margin": null,
            "max_height": null,
            "max_width": null,
            "min_height": null,
            "min_width": null,
            "object_fit": null,
            "object_position": null,
            "order": null,
            "overflow": null,
            "overflow_x": null,
            "overflow_y": null,
            "padding": null,
            "right": null,
            "top": null,
            "visibility": null,
            "width": null
          }
        },
        "88a303c1251f46dfab3698997f100799": {
          "model_module": "@jupyter-widgets/controls",
          "model_name": "ProgressStyleModel",
          "model_module_version": "1.5.0",
          "state": {
            "_model_module": "@jupyter-widgets/controls",
            "_model_module_version": "1.5.0",
            "_model_name": "ProgressStyleModel",
            "_view_count": null,
            "_view_module": "@jupyter-widgets/base",
            "_view_module_version": "1.2.0",
            "_view_name": "StyleView",
            "bar_color": null,
            "description_width": ""
          }
        },
        "8d612bc3606144de86f3756a84efd004": {
          "model_module": "@jupyter-widgets/base",
          "model_name": "LayoutModel",
          "model_module_version": "1.2.0",
          "state": {
            "_model_module": "@jupyter-widgets/base",
            "_model_module_version": "1.2.0",
            "_model_name": "LayoutModel",
            "_view_count": null,
            "_view_module": "@jupyter-widgets/base",
            "_view_module_version": "1.2.0",
            "_view_name": "LayoutView",
            "align_content": null,
            "align_items": null,
            "align_self": null,
            "border": null,
            "bottom": null,
            "display": null,
            "flex": null,
            "flex_flow": null,
            "grid_area": null,
            "grid_auto_columns": null,
            "grid_auto_flow": null,
            "grid_auto_rows": null,
            "grid_column": null,
            "grid_gap": null,
            "grid_row": null,
            "grid_template_areas": null,
            "grid_template_columns": null,
            "grid_template_rows": null,
            "height": null,
            "justify_content": null,
            "justify_items": null,
            "left": null,
            "margin": null,
            "max_height": null,
            "max_width": null,
            "min_height": null,
            "min_width": null,
            "object_fit": null,
            "object_position": null,
            "order": null,
            "overflow": null,
            "overflow_x": null,
            "overflow_y": null,
            "padding": null,
            "right": null,
            "top": null,
            "visibility": null,
            "width": null
          }
        },
        "11e9b311a83a4b6e9c3802c572acc6ac": {
          "model_module": "@jupyter-widgets/controls",
          "model_name": "DescriptionStyleModel",
          "model_module_version": "1.5.0",
          "state": {
            "_model_module": "@jupyter-widgets/controls",
            "_model_module_version": "1.5.0",
            "_model_name": "DescriptionStyleModel",
            "_view_count": null,
            "_view_module": "@jupyter-widgets/base",
            "_view_module_version": "1.2.0",
            "_view_name": "StyleView",
            "description_width": ""
          }
        },
        "e877515bbcab4220b2a3854c6f46463c": {
          "model_module": "@jupyter-widgets/controls",
          "model_name": "HBoxModel",
          "model_module_version": "1.5.0",
          "state": {
            "_dom_classes": [],
            "_model_module": "@jupyter-widgets/controls",
            "_model_module_version": "1.5.0",
            "_model_name": "HBoxModel",
            "_view_count": null,
            "_view_module": "@jupyter-widgets/controls",
            "_view_module_version": "1.5.0",
            "_view_name": "HBoxView",
            "box_style": "",
            "children": [
              "IPY_MODEL_c6d765983eba4761b68c7df7940edccb",
              "IPY_MODEL_a0a88628773f4a36a2fcac183fd751b9",
              "IPY_MODEL_7fe7c366b84a4140a8943c90c0b74424"
            ],
            "layout": "IPY_MODEL_e956c5cf693e4679aa9dfe2d8c92167a"
          }
        },
        "c6d765983eba4761b68c7df7940edccb": {
          "model_module": "@jupyter-widgets/controls",
          "model_name": "HTMLModel",
          "model_module_version": "1.5.0",
          "state": {
            "_dom_classes": [],
            "_model_module": "@jupyter-widgets/controls",
            "_model_module_version": "1.5.0",
            "_model_name": "HTMLModel",
            "_view_count": null,
            "_view_module": "@jupyter-widgets/controls",
            "_view_module_version": "1.5.0",
            "_view_name": "HTMLView",
            "description": "",
            "description_tooltip": null,
            "layout": "IPY_MODEL_8f422d15087e49288692a3b62f936d32",
            "placeholder": "​",
            "style": "IPY_MODEL_745c807374524c91bd2a50ad36aec1f1",
            "value": "Map: 100%"
          }
        },
        "a0a88628773f4a36a2fcac183fd751b9": {
          "model_module": "@jupyter-widgets/controls",
          "model_name": "FloatProgressModel",
          "model_module_version": "1.5.0",
          "state": {
            "_dom_classes": [],
            "_model_module": "@jupyter-widgets/controls",
            "_model_module_version": "1.5.0",
            "_model_name": "FloatProgressModel",
            "_view_count": null,
            "_view_module": "@jupyter-widgets/controls",
            "_view_module_version": "1.5.0",
            "_view_name": "ProgressView",
            "bar_style": "success",
            "description": "",
            "description_tooltip": null,
            "layout": "IPY_MODEL_a1fb901406424603b7d66867573af8fb",
            "max": 300,
            "min": 0,
            "orientation": "horizontal",
            "style": "IPY_MODEL_06baba467e914643b40022035f02cb9c",
            "value": 300
          }
        },
        "7fe7c366b84a4140a8943c90c0b74424": {
          "model_module": "@jupyter-widgets/controls",
          "model_name": "HTMLModel",
          "model_module_version": "1.5.0",
          "state": {
            "_dom_classes": [],
            "_model_module": "@jupyter-widgets/controls",
            "_model_module_version": "1.5.0",
            "_model_name": "HTMLModel",
            "_view_count": null,
            "_view_module": "@jupyter-widgets/controls",
            "_view_module_version": "1.5.0",
            "_view_name": "HTMLView",
            "description": "",
            "description_tooltip": null,
            "layout": "IPY_MODEL_ecaa066442a044b2999c223820c74a7d",
            "placeholder": "​",
            "style": "IPY_MODEL_ef4d943309234593a931a1377691500c",
            "value": " 300/300 [00:00&lt;00:00, 5131.84 examples/s]"
          }
        },
        "e956c5cf693e4679aa9dfe2d8c92167a": {
          "model_module": "@jupyter-widgets/base",
          "model_name": "LayoutModel",
          "model_module_version": "1.2.0",
          "state": {
            "_model_module": "@jupyter-widgets/base",
            "_model_module_version": "1.2.0",
            "_model_name": "LayoutModel",
            "_view_count": null,
            "_view_module": "@jupyter-widgets/base",
            "_view_module_version": "1.2.0",
            "_view_name": "LayoutView",
            "align_content": null,
            "align_items": null,
            "align_self": null,
            "border": null,
            "bottom": null,
            "display": null,
            "flex": null,
            "flex_flow": null,
            "grid_area": null,
            "grid_auto_columns": null,
            "grid_auto_flow": null,
            "grid_auto_rows": null,
            "grid_column": null,
            "grid_gap": null,
            "grid_row": null,
            "grid_template_areas": null,
            "grid_template_columns": null,
            "grid_template_rows": null,
            "height": null,
            "justify_content": null,
            "justify_items": null,
            "left": null,
            "margin": null,
            "max_height": null,
            "max_width": null,
            "min_height": null,
            "min_width": null,
            "object_fit": null,
            "object_position": null,
            "order": null,
            "overflow": null,
            "overflow_x": null,
            "overflow_y": null,
            "padding": null,
            "right": null,
            "top": null,
            "visibility": null,
            "width": null
          }
        },
        "8f422d15087e49288692a3b62f936d32": {
          "model_module": "@jupyter-widgets/base",
          "model_name": "LayoutModel",
          "model_module_version": "1.2.0",
          "state": {
            "_model_module": "@jupyter-widgets/base",
            "_model_module_version": "1.2.0",
            "_model_name": "LayoutModel",
            "_view_count": null,
            "_view_module": "@jupyter-widgets/base",
            "_view_module_version": "1.2.0",
            "_view_name": "LayoutView",
            "align_content": null,
            "align_items": null,
            "align_self": null,
            "border": null,
            "bottom": null,
            "display": null,
            "flex": null,
            "flex_flow": null,
            "grid_area": null,
            "grid_auto_columns": null,
            "grid_auto_flow": null,
            "grid_auto_rows": null,
            "grid_column": null,
            "grid_gap": null,
            "grid_row": null,
            "grid_template_areas": null,
            "grid_template_columns": null,
            "grid_template_rows": null,
            "height": null,
            "justify_content": null,
            "justify_items": null,
            "left": null,
            "margin": null,
            "max_height": null,
            "max_width": null,
            "min_height": null,
            "min_width": null,
            "object_fit": null,
            "object_position": null,
            "order": null,
            "overflow": null,
            "overflow_x": null,
            "overflow_y": null,
            "padding": null,
            "right": null,
            "top": null,
            "visibility": null,
            "width": null
          }
        },
        "745c807374524c91bd2a50ad36aec1f1": {
          "model_module": "@jupyter-widgets/controls",
          "model_name": "DescriptionStyleModel",
          "model_module_version": "1.5.0",
          "state": {
            "_model_module": "@jupyter-widgets/controls",
            "_model_module_version": "1.5.0",
            "_model_name": "DescriptionStyleModel",
            "_view_count": null,
            "_view_module": "@jupyter-widgets/base",
            "_view_module_version": "1.2.0",
            "_view_name": "StyleView",
            "description_width": ""
          }
        },
        "a1fb901406424603b7d66867573af8fb": {
          "model_module": "@jupyter-widgets/base",
          "model_name": "LayoutModel",
          "model_module_version": "1.2.0",
          "state": {
            "_model_module": "@jupyter-widgets/base",
            "_model_module_version": "1.2.0",
            "_model_name": "LayoutModel",
            "_view_count": null,
            "_view_module": "@jupyter-widgets/base",
            "_view_module_version": "1.2.0",
            "_view_name": "LayoutView",
            "align_content": null,
            "align_items": null,
            "align_self": null,
            "border": null,
            "bottom": null,
            "display": null,
            "flex": null,
            "flex_flow": null,
            "grid_area": null,
            "grid_auto_columns": null,
            "grid_auto_flow": null,
            "grid_auto_rows": null,
            "grid_column": null,
            "grid_gap": null,
            "grid_row": null,
            "grid_template_areas": null,
            "grid_template_columns": null,
            "grid_template_rows": null,
            "height": null,
            "justify_content": null,
            "justify_items": null,
            "left": null,
            "margin": null,
            "max_height": null,
            "max_width": null,
            "min_height": null,
            "min_width": null,
            "object_fit": null,
            "object_position": null,
            "order": null,
            "overflow": null,
            "overflow_x": null,
            "overflow_y": null,
            "padding": null,
            "right": null,
            "top": null,
            "visibility": null,
            "width": null
          }
        },
        "06baba467e914643b40022035f02cb9c": {
          "model_module": "@jupyter-widgets/controls",
          "model_name": "ProgressStyleModel",
          "model_module_version": "1.5.0",
          "state": {
            "_model_module": "@jupyter-widgets/controls",
            "_model_module_version": "1.5.0",
            "_model_name": "ProgressStyleModel",
            "_view_count": null,
            "_view_module": "@jupyter-widgets/base",
            "_view_module_version": "1.2.0",
            "_view_name": "StyleView",
            "bar_color": null,
            "description_width": ""
          }
        },
        "ecaa066442a044b2999c223820c74a7d": {
          "model_module": "@jupyter-widgets/base",
          "model_name": "LayoutModel",
          "model_module_version": "1.2.0",
          "state": {
            "_model_module": "@jupyter-widgets/base",
            "_model_module_version": "1.2.0",
            "_model_name": "LayoutModel",
            "_view_count": null,
            "_view_module": "@jupyter-widgets/base",
            "_view_module_version": "1.2.0",
            "_view_name": "LayoutView",
            "align_content": null,
            "align_items": null,
            "align_self": null,
            "border": null,
            "bottom": null,
            "display": null,
            "flex": null,
            "flex_flow": null,
            "grid_area": null,
            "grid_auto_columns": null,
            "grid_auto_flow": null,
            "grid_auto_rows": null,
            "grid_column": null,
            "grid_gap": null,
            "grid_row": null,
            "grid_template_areas": null,
            "grid_template_columns": null,
            "grid_template_rows": null,
            "height": null,
            "justify_content": null,
            "justify_items": null,
            "left": null,
            "margin": null,
            "max_height": null,
            "max_width": null,
            "min_height": null,
            "min_width": null,
            "object_fit": null,
            "object_position": null,
            "order": null,
            "overflow": null,
            "overflow_x": null,
            "overflow_y": null,
            "padding": null,
            "right": null,
            "top": null,
            "visibility": null,
            "width": null
          }
        },
        "ef4d943309234593a931a1377691500c": {
          "model_module": "@jupyter-widgets/controls",
          "model_name": "DescriptionStyleModel",
          "model_module_version": "1.5.0",
          "state": {
            "_model_module": "@jupyter-widgets/controls",
            "_model_module_version": "1.5.0",
            "_model_name": "DescriptionStyleModel",
            "_view_count": null,
            "_view_module": "@jupyter-widgets/base",
            "_view_module_version": "1.2.0",
            "_view_name": "StyleView",
            "description_width": ""
          }
        },
        "3c26580d501842fea3b9e813447951a2": {
          "model_module": "@jupyter-widgets/controls",
          "model_name": "VBoxModel",
          "model_module_version": "1.5.0",
          "state": {
            "_dom_classes": [],
            "_model_module": "@jupyter-widgets/controls",
            "_model_module_version": "1.5.0",
            "_model_name": "VBoxModel",
            "_view_count": null,
            "_view_module": "@jupyter-widgets/controls",
            "_view_module_version": "1.5.0",
            "_view_name": "VBoxView",
            "box_style": "",
            "children": [
              "IPY_MODEL_dd065b3532954dcd8144b175e2f173ed",
              "IPY_MODEL_ec85b92afff04251871a64419514d6eb",
              "IPY_MODEL_fcd0e8df250d474bbdd716c5e3d03b5a",
              "IPY_MODEL_aefc01e276e64861917689775b8ae4c9"
            ],
            "layout": "IPY_MODEL_1f89518ef6034a66872e06fce2ff2458"
          }
        },
        "0e138f8f25854560883fdd561f01fac1": {
          "model_module": "@jupyter-widgets/controls",
          "model_name": "HTMLModel",
          "model_module_version": "1.5.0",
          "state": {
            "_dom_classes": [],
            "_model_module": "@jupyter-widgets/controls",
            "_model_module_version": "1.5.0",
            "_model_name": "HTMLModel",
            "_view_count": null,
            "_view_module": "@jupyter-widgets/controls",
            "_view_module_version": "1.5.0",
            "_view_name": "HTMLView",
            "description": "",
            "description_tooltip": null,
            "layout": "IPY_MODEL_851a9698ff954c08a0951fa8f06e87a9",
            "placeholder": "​",
            "style": "IPY_MODEL_6b9377c9684d49f48b3471971a1ee532",
            "value": "<center> <img\nsrc=https://huggingface.co/front/assets/huggingface_logo-noborder.svg\nalt='Hugging Face'> <br> Copy a token from <a\nhref=\"https://huggingface.co/settings/tokens\" target=\"_blank\">your Hugging Face\ntokens page</a> and paste it below. <br> Immediately click login after copying\nyour token or it might be stored in plain text in this notebook file. </center>"
          }
        },
        "810015c2c507430092e87d68cc4a6281": {
          "model_module": "@jupyter-widgets/controls",
          "model_name": "PasswordModel",
          "model_module_version": "1.5.0",
          "state": {
            "_dom_classes": [],
            "_model_module": "@jupyter-widgets/controls",
            "_model_module_version": "1.5.0",
            "_model_name": "PasswordModel",
            "_view_count": null,
            "_view_module": "@jupyter-widgets/controls",
            "_view_module_version": "1.5.0",
            "_view_name": "PasswordView",
            "continuous_update": true,
            "description": "Token:",
            "description_tooltip": null,
            "disabled": false,
            "layout": "IPY_MODEL_77eb873047fe4c58b5f6e3b74a205632",
            "placeholder": "​",
            "style": "IPY_MODEL_8bf48331c6e54178846e1779dec801cb",
            "value": ""
          }
        },
        "7444673c545642fc82f5690f290c7fdb": {
          "model_module": "@jupyter-widgets/controls",
          "model_name": "CheckboxModel",
          "model_module_version": "1.5.0",
          "state": {
            "_dom_classes": [],
            "_model_module": "@jupyter-widgets/controls",
            "_model_module_version": "1.5.0",
            "_model_name": "CheckboxModel",
            "_view_count": null,
            "_view_module": "@jupyter-widgets/controls",
            "_view_module_version": "1.5.0",
            "_view_name": "CheckboxView",
            "description": "Add token as git credential?",
            "description_tooltip": null,
            "disabled": false,
            "indent": true,
            "layout": "IPY_MODEL_d1ae232e4e1f457f8e7d46982d787ada",
            "style": "IPY_MODEL_301d9f98bb7b41589041b09371b3abaa",
            "value": true
          }
        },
        "0be8cc1bfccb47c18007a9d9f2dff7fd": {
          "model_module": "@jupyter-widgets/controls",
          "model_name": "ButtonModel",
          "model_module_version": "1.5.0",
          "state": {
            "_dom_classes": [],
            "_model_module": "@jupyter-widgets/controls",
            "_model_module_version": "1.5.0",
            "_model_name": "ButtonModel",
            "_view_count": null,
            "_view_module": "@jupyter-widgets/controls",
            "_view_module_version": "1.5.0",
            "_view_name": "ButtonView",
            "button_style": "",
            "description": "Login",
            "disabled": false,
            "icon": "",
            "layout": "IPY_MODEL_e97eddc05e9c47ca9f9c88e0b60aca4d",
            "style": "IPY_MODEL_8f8d4041bd004c1992390e6ef4b2d660",
            "tooltip": ""
          }
        },
        "84ccb7bb546949908404221dc2da17ad": {
          "model_module": "@jupyter-widgets/controls",
          "model_name": "HTMLModel",
          "model_module_version": "1.5.0",
          "state": {
            "_dom_classes": [],
            "_model_module": "@jupyter-widgets/controls",
            "_model_module_version": "1.5.0",
            "_model_name": "HTMLModel",
            "_view_count": null,
            "_view_module": "@jupyter-widgets/controls",
            "_view_module_version": "1.5.0",
            "_view_name": "HTMLView",
            "description": "",
            "description_tooltip": null,
            "layout": "IPY_MODEL_95fcd5f3f7b84a468defb2720ee3d0c8",
            "placeholder": "​",
            "style": "IPY_MODEL_33c75730c6004cda830f4f2b27946cf8",
            "value": "\n<b>Pro Tip:</b> If you don't already have one, you can create a dedicated\n'notebooks' token with 'write' access, that you can then easily reuse for all\nnotebooks. </center>"
          }
        },
        "1f89518ef6034a66872e06fce2ff2458": {
          "model_module": "@jupyter-widgets/base",
          "model_name": "LayoutModel",
          "model_module_version": "1.2.0",
          "state": {
            "_model_module": "@jupyter-widgets/base",
            "_model_module_version": "1.2.0",
            "_model_name": "LayoutModel",
            "_view_count": null,
            "_view_module": "@jupyter-widgets/base",
            "_view_module_version": "1.2.0",
            "_view_name": "LayoutView",
            "align_content": null,
            "align_items": "center",
            "align_self": null,
            "border": null,
            "bottom": null,
            "display": "flex",
            "flex": null,
            "flex_flow": "column",
            "grid_area": null,
            "grid_auto_columns": null,
            "grid_auto_flow": null,
            "grid_auto_rows": null,
            "grid_column": null,
            "grid_gap": null,
            "grid_row": null,
            "grid_template_areas": null,
            "grid_template_columns": null,
            "grid_template_rows": null,
            "height": null,
            "justify_content": null,
            "justify_items": null,
            "left": null,
            "margin": null,
            "max_height": null,
            "max_width": null,
            "min_height": null,
            "min_width": null,
            "object_fit": null,
            "object_position": null,
            "order": null,
            "overflow": null,
            "overflow_x": null,
            "overflow_y": null,
            "padding": null,
            "right": null,
            "top": null,
            "visibility": null,
            "width": "50%"
          }
        },
        "851a9698ff954c08a0951fa8f06e87a9": {
          "model_module": "@jupyter-widgets/base",
          "model_name": "LayoutModel",
          "model_module_version": "1.2.0",
          "state": {
            "_model_module": "@jupyter-widgets/base",
            "_model_module_version": "1.2.0",
            "_model_name": "LayoutModel",
            "_view_count": null,
            "_view_module": "@jupyter-widgets/base",
            "_view_module_version": "1.2.0",
            "_view_name": "LayoutView",
            "align_content": null,
            "align_items": null,
            "align_self": null,
            "border": null,
            "bottom": null,
            "display": null,
            "flex": null,
            "flex_flow": null,
            "grid_area": null,
            "grid_auto_columns": null,
            "grid_auto_flow": null,
            "grid_auto_rows": null,
            "grid_column": null,
            "grid_gap": null,
            "grid_row": null,
            "grid_template_areas": null,
            "grid_template_columns": null,
            "grid_template_rows": null,
            "height": null,
            "justify_content": null,
            "justify_items": null,
            "left": null,
            "margin": null,
            "max_height": null,
            "max_width": null,
            "min_height": null,
            "min_width": null,
            "object_fit": null,
            "object_position": null,
            "order": null,
            "overflow": null,
            "overflow_x": null,
            "overflow_y": null,
            "padding": null,
            "right": null,
            "top": null,
            "visibility": null,
            "width": null
          }
        },
        "6b9377c9684d49f48b3471971a1ee532": {
          "model_module": "@jupyter-widgets/controls",
          "model_name": "DescriptionStyleModel",
          "model_module_version": "1.5.0",
          "state": {
            "_model_module": "@jupyter-widgets/controls",
            "_model_module_version": "1.5.0",
            "_model_name": "DescriptionStyleModel",
            "_view_count": null,
            "_view_module": "@jupyter-widgets/base",
            "_view_module_version": "1.2.0",
            "_view_name": "StyleView",
            "description_width": ""
          }
        },
        "77eb873047fe4c58b5f6e3b74a205632": {
          "model_module": "@jupyter-widgets/base",
          "model_name": "LayoutModel",
          "model_module_version": "1.2.0",
          "state": {
            "_model_module": "@jupyter-widgets/base",
            "_model_module_version": "1.2.0",
            "_model_name": "LayoutModel",
            "_view_count": null,
            "_view_module": "@jupyter-widgets/base",
            "_view_module_version": "1.2.0",
            "_view_name": "LayoutView",
            "align_content": null,
            "align_items": null,
            "align_self": null,
            "border": null,
            "bottom": null,
            "display": null,
            "flex": null,
            "flex_flow": null,
            "grid_area": null,
            "grid_auto_columns": null,
            "grid_auto_flow": null,
            "grid_auto_rows": null,
            "grid_column": null,
            "grid_gap": null,
            "grid_row": null,
            "grid_template_areas": null,
            "grid_template_columns": null,
            "grid_template_rows": null,
            "height": null,
            "justify_content": null,
            "justify_items": null,
            "left": null,
            "margin": null,
            "max_height": null,
            "max_width": null,
            "min_height": null,
            "min_width": null,
            "object_fit": null,
            "object_position": null,
            "order": null,
            "overflow": null,
            "overflow_x": null,
            "overflow_y": null,
            "padding": null,
            "right": null,
            "top": null,
            "visibility": null,
            "width": null
          }
        },
        "8bf48331c6e54178846e1779dec801cb": {
          "model_module": "@jupyter-widgets/controls",
          "model_name": "DescriptionStyleModel",
          "model_module_version": "1.5.0",
          "state": {
            "_model_module": "@jupyter-widgets/controls",
            "_model_module_version": "1.5.0",
            "_model_name": "DescriptionStyleModel",
            "_view_count": null,
            "_view_module": "@jupyter-widgets/base",
            "_view_module_version": "1.2.0",
            "_view_name": "StyleView",
            "description_width": ""
          }
        },
        "d1ae232e4e1f457f8e7d46982d787ada": {
          "model_module": "@jupyter-widgets/base",
          "model_name": "LayoutModel",
          "model_module_version": "1.2.0",
          "state": {
            "_model_module": "@jupyter-widgets/base",
            "_model_module_version": "1.2.0",
            "_model_name": "LayoutModel",
            "_view_count": null,
            "_view_module": "@jupyter-widgets/base",
            "_view_module_version": "1.2.0",
            "_view_name": "LayoutView",
            "align_content": null,
            "align_items": null,
            "align_self": null,
            "border": null,
            "bottom": null,
            "display": null,
            "flex": null,
            "flex_flow": null,
            "grid_area": null,
            "grid_auto_columns": null,
            "grid_auto_flow": null,
            "grid_auto_rows": null,
            "grid_column": null,
            "grid_gap": null,
            "grid_row": null,
            "grid_template_areas": null,
            "grid_template_columns": null,
            "grid_template_rows": null,
            "height": null,
            "justify_content": null,
            "justify_items": null,
            "left": null,
            "margin": null,
            "max_height": null,
            "max_width": null,
            "min_height": null,
            "min_width": null,
            "object_fit": null,
            "object_position": null,
            "order": null,
            "overflow": null,
            "overflow_x": null,
            "overflow_y": null,
            "padding": null,
            "right": null,
            "top": null,
            "visibility": null,
            "width": null
          }
        },
        "301d9f98bb7b41589041b09371b3abaa": {
          "model_module": "@jupyter-widgets/controls",
          "model_name": "DescriptionStyleModel",
          "model_module_version": "1.5.0",
          "state": {
            "_model_module": "@jupyter-widgets/controls",
            "_model_module_version": "1.5.0",
            "_model_name": "DescriptionStyleModel",
            "_view_count": null,
            "_view_module": "@jupyter-widgets/base",
            "_view_module_version": "1.2.0",
            "_view_name": "StyleView",
            "description_width": ""
          }
        },
        "e97eddc05e9c47ca9f9c88e0b60aca4d": {
          "model_module": "@jupyter-widgets/base",
          "model_name": "LayoutModel",
          "model_module_version": "1.2.0",
          "state": {
            "_model_module": "@jupyter-widgets/base",
            "_model_module_version": "1.2.0",
            "_model_name": "LayoutModel",
            "_view_count": null,
            "_view_module": "@jupyter-widgets/base",
            "_view_module_version": "1.2.0",
            "_view_name": "LayoutView",
            "align_content": null,
            "align_items": null,
            "align_self": null,
            "border": null,
            "bottom": null,
            "display": null,
            "flex": null,
            "flex_flow": null,
            "grid_area": null,
            "grid_auto_columns": null,
            "grid_auto_flow": null,
            "grid_auto_rows": null,
            "grid_column": null,
            "grid_gap": null,
            "grid_row": null,
            "grid_template_areas": null,
            "grid_template_columns": null,
            "grid_template_rows": null,
            "height": null,
            "justify_content": null,
            "justify_items": null,
            "left": null,
            "margin": null,
            "max_height": null,
            "max_width": null,
            "min_height": null,
            "min_width": null,
            "object_fit": null,
            "object_position": null,
            "order": null,
            "overflow": null,
            "overflow_x": null,
            "overflow_y": null,
            "padding": null,
            "right": null,
            "top": null,
            "visibility": null,
            "width": null
          }
        },
        "8f8d4041bd004c1992390e6ef4b2d660": {
          "model_module": "@jupyter-widgets/controls",
          "model_name": "ButtonStyleModel",
          "model_module_version": "1.5.0",
          "state": {
            "_model_module": "@jupyter-widgets/controls",
            "_model_module_version": "1.5.0",
            "_model_name": "ButtonStyleModel",
            "_view_count": null,
            "_view_module": "@jupyter-widgets/base",
            "_view_module_version": "1.2.0",
            "_view_name": "StyleView",
            "button_color": null,
            "font_weight": ""
          }
        },
        "95fcd5f3f7b84a468defb2720ee3d0c8": {
          "model_module": "@jupyter-widgets/base",
          "model_name": "LayoutModel",
          "model_module_version": "1.2.0",
          "state": {
            "_model_module": "@jupyter-widgets/base",
            "_model_module_version": "1.2.0",
            "_model_name": "LayoutModel",
            "_view_count": null,
            "_view_module": "@jupyter-widgets/base",
            "_view_module_version": "1.2.0",
            "_view_name": "LayoutView",
            "align_content": null,
            "align_items": null,
            "align_self": null,
            "border": null,
            "bottom": null,
            "display": null,
            "flex": null,
            "flex_flow": null,
            "grid_area": null,
            "grid_auto_columns": null,
            "grid_auto_flow": null,
            "grid_auto_rows": null,
            "grid_column": null,
            "grid_gap": null,
            "grid_row": null,
            "grid_template_areas": null,
            "grid_template_columns": null,
            "grid_template_rows": null,
            "height": null,
            "justify_content": null,
            "justify_items": null,
            "left": null,
            "margin": null,
            "max_height": null,
            "max_width": null,
            "min_height": null,
            "min_width": null,
            "object_fit": null,
            "object_position": null,
            "order": null,
            "overflow": null,
            "overflow_x": null,
            "overflow_y": null,
            "padding": null,
            "right": null,
            "top": null,
            "visibility": null,
            "width": null
          }
        },
        "33c75730c6004cda830f4f2b27946cf8": {
          "model_module": "@jupyter-widgets/controls",
          "model_name": "DescriptionStyleModel",
          "model_module_version": "1.5.0",
          "state": {
            "_model_module": "@jupyter-widgets/controls",
            "_model_module_version": "1.5.0",
            "_model_name": "DescriptionStyleModel",
            "_view_count": null,
            "_view_module": "@jupyter-widgets/base",
            "_view_module_version": "1.2.0",
            "_view_name": "StyleView",
            "description_width": ""
          }
        },
        "2d3138f8f42c48f3a20aa2c74fb7f409": {
          "model_module": "@jupyter-widgets/controls",
          "model_name": "LabelModel",
          "model_module_version": "1.5.0",
          "state": {
            "_dom_classes": [],
            "_model_module": "@jupyter-widgets/controls",
            "_model_module_version": "1.5.0",
            "_model_name": "LabelModel",
            "_view_count": null,
            "_view_module": "@jupyter-widgets/controls",
            "_view_module_version": "1.5.0",
            "_view_name": "LabelView",
            "description": "",
            "description_tooltip": null,
            "layout": "IPY_MODEL_1fae40e213734385bf640235605adf2b",
            "placeholder": "​",
            "style": "IPY_MODEL_050a785f9d404f268c9156502717b530",
            "value": "Connecting..."
          }
        },
        "1fae40e213734385bf640235605adf2b": {
          "model_module": "@jupyter-widgets/base",
          "model_name": "LayoutModel",
          "model_module_version": "1.2.0",
          "state": {
            "_model_module": "@jupyter-widgets/base",
            "_model_module_version": "1.2.0",
            "_model_name": "LayoutModel",
            "_view_count": null,
            "_view_module": "@jupyter-widgets/base",
            "_view_module_version": "1.2.0",
            "_view_name": "LayoutView",
            "align_content": null,
            "align_items": null,
            "align_self": null,
            "border": null,
            "bottom": null,
            "display": null,
            "flex": null,
            "flex_flow": null,
            "grid_area": null,
            "grid_auto_columns": null,
            "grid_auto_flow": null,
            "grid_auto_rows": null,
            "grid_column": null,
            "grid_gap": null,
            "grid_row": null,
            "grid_template_areas": null,
            "grid_template_columns": null,
            "grid_template_rows": null,
            "height": null,
            "justify_content": null,
            "justify_items": null,
            "left": null,
            "margin": null,
            "max_height": null,
            "max_width": null,
            "min_height": null,
            "min_width": null,
            "object_fit": null,
            "object_position": null,
            "order": null,
            "overflow": null,
            "overflow_x": null,
            "overflow_y": null,
            "padding": null,
            "right": null,
            "top": null,
            "visibility": null,
            "width": null
          }
        },
        "050a785f9d404f268c9156502717b530": {
          "model_module": "@jupyter-widgets/controls",
          "model_name": "DescriptionStyleModel",
          "model_module_version": "1.5.0",
          "state": {
            "_model_module": "@jupyter-widgets/controls",
            "_model_module_version": "1.5.0",
            "_model_name": "DescriptionStyleModel",
            "_view_count": null,
            "_view_module": "@jupyter-widgets/base",
            "_view_module_version": "1.2.0",
            "_view_name": "StyleView",
            "description_width": ""
          }
        },
        "dd065b3532954dcd8144b175e2f173ed": {
          "model_module": "@jupyter-widgets/controls",
          "model_name": "LabelModel",
          "model_module_version": "1.5.0",
          "state": {
            "_dom_classes": [],
            "_model_module": "@jupyter-widgets/controls",
            "_model_module_version": "1.5.0",
            "_model_name": "LabelModel",
            "_view_count": null,
            "_view_module": "@jupyter-widgets/controls",
            "_view_module_version": "1.5.0",
            "_view_name": "LabelView",
            "description": "",
            "description_tooltip": null,
            "layout": "IPY_MODEL_4b7f2dc9950f41b3b9603a812eb78a41",
            "placeholder": "​",
            "style": "IPY_MODEL_ee64f383439a40b4a8b9cbc6ce4b7ff3",
            "value": "Token is valid (permission: write)."
          }
        },
        "ec85b92afff04251871a64419514d6eb": {
          "model_module": "@jupyter-widgets/controls",
          "model_name": "LabelModel",
          "model_module_version": "1.5.0",
          "state": {
            "_dom_classes": [],
            "_model_module": "@jupyter-widgets/controls",
            "_model_module_version": "1.5.0",
            "_model_name": "LabelModel",
            "_view_count": null,
            "_view_module": "@jupyter-widgets/controls",
            "_view_module_version": "1.5.0",
            "_view_name": "LabelView",
            "description": "",
            "description_tooltip": null,
            "layout": "IPY_MODEL_61e20a19bef247d1899359e00024bdc0",
            "placeholder": "​",
            "style": "IPY_MODEL_e240938aca7d4d58906ca325023ec075",
            "value": "Your token has been saved in your configured git credential helpers (store)."
          }
        },
        "fcd0e8df250d474bbdd716c5e3d03b5a": {
          "model_module": "@jupyter-widgets/controls",
          "model_name": "LabelModel",
          "model_module_version": "1.5.0",
          "state": {
            "_dom_classes": [],
            "_model_module": "@jupyter-widgets/controls",
            "_model_module_version": "1.5.0",
            "_model_name": "LabelModel",
            "_view_count": null,
            "_view_module": "@jupyter-widgets/controls",
            "_view_module_version": "1.5.0",
            "_view_name": "LabelView",
            "description": "",
            "description_tooltip": null,
            "layout": "IPY_MODEL_05918e4781f9450e9610c166c36f4b51",
            "placeholder": "​",
            "style": "IPY_MODEL_cd9a8ee884374476916ab8e1100a0be0",
            "value": "Your token has been saved to /root/.cache/huggingface/token"
          }
        },
        "aefc01e276e64861917689775b8ae4c9": {
          "model_module": "@jupyter-widgets/controls",
          "model_name": "LabelModel",
          "model_module_version": "1.5.0",
          "state": {
            "_dom_classes": [],
            "_model_module": "@jupyter-widgets/controls",
            "_model_module_version": "1.5.0",
            "_model_name": "LabelModel",
            "_view_count": null,
            "_view_module": "@jupyter-widgets/controls",
            "_view_module_version": "1.5.0",
            "_view_name": "LabelView",
            "description": "",
            "description_tooltip": null,
            "layout": "IPY_MODEL_f9cf2c6fb6ba46aca591da7b56d72732",
            "placeholder": "​",
            "style": "IPY_MODEL_97d272a17bf44d58bbcd8a73fd48d80f",
            "value": "Login successful"
          }
        },
        "4b7f2dc9950f41b3b9603a812eb78a41": {
          "model_module": "@jupyter-widgets/base",
          "model_name": "LayoutModel",
          "model_module_version": "1.2.0",
          "state": {
            "_model_module": "@jupyter-widgets/base",
            "_model_module_version": "1.2.0",
            "_model_name": "LayoutModel",
            "_view_count": null,
            "_view_module": "@jupyter-widgets/base",
            "_view_module_version": "1.2.0",
            "_view_name": "LayoutView",
            "align_content": null,
            "align_items": null,
            "align_self": null,
            "border": null,
            "bottom": null,
            "display": null,
            "flex": null,
            "flex_flow": null,
            "grid_area": null,
            "grid_auto_columns": null,
            "grid_auto_flow": null,
            "grid_auto_rows": null,
            "grid_column": null,
            "grid_gap": null,
            "grid_row": null,
            "grid_template_areas": null,
            "grid_template_columns": null,
            "grid_template_rows": null,
            "height": null,
            "justify_content": null,
            "justify_items": null,
            "left": null,
            "margin": null,
            "max_height": null,
            "max_width": null,
            "min_height": null,
            "min_width": null,
            "object_fit": null,
            "object_position": null,
            "order": null,
            "overflow": null,
            "overflow_x": null,
            "overflow_y": null,
            "padding": null,
            "right": null,
            "top": null,
            "visibility": null,
            "width": null
          }
        },
        "ee64f383439a40b4a8b9cbc6ce4b7ff3": {
          "model_module": "@jupyter-widgets/controls",
          "model_name": "DescriptionStyleModel",
          "model_module_version": "1.5.0",
          "state": {
            "_model_module": "@jupyter-widgets/controls",
            "_model_module_version": "1.5.0",
            "_model_name": "DescriptionStyleModel",
            "_view_count": null,
            "_view_module": "@jupyter-widgets/base",
            "_view_module_version": "1.2.0",
            "_view_name": "StyleView",
            "description_width": ""
          }
        },
        "61e20a19bef247d1899359e00024bdc0": {
          "model_module": "@jupyter-widgets/base",
          "model_name": "LayoutModel",
          "model_module_version": "1.2.0",
          "state": {
            "_model_module": "@jupyter-widgets/base",
            "_model_module_version": "1.2.0",
            "_model_name": "LayoutModel",
            "_view_count": null,
            "_view_module": "@jupyter-widgets/base",
            "_view_module_version": "1.2.0",
            "_view_name": "LayoutView",
            "align_content": null,
            "align_items": null,
            "align_self": null,
            "border": null,
            "bottom": null,
            "display": null,
            "flex": null,
            "flex_flow": null,
            "grid_area": null,
            "grid_auto_columns": null,
            "grid_auto_flow": null,
            "grid_auto_rows": null,
            "grid_column": null,
            "grid_gap": null,
            "grid_row": null,
            "grid_template_areas": null,
            "grid_template_columns": null,
            "grid_template_rows": null,
            "height": null,
            "justify_content": null,
            "justify_items": null,
            "left": null,
            "margin": null,
            "max_height": null,
            "max_width": null,
            "min_height": null,
            "min_width": null,
            "object_fit": null,
            "object_position": null,
            "order": null,
            "overflow": null,
            "overflow_x": null,
            "overflow_y": null,
            "padding": null,
            "right": null,
            "top": null,
            "visibility": null,
            "width": null
          }
        },
        "e240938aca7d4d58906ca325023ec075": {
          "model_module": "@jupyter-widgets/controls",
          "model_name": "DescriptionStyleModel",
          "model_module_version": "1.5.0",
          "state": {
            "_model_module": "@jupyter-widgets/controls",
            "_model_module_version": "1.5.0",
            "_model_name": "DescriptionStyleModel",
            "_view_count": null,
            "_view_module": "@jupyter-widgets/base",
            "_view_module_version": "1.2.0",
            "_view_name": "StyleView",
            "description_width": ""
          }
        },
        "05918e4781f9450e9610c166c36f4b51": {
          "model_module": "@jupyter-widgets/base",
          "model_name": "LayoutModel",
          "model_module_version": "1.2.0",
          "state": {
            "_model_module": "@jupyter-widgets/base",
            "_model_module_version": "1.2.0",
            "_model_name": "LayoutModel",
            "_view_count": null,
            "_view_module": "@jupyter-widgets/base",
            "_view_module_version": "1.2.0",
            "_view_name": "LayoutView",
            "align_content": null,
            "align_items": null,
            "align_self": null,
            "border": null,
            "bottom": null,
            "display": null,
            "flex": null,
            "flex_flow": null,
            "grid_area": null,
            "grid_auto_columns": null,
            "grid_auto_flow": null,
            "grid_auto_rows": null,
            "grid_column": null,
            "grid_gap": null,
            "grid_row": null,
            "grid_template_areas": null,
            "grid_template_columns": null,
            "grid_template_rows": null,
            "height": null,
            "justify_content": null,
            "justify_items": null,
            "left": null,
            "margin": null,
            "max_height": null,
            "max_width": null,
            "min_height": null,
            "min_width": null,
            "object_fit": null,
            "object_position": null,
            "order": null,
            "overflow": null,
            "overflow_x": null,
            "overflow_y": null,
            "padding": null,
            "right": null,
            "top": null,
            "visibility": null,
            "width": null
          }
        },
        "cd9a8ee884374476916ab8e1100a0be0": {
          "model_module": "@jupyter-widgets/controls",
          "model_name": "DescriptionStyleModel",
          "model_module_version": "1.5.0",
          "state": {
            "_model_module": "@jupyter-widgets/controls",
            "_model_module_version": "1.5.0",
            "_model_name": "DescriptionStyleModel",
            "_view_count": null,
            "_view_module": "@jupyter-widgets/base",
            "_view_module_version": "1.2.0",
            "_view_name": "StyleView",
            "description_width": ""
          }
        },
        "f9cf2c6fb6ba46aca591da7b56d72732": {
          "model_module": "@jupyter-widgets/base",
          "model_name": "LayoutModel",
          "model_module_version": "1.2.0",
          "state": {
            "_model_module": "@jupyter-widgets/base",
            "_model_module_version": "1.2.0",
            "_model_name": "LayoutModel",
            "_view_count": null,
            "_view_module": "@jupyter-widgets/base",
            "_view_module_version": "1.2.0",
            "_view_name": "LayoutView",
            "align_content": null,
            "align_items": null,
            "align_self": null,
            "border": null,
            "bottom": null,
            "display": null,
            "flex": null,
            "flex_flow": null,
            "grid_area": null,
            "grid_auto_columns": null,
            "grid_auto_flow": null,
            "grid_auto_rows": null,
            "grid_column": null,
            "grid_gap": null,
            "grid_row": null,
            "grid_template_areas": null,
            "grid_template_columns": null,
            "grid_template_rows": null,
            "height": null,
            "justify_content": null,
            "justify_items": null,
            "left": null,
            "margin": null,
            "max_height": null,
            "max_width": null,
            "min_height": null,
            "min_width": null,
            "object_fit": null,
            "object_position": null,
            "order": null,
            "overflow": null,
            "overflow_x": null,
            "overflow_y": null,
            "padding": null,
            "right": null,
            "top": null,
            "visibility": null,
            "width": null
          }
        },
        "97d272a17bf44d58bbcd8a73fd48d80f": {
          "model_module": "@jupyter-widgets/controls",
          "model_name": "DescriptionStyleModel",
          "model_module_version": "1.5.0",
          "state": {
            "_model_module": "@jupyter-widgets/controls",
            "_model_module_version": "1.5.0",
            "_model_name": "DescriptionStyleModel",
            "_view_count": null,
            "_view_module": "@jupyter-widgets/base",
            "_view_module_version": "1.2.0",
            "_view_name": "StyleView",
            "description_width": ""
          }
        },
        "92af49d1a99d41448747f1d8b889a90e": {
          "model_module": "@jupyter-widgets/controls",
          "model_name": "HBoxModel",
          "model_module_version": "1.5.0",
          "state": {
            "_dom_classes": [],
            "_model_module": "@jupyter-widgets/controls",
            "_model_module_version": "1.5.0",
            "_model_name": "HBoxModel",
            "_view_count": null,
            "_view_module": "@jupyter-widgets/controls",
            "_view_module_version": "1.5.0",
            "_view_name": "HBoxView",
            "box_style": "",
            "children": [
              "IPY_MODEL_e9765b1a537a46b98ed326438532a5aa",
              "IPY_MODEL_03ebf75087b147e6a4eb94023b2a77ac",
              "IPY_MODEL_3314e0df8ee1419fb629e0d9724ab171"
            ],
            "layout": "IPY_MODEL_e43ac41c08a3430aa57e05dbf6c20cca"
          }
        },
        "e9765b1a537a46b98ed326438532a5aa": {
          "model_module": "@jupyter-widgets/controls",
          "model_name": "HTMLModel",
          "model_module_version": "1.5.0",
          "state": {
            "_dom_classes": [],
            "_model_module": "@jupyter-widgets/controls",
            "_model_module_version": "1.5.0",
            "_model_name": "HTMLModel",
            "_view_count": null,
            "_view_module": "@jupyter-widgets/controls",
            "_view_module_version": "1.5.0",
            "_view_name": "HTMLView",
            "description": "",
            "description_tooltip": null,
            "layout": "IPY_MODEL_2f01ef245fc54fd08c65800a1fcb571e",
            "placeholder": "​",
            "style": "IPY_MODEL_957355cf6d0242268abdbb91011e3824",
            "value": "Downloading builder script: 100%"
          }
        },
        "03ebf75087b147e6a4eb94023b2a77ac": {
          "model_module": "@jupyter-widgets/controls",
          "model_name": "FloatProgressModel",
          "model_module_version": "1.5.0",
          "state": {
            "_dom_classes": [],
            "_model_module": "@jupyter-widgets/controls",
            "_model_module_version": "1.5.0",
            "_model_name": "FloatProgressModel",
            "_view_count": null,
            "_view_module": "@jupyter-widgets/controls",
            "_view_module_version": "1.5.0",
            "_view_name": "ProgressView",
            "bar_style": "success",
            "description": "",
            "description_tooltip": null,
            "layout": "IPY_MODEL_93f9479a79c44ae2b17eb2a0ccd5977e",
            "max": 4203,
            "min": 0,
            "orientation": "horizontal",
            "style": "IPY_MODEL_44c0acef24404139908ff442957db83d",
            "value": 4203
          }
        },
        "3314e0df8ee1419fb629e0d9724ab171": {
          "model_module": "@jupyter-widgets/controls",
          "model_name": "HTMLModel",
          "model_module_version": "1.5.0",
          "state": {
            "_dom_classes": [],
            "_model_module": "@jupyter-widgets/controls",
            "_model_module_version": "1.5.0",
            "_model_name": "HTMLModel",
            "_view_count": null,
            "_view_module": "@jupyter-widgets/controls",
            "_view_module_version": "1.5.0",
            "_view_name": "HTMLView",
            "description": "",
            "description_tooltip": null,
            "layout": "IPY_MODEL_1fd3df0086404c9eb2c8bff477cbe3ca",
            "placeholder": "​",
            "style": "IPY_MODEL_0c7ca1a948174423828d1342e59c9b88",
            "value": " 4.20k/4.20k [00:00&lt;00:00, 323kB/s]"
          }
        },
        "e43ac41c08a3430aa57e05dbf6c20cca": {
          "model_module": "@jupyter-widgets/base",
          "model_name": "LayoutModel",
          "model_module_version": "1.2.0",
          "state": {
            "_model_module": "@jupyter-widgets/base",
            "_model_module_version": "1.2.0",
            "_model_name": "LayoutModel",
            "_view_count": null,
            "_view_module": "@jupyter-widgets/base",
            "_view_module_version": "1.2.0",
            "_view_name": "LayoutView",
            "align_content": null,
            "align_items": null,
            "align_self": null,
            "border": null,
            "bottom": null,
            "display": null,
            "flex": null,
            "flex_flow": null,
            "grid_area": null,
            "grid_auto_columns": null,
            "grid_auto_flow": null,
            "grid_auto_rows": null,
            "grid_column": null,
            "grid_gap": null,
            "grid_row": null,
            "grid_template_areas": null,
            "grid_template_columns": null,
            "grid_template_rows": null,
            "height": null,
            "justify_content": null,
            "justify_items": null,
            "left": null,
            "margin": null,
            "max_height": null,
            "max_width": null,
            "min_height": null,
            "min_width": null,
            "object_fit": null,
            "object_position": null,
            "order": null,
            "overflow": null,
            "overflow_x": null,
            "overflow_y": null,
            "padding": null,
            "right": null,
            "top": null,
            "visibility": null,
            "width": null
          }
        },
        "2f01ef245fc54fd08c65800a1fcb571e": {
          "model_module": "@jupyter-widgets/base",
          "model_name": "LayoutModel",
          "model_module_version": "1.2.0",
          "state": {
            "_model_module": "@jupyter-widgets/base",
            "_model_module_version": "1.2.0",
            "_model_name": "LayoutModel",
            "_view_count": null,
            "_view_module": "@jupyter-widgets/base",
            "_view_module_version": "1.2.0",
            "_view_name": "LayoutView",
            "align_content": null,
            "align_items": null,
            "align_self": null,
            "border": null,
            "bottom": null,
            "display": null,
            "flex": null,
            "flex_flow": null,
            "grid_area": null,
            "grid_auto_columns": null,
            "grid_auto_flow": null,
            "grid_auto_rows": null,
            "grid_column": null,
            "grid_gap": null,
            "grid_row": null,
            "grid_template_areas": null,
            "grid_template_columns": null,
            "grid_template_rows": null,
            "height": null,
            "justify_content": null,
            "justify_items": null,
            "left": null,
            "margin": null,
            "max_height": null,
            "max_width": null,
            "min_height": null,
            "min_width": null,
            "object_fit": null,
            "object_position": null,
            "order": null,
            "overflow": null,
            "overflow_x": null,
            "overflow_y": null,
            "padding": null,
            "right": null,
            "top": null,
            "visibility": null,
            "width": null
          }
        },
        "957355cf6d0242268abdbb91011e3824": {
          "model_module": "@jupyter-widgets/controls",
          "model_name": "DescriptionStyleModel",
          "model_module_version": "1.5.0",
          "state": {
            "_model_module": "@jupyter-widgets/controls",
            "_model_module_version": "1.5.0",
            "_model_name": "DescriptionStyleModel",
            "_view_count": null,
            "_view_module": "@jupyter-widgets/base",
            "_view_module_version": "1.2.0",
            "_view_name": "StyleView",
            "description_width": ""
          }
        },
        "93f9479a79c44ae2b17eb2a0ccd5977e": {
          "model_module": "@jupyter-widgets/base",
          "model_name": "LayoutModel",
          "model_module_version": "1.2.0",
          "state": {
            "_model_module": "@jupyter-widgets/base",
            "_model_module_version": "1.2.0",
            "_model_name": "LayoutModel",
            "_view_count": null,
            "_view_module": "@jupyter-widgets/base",
            "_view_module_version": "1.2.0",
            "_view_name": "LayoutView",
            "align_content": null,
            "align_items": null,
            "align_self": null,
            "border": null,
            "bottom": null,
            "display": null,
            "flex": null,
            "flex_flow": null,
            "grid_area": null,
            "grid_auto_columns": null,
            "grid_auto_flow": null,
            "grid_auto_rows": null,
            "grid_column": null,
            "grid_gap": null,
            "grid_row": null,
            "grid_template_areas": null,
            "grid_template_columns": null,
            "grid_template_rows": null,
            "height": null,
            "justify_content": null,
            "justify_items": null,
            "left": null,
            "margin": null,
            "max_height": null,
            "max_width": null,
            "min_height": null,
            "min_width": null,
            "object_fit": null,
            "object_position": null,
            "order": null,
            "overflow": null,
            "overflow_x": null,
            "overflow_y": null,
            "padding": null,
            "right": null,
            "top": null,
            "visibility": null,
            "width": null
          }
        },
        "44c0acef24404139908ff442957db83d": {
          "model_module": "@jupyter-widgets/controls",
          "model_name": "ProgressStyleModel",
          "model_module_version": "1.5.0",
          "state": {
            "_model_module": "@jupyter-widgets/controls",
            "_model_module_version": "1.5.0",
            "_model_name": "ProgressStyleModel",
            "_view_count": null,
            "_view_module": "@jupyter-widgets/base",
            "_view_module_version": "1.2.0",
            "_view_name": "StyleView",
            "bar_color": null,
            "description_width": ""
          }
        },
        "1fd3df0086404c9eb2c8bff477cbe3ca": {
          "model_module": "@jupyter-widgets/base",
          "model_name": "LayoutModel",
          "model_module_version": "1.2.0",
          "state": {
            "_model_module": "@jupyter-widgets/base",
            "_model_module_version": "1.2.0",
            "_model_name": "LayoutModel",
            "_view_count": null,
            "_view_module": "@jupyter-widgets/base",
            "_view_module_version": "1.2.0",
            "_view_name": "LayoutView",
            "align_content": null,
            "align_items": null,
            "align_self": null,
            "border": null,
            "bottom": null,
            "display": null,
            "flex": null,
            "flex_flow": null,
            "grid_area": null,
            "grid_auto_columns": null,
            "grid_auto_flow": null,
            "grid_auto_rows": null,
            "grid_column": null,
            "grid_gap": null,
            "grid_row": null,
            "grid_template_areas": null,
            "grid_template_columns": null,
            "grid_template_rows": null,
            "height": null,
            "justify_content": null,
            "justify_items": null,
            "left": null,
            "margin": null,
            "max_height": null,
            "max_width": null,
            "min_height": null,
            "min_width": null,
            "object_fit": null,
            "object_position": null,
            "order": null,
            "overflow": null,
            "overflow_x": null,
            "overflow_y": null,
            "padding": null,
            "right": null,
            "top": null,
            "visibility": null,
            "width": null
          }
        },
        "0c7ca1a948174423828d1342e59c9b88": {
          "model_module": "@jupyter-widgets/controls",
          "model_name": "DescriptionStyleModel",
          "model_module_version": "1.5.0",
          "state": {
            "_model_module": "@jupyter-widgets/controls",
            "_model_module_version": "1.5.0",
            "_model_name": "DescriptionStyleModel",
            "_view_count": null,
            "_view_module": "@jupyter-widgets/base",
            "_view_module_version": "1.2.0",
            "_view_name": "StyleView",
            "description_width": ""
          }
        }
      }
    }
  },
  "cells": [
    {
      "cell_type": "markdown",
      "metadata": {
        "id": "view-in-github",
        "colab_type": "text"
      },
      "source": [
        "<a href=\"https://colab.research.google.com/github/leakydishes/Fairness_feedback_nlp_test/blob/main/phase2_1.ipynb\" target=\"_parent\"><img src=\"https://colab.research.google.com/assets/colab-badge.svg\" alt=\"Open In Colab\"/></a>"
      ]
    },
    {
      "cell_type": "markdown",
      "source": [
        "#**Deakin University Internship 2023**\n",
        "##*Phase 2,* Semantic Communication\n",
        "\n",
        "######This research (*Phase 2*) includes semantic communication implemented by using a combination of deep neural networks (NNs) and physical channel simulations. Using \"Robustness_Transfer.py\" (file from Phase 1) semantic encoding is performed using a DualModel (Roberta tokenizer). The preprocessed data is passed through a channel encoder (with a physical channel simulation) to test the robustness of the system under different types of noises. The channel decoder NNs with neural noise channel simulations is used to decode the semantic representations and calculate the BER values. Performance is measured by evaluating the BER values found under different noise conditions. <br>\n",
        "\n",
        "<br>\n",
        "\n",
        "###Project includes,\n",
        "#####*Phase 1,* Human-Guided Fair Classification for NLP\n",
        "#####*Phase 2,* Semantic Communication\n",
        "<br>\n",
        "\n",
        "#####References:\n",
        "*@inproceedings{\n",
        "dorner2023humanguided,\n",
        "title={Human-Guided Fair Classification for Natural Language Processing},\n",
        "author={Florian E. Dorner and Momchil Peychev and Nikola Konstantinov and Naman Goel and Elliott Ash and Martin Vechev},\n",
        "booktitle={The Eleventh International Conference on Learning Representations },\n",
        "year={2023},\n",
        "url={https://openreview.net/forum?id=N_g8TT9Cy7f}\n",
        "}*"
      ],
      "metadata": {
        "id": "Ik0-sWzSW1Gx"
      }
    },
    {
      "cell_type": "markdown",
      "source": [
        "![Screenshot 2023-08-18 at 12.03.39 pm.png](data:image/png;base64,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)"
      ],
      "metadata": {
        "id": "_8qNxm8cW_u8"
      }
    },
    {
      "cell_type": "markdown",
      "source": [
        "##**Step 1. Mount Google Drive**"
      ],
      "metadata": {
        "id": "eY3H0p9src7e"
      }
    },
    {
      "cell_type": "code",
      "source": [
        "from google.colab import drive\n",
        "#drive.mount('/content/drive')\n",
        "drive.mount('/content/drive',force_remount=True)"
      ],
      "metadata": {
        "colab": {
          "base_uri": "https://localhost:8080/"
        },
        "id": "3KHsOxKnrdl7",
        "outputId": "3c1bab97-3a01-4839-b2b9-29eed37606d5"
      },
      "execution_count": 1,
      "outputs": [
        {
          "output_type": "stream",
          "name": "stdout",
          "text": [
            "Mounted at /content/drive\n"
          ]
        }
      ]
    },
    {
      "cell_type": "code",
      "source": [
        "#permanently install the specific version to the google colab\n",
        "!sudo apt install python3-pip"
      ],
      "metadata": {
        "colab": {
          "base_uri": "https://localhost:8080/"
        },
        "id": "cBH0CcjASI2A",
        "outputId": "130b7f30-b85c-4bdc-e92e-58cbf1d5000b"
      },
      "execution_count": 2,
      "outputs": [
        {
          "output_type": "stream",
          "name": "stdout",
          "text": [
            "Reading package lists... Done\n",
            "Building dependency tree... Done\n",
            "Reading state information... Done\n",
            "The following additional packages will be installed:\n",
            "  python3-setuptools python3-wheel\n",
            "Suggested packages:\n",
            "  python-setuptools-doc\n",
            "The following NEW packages will be installed:\n",
            "  python3-pip python3-setuptools python3-wheel\n",
            "0 upgraded, 3 newly installed, 0 to remove and 19 not upgraded.\n",
            "Need to get 1,677 kB of archives.\n",
            "After this operation, 8,965 kB of additional disk space will be used.\n",
            "Get:1 http://archive.ubuntu.com/ubuntu jammy-updates/main amd64 python3-setuptools all 59.6.0-1.2ubuntu0.22.04.1 [339 kB]\n",
            "Get:2 http://archive.ubuntu.com/ubuntu jammy-updates/universe amd64 python3-wheel all 0.37.1-2ubuntu0.22.04.1 [32.0 kB]\n",
            "Get:3 http://archive.ubuntu.com/ubuntu jammy-updates/universe amd64 python3-pip all 22.0.2+dfsg-1ubuntu0.3 [1,305 kB]\n",
            "Fetched 1,677 kB in 1s (2,461 kB/s)\n",
            "debconf: unable to initialize frontend: Dialog\n",
            "debconf: (No usable dialog-like program is installed, so the dialog based frontend cannot be used. at /usr/share/perl5/Debconf/FrontEnd/Dialog.pm line 78, <> line 3.)\n",
            "debconf: falling back to frontend: Readline\n",
            "debconf: unable to initialize frontend: Readline\n",
            "debconf: (This frontend requires a controlling tty.)\n",
            "debconf: falling back to frontend: Teletype\n",
            "dpkg-preconfigure: unable to re-open stdin: \n",
            "Selecting previously unselected package python3-setuptools.\n",
            "(Reading database ... 120874 files and directories currently installed.)\n",
            "Preparing to unpack .../python3-setuptools_59.6.0-1.2ubuntu0.22.04.1_all.deb ...\n",
            "Unpacking python3-setuptools (59.6.0-1.2ubuntu0.22.04.1) ...\n",
            "Selecting previously unselected package python3-wheel.\n",
            "Preparing to unpack .../python3-wheel_0.37.1-2ubuntu0.22.04.1_all.deb ...\n",
            "Unpacking python3-wheel (0.37.1-2ubuntu0.22.04.1) ...\n",
            "Selecting previously unselected package python3-pip.\n",
            "Preparing to unpack .../python3-pip_22.0.2+dfsg-1ubuntu0.3_all.deb ...\n",
            "Unpacking python3-pip (22.0.2+dfsg-1ubuntu0.3) ...\n",
            "Setting up python3-setuptools (59.6.0-1.2ubuntu0.22.04.1) ...\n",
            "Setting up python3-wheel (0.37.1-2ubuntu0.22.04.1) ...\n",
            "Setting up python3-pip (22.0.2+dfsg-1ubuntu0.3) ...\n",
            "Processing triggers for man-db (2.10.2-1) ...\n"
          ]
        }
      ]
    },
    {
      "cell_type": "code",
      "source": [
        "#Install correct packages\n",
        "!sudo apt-get install python3.8-distutils"
      ],
      "metadata": {
        "colab": {
          "base_uri": "https://localhost:8080/"
        },
        "id": "v3LZhaAmSNc4",
        "outputId": "8c5dbd3b-9562-43f3-94f8-1ca46a00b4ce"
      },
      "execution_count": 3,
      "outputs": [
        {
          "output_type": "stream",
          "name": "stdout",
          "text": [
            "Reading package lists... Done\n",
            "Building dependency tree... Done\n",
            "Reading state information... Done\n",
            "The following additional packages will be installed:\n",
            "  python3.8-lib2to3\n",
            "The following NEW packages will be installed:\n",
            "  python3.8-distutils python3.8-lib2to3\n",
            "0 upgraded, 2 newly installed, 0 to remove and 19 not upgraded.\n",
            "Need to get 319 kB of archives.\n",
            "After this operation, 1,237 kB of additional disk space will be used.\n",
            "Get:1 https://ppa.launchpadcontent.net/deadsnakes/ppa/ubuntu jammy/main amd64 python3.8-lib2to3 all 3.8.18-1+jammy1 [126 kB]\n",
            "Get:2 https://ppa.launchpadcontent.net/deadsnakes/ppa/ubuntu jammy/main amd64 python3.8-distutils all 3.8.18-1+jammy1 [193 kB]\n",
            "Fetched 319 kB in 2s (133 kB/s)\n",
            "debconf: unable to initialize frontend: Dialog\n",
            "debconf: (No usable dialog-like program is installed, so the dialog based frontend cannot be used. at /usr/share/perl5/Debconf/FrontEnd/Dialog.pm line 78, <> line 2.)\n",
            "debconf: falling back to frontend: Readline\n",
            "debconf: unable to initialize frontend: Readline\n",
            "debconf: (This frontend requires a controlling tty.)\n",
            "debconf: falling back to frontend: Teletype\n",
            "dpkg-preconfigure: unable to re-open stdin: \n",
            "Selecting previously unselected package python3.8-lib2to3.\n",
            "(Reading database ... 121736 files and directories currently installed.)\n",
            "Preparing to unpack .../python3.8-lib2to3_3.8.18-1+jammy1_all.deb ...\n",
            "Unpacking python3.8-lib2to3 (3.8.18-1+jammy1) ...\n",
            "Selecting previously unselected package python3.8-distutils.\n",
            "Preparing to unpack .../python3.8-distutils_3.8.18-1+jammy1_all.deb ...\n",
            "Unpacking python3.8-distutils (3.8.18-1+jammy1) ...\n",
            "Setting up python3.8-lib2to3 (3.8.18-1+jammy1) ...\n",
            "Setting up python3.8-distutils (3.8.18-1+jammy1) ...\n"
          ]
        }
      ]
    },
    {
      "cell_type": "code",
      "source": [
        "%cd /content/drive/MyDrive/fairness-feedback-nlp/Code\n",
        "!pip install -r requirements.txt"
      ],
      "metadata": {
        "colab": {
          "base_uri": "https://localhost:8080/"
        },
        "id": "Pi94exo6SQPc",
        "outputId": "19b9f6ee-082b-41da-c3a0-9e753c6d5c1b"
      },
      "execution_count": 4,
      "outputs": [
        {
          "output_type": "stream",
          "name": "stdout",
          "text": [
            "/content/drive/MyDrive/fairness-feedback-nlp/Code\n",
            "Collecting numpy==1.22.3 (from -r requirements.txt (line 1))\n",
            "  Downloading numpy-1.22.3-cp310-cp310-manylinux_2_17_x86_64.manylinux2014_x86_64.whl (16.8 MB)\n",
            "\u001b[2K     \u001b[90m━━━━━━━━━━━━━━━━━━━━━━━━━━━━━━━━━━━━━━━━\u001b[0m \u001b[32m16.8/16.8 MB\u001b[0m \u001b[31m93.2 MB/s\u001b[0m eta \u001b[36m0:00:00\u001b[0m\n",
            "\u001b[?25hCollecting torch==1.11.0 (from -r requirements.txt (line 2))\n",
            "  Downloading torch-1.11.0-cp310-cp310-manylinux1_x86_64.whl (750.6 MB)\n",
            "\u001b[2K     \u001b[90m━━━━━━━━━━━━━━━━━━━━━━━━━━━━━━━━━━━━━━━━\u001b[0m \u001b[32m750.6/750.6 MB\u001b[0m \u001b[31m2.1 MB/s\u001b[0m eta \u001b[36m0:00:00\u001b[0m\n",
            "\u001b[?25hCollecting tqdm==4.64.0 (from -r requirements.txt (line 3))\n",
            "  Downloading tqdm-4.64.0-py2.py3-none-any.whl (78 kB)\n",
            "\u001b[2K     \u001b[90m━━━━━━━━━━━━━━━━━━━━━━━━━━━━━━━━━━━━━━━━\u001b[0m \u001b[32m78.4/78.4 kB\u001b[0m \u001b[31m10.9 MB/s\u001b[0m eta \u001b[36m0:00:00\u001b[0m\n",
            "\u001b[?25hCollecting transformers==4.18.0 (from -r requirements.txt (line 4))\n",
            "  Downloading transformers-4.18.0-py3-none-any.whl (4.0 MB)\n",
            "\u001b[2K     \u001b[90m━━━━━━━━━━━━━━━━━━━━━━━━━━━━━━━━━━━━━━━━\u001b[0m \u001b[32m4.0/4.0 MB\u001b[0m \u001b[31m108.7 MB/s\u001b[0m eta \u001b[36m0:00:00\u001b[0m\n",
            "\u001b[?25hCollecting pandas==1.4.2 (from -r requirements.txt (line 5))\n",
            "  Downloading pandas-1.4.2-cp310-cp310-manylinux_2_17_x86_64.manylinux2014_x86_64.whl (11.7 MB)\n",
            "\u001b[2K     \u001b[90m━━━━━━━━━━━━━━━━━━━━━━━━━━━━━━━━━━━━━━━━\u001b[0m \u001b[32m11.7/11.7 MB\u001b[0m \u001b[31m117.4 MB/s\u001b[0m eta \u001b[36m0:00:00\u001b[0m\n",
            "\u001b[?25h\u001b[31mERROR: Ignored the following versions that require a different python version: 1.6.2 Requires-Python >=3.7,<3.10; 1.6.3 Requires-Python >=3.7,<3.10; 1.7.0 Requires-Python >=3.7,<3.10; 1.7.1 Requires-Python >=3.7,<3.10\u001b[0m\u001b[31m\n",
            "\u001b[0m\u001b[31mERROR: Could not find a version that satisfies the requirement scipy==1.6.3 (from versions: 0.8.0, 0.9.0, 0.10.0, 0.10.1, 0.11.0, 0.12.0, 0.12.1, 0.13.0, 0.13.1, 0.13.2, 0.13.3, 0.14.0, 0.14.1, 0.15.0, 0.15.1, 0.16.0, 0.16.1, 0.17.0, 0.17.1, 0.18.0, 0.18.1, 0.19.0, 0.19.1, 1.0.0, 1.0.1, 1.1.0, 1.2.0, 1.2.1, 1.2.2, 1.2.3, 1.3.0, 1.3.1, 1.3.2, 1.3.3, 1.4.0, 1.4.1, 1.5.0, 1.5.1, 1.5.2, 1.5.3, 1.5.4, 1.6.0, 1.6.1, 1.7.2, 1.7.3, 1.8.0rc1, 1.8.0rc2, 1.8.0rc3, 1.8.0rc4, 1.8.0, 1.8.1, 1.9.0rc1, 1.9.0rc2, 1.9.0rc3, 1.9.0, 1.9.1, 1.9.2, 1.9.3, 1.10.0rc1, 1.10.0rc2, 1.10.0, 1.10.1, 1.11.0rc1, 1.11.0rc2, 1.11.0, 1.11.1, 1.11.2, 1.11.3)\u001b[0m\u001b[31m\n",
            "\u001b[0m\u001b[31mERROR: No matching distribution found for scipy==1.6.3\u001b[0m\u001b[31m\n",
            "\u001b[0m"
          ]
        }
      ]
    },
    {
      "cell_type": "code",
      "source": [
        "!pip install w3lib\n",
        "!pip install scikit-learn\n",
        "!pip install bert4keras==0.4.6"
      ],
      "metadata": {
        "colab": {
          "base_uri": "https://localhost:8080/"
        },
        "id": "l9cPouM-sQWP",
        "outputId": "6f046d31-b3c0-44b6-8b2d-33b3e0dd6249"
      },
      "execution_count": 5,
      "outputs": [
        {
          "output_type": "stream",
          "name": "stdout",
          "text": [
            "Collecting w3lib\n",
            "  Downloading w3lib-2.1.2-py3-none-any.whl (21 kB)\n",
            "Installing collected packages: w3lib\n",
            "Successfully installed w3lib-2.1.2\n",
            "Requirement already satisfied: scikit-learn in /usr/local/lib/python3.10/dist-packages (1.2.2)\n",
            "Requirement already satisfied: numpy>=1.17.3 in /usr/local/lib/python3.10/dist-packages (from scikit-learn) (1.23.5)\n",
            "Requirement already satisfied: scipy>=1.3.2 in /usr/local/lib/python3.10/dist-packages (from scikit-learn) (1.11.3)\n",
            "Requirement already satisfied: joblib>=1.1.1 in /usr/local/lib/python3.10/dist-packages (from scikit-learn) (1.3.2)\n",
            "Requirement already satisfied: threadpoolctl>=2.0.0 in /usr/local/lib/python3.10/dist-packages (from scikit-learn) (3.2.0)\n",
            "Collecting bert4keras==0.4.6\n",
            "  Downloading bert4keras-0.4.6.tar.gz (24 kB)\n",
            "  Preparing metadata (setup.py) ... \u001b[?25l\u001b[?25hdone\n",
            "Requirement already satisfied: keras in /usr/local/lib/python3.10/dist-packages (from bert4keras==0.4.6) (2.14.0)\n",
            "Building wheels for collected packages: bert4keras\n",
            "  Building wheel for bert4keras (setup.py) ... \u001b[?25l\u001b[?25hdone\n",
            "  Created wheel for bert4keras: filename=bert4keras-0.4.6-py3-none-any.whl size=25730 sha256=e02549ea02b01c84d98bd659dbc948c951f5fd9221334a853466a54c6bdf7c9e\n",
            "  Stored in directory: /root/.cache/pip/wheels/51/fc/07/4449a78fc8f7f4b180d61743700801b649f56b936fee265947\n",
            "Successfully built bert4keras\n",
            "Installing collected packages: bert4keras\n",
            "Successfully installed bert4keras-0.4.6\n"
          ]
        }
      ]
    },
    {
      "cell_type": "markdown",
      "source": [
        "### Install Transformers"
      ],
      "metadata": {
        "id": "J2XOTCdVRyzI"
      }
    },
    {
      "cell_type": "code",
      "source": [
        "!pip install accelerate>=0.20.3 transformers"
      ],
      "metadata": {
        "id": "UErR-wH5ahlt"
      },
      "execution_count": 6,
      "outputs": []
    },
    {
      "cell_type": "markdown",
      "source": [
        "##**Step 2. Load Model from Phase 1**"
      ],
      "metadata": {
        "id": "8OJVK0fH5g6p"
      }
    },
    {
      "cell_type": "code",
      "source": [
        "import json\n",
        "from transformers import RobertaTokenizer, RobertaModel\n",
        "import torch\n",
        "\n",
        "import torch\n",
        "import torch.nn as nn\n",
        "from transformers import BertTokenizer,BertModel\n",
        "\n",
        "import os\n",
        "import re\n",
        "from itertools import chain\n",
        "import numpy as np\n",
        "\n",
        "# Path of model from Phase 1 training\n",
        "model_path = \"/content/drive/MyDrive/fairness-feedback-nlp/Code/generations/Roberta_Kaggle_64_phase2\"\n",
        "\n",
        "# Load model\n",
        "model = torch.load(model_path)"
      ],
      "metadata": {
        "id": "XccXyQD75vX4"
      },
      "execution_count": 7,
      "outputs": []
    },
    {
      "cell_type": "markdown",
      "source": [
        "##**Step 2. Preprocessing data**\n",
        "\n",
        "*   Reduce size of dataset (train_preprocessed) for testing\n",
        "*   Sentences are in a suitable format for tokenization\n",
        "\n"
      ],
      "metadata": {
        "id": "Hmk-7Ch7omR9"
      }
    },
    {
      "cell_type": "code",
      "source": [
        "import pandas as pd\n",
        "import random\n",
        "\n",
        "# Define the path to your original CSV file\n",
        "original_csv_path = \"/content/drive/MyDrive/fairness-feedback-nlp/Code/Datasets/Kaggle_Toxicity/train_preprocessed.csv\"\n",
        "\n",
        "# Define the path to save the reduced dataset\n",
        "reduced_csv_path = \"/content/drive/MyDrive/fairness-feedback-nlp/Code/Datasets/Kaggle_Toxicity/train_preprocessed_reduced_one_twenty.csv\"\n",
        "\n",
        "# Load your original CSV data using pandas\n",
        "df = pd.read_csv(original_csv_path)\n",
        "\n",
        "# Shuffle the dataset\n",
        "df = df.sample(frac=1, random_state=42)\n",
        "\n",
        "# Calculate the size of the reduced dataset (1/6 of the original size)\n",
        "reduced_size = len(df) // 20\n",
        "\n",
        "# Take the first 1/3 of the dataset to create a reduced dataset\n",
        "reduced_df = df[:reduced_size]\n",
        "\n",
        "# Save the reduced dataset to a new CSV file\n",
        "reduced_df.to_csv(reduced_csv_path, index=False)"
      ],
      "metadata": {
        "id": "HTpC-aPUDKD0"
      },
      "execution_count": 8,
      "outputs": []
    },
    {
      "cell_type": "code",
      "source": [
        "import pandas as pd\n",
        "\n",
        "# Define the paths to the CSV files\n",
        "original_csv_path = \"/content/drive/MyDrive/fairness-feedback-nlp/Code/Datasets/Kaggle_Toxicity/train_preprocessed.csv\"\n",
        "reduced_one_third_csv_path = \"/content/drive/MyDrive/fairness-feedback-nlp/Code/Datasets/Kaggle_Toxicity/train_preprocessed_reduced.csv\"\n",
        "reduced_one_sixth__csv_path = \"/content/drive/MyDrive/fairness-feedback-nlp/Code/Datasets/Kaggle_Toxicity/train_preprocessed_reduced_one_sixth.csv\"\n",
        "reduced_one_twenty__csv_path = \"/content/drive/MyDrive/fairness-feedback-nlp/Code/Datasets/Kaggle_Toxicity/train_preprocessed_reduced_one_twenty.csv\"\n",
        "reduced_one_fifty__csv_path = \"/content/drive/MyDrive/fairness-feedback-nlp/Code/Datasets/Kaggle_Toxicity/train_preprocessed_reduced_one_fifty.csv\"\n",
        "\n",
        "# Load the CSV data using pandas\n",
        "df_original = pd.read_csv(original_csv_path)\n",
        "df_reduced1 = pd.read_csv(reduced_one_third_csv_path)\n",
        "df_reduced2 = pd.read_csv(reduced_one_sixth__csv_path)\n",
        "df_reduced3 = pd.read_csv(reduced_one_twenty__csv_path)\n",
        "df_reduced4 = pd.read_csv(reduced_one_fifty__csv_path)\n",
        "\n",
        "# Get the number of items in each CSV\n",
        "num_items_original = len(df_original)\n",
        "num_items_reduced1 = len(df_reduced1)\n",
        "num_items_reduced2 = len(df_reduced2)\n",
        "num_items_reduced3 = len(df_reduced3)\n",
        "num_items_reduced4 = len(df_reduced4)\n",
        "\n",
        "# Print the number of items\n",
        "print(\"Number of items in the original CSV:\", num_items_original)\n",
        "print(\"Number of items in the reduced CSV 1/3:\", num_items_reduced1)\n",
        "print(\"Number of items in the reduced CSV 1/6:\", num_items_reduced2)\n",
        "print(\"Number of items in the reduced CSV 1/20:\", num_items_reduced3)\n",
        "print(\"Number of items in the reduced CSV 1/50:\", num_items_reduced4)"
      ],
      "metadata": {
        "colab": {
          "base_uri": "https://localhost:8080/"
        },
        "id": "dtsv80JgDZkC",
        "outputId": "cdc74eef-5c35-47ba-e6a4-631ad9bbf067"
      },
      "execution_count": 9,
      "outputs": [
        {
          "output_type": "stream",
          "name": "stdout",
          "text": [
            "Number of items in the original CSV: 1804874\n",
            "Number of items in the reduced CSV 1/3: 601624\n",
            "Number of items in the reduced CSV 1/6: 300812\n",
            "Number of items in the reduced CSV 1/20: 90243\n",
            "Number of items in the reduced CSV 1/50: 36097\n"
          ]
        }
      ]
    },
    {
      "cell_type": "code",
      "source": [
        "# Print a sample of CSV\n",
        "# Load your CSV data using pandas\n",
        "csv_path = \"/content/drive/MyDrive/fairness-feedback-nlp/Code/Datasets/Kaggle_Toxicity/train_preprocessed_reduced_one_fifty.csv\"\n",
        "\n",
        "# Load your CSV data using pandas\n",
        "df = pd.read_csv(csv_path)\n",
        "\n",
        "# Display the first few rows of the DataFrame to see a sample of the CSV file\n",
        "print(df.head())"
      ],
      "metadata": {
        "colab": {
          "base_uri": "https://localhost:8080/"
        },
        "id": "SXOMqZ_X3y5X",
        "outputId": "ebf99339-cf43-4e61-9fc6-887bc58fba5d"
      },
      "execution_count": 10,
      "outputs": [
        {
          "output_type": "stream",
          "name": "stdout",
          "text": [
            "   Unnamed: 0       id    target  \\\n",
            "0      286892   593336  0.166667   \n",
            "1      419218   756192  0.600000   \n",
            "2     1055330  5407051  0.000000   \n",
            "3     1382764  5808132  0.000000   \n",
            "4      256049   557013  0.000000   \n",
            "\n",
            "                                        comment_text  severe_toxicity  \\\n",
            "0  What a breathe of fresh air to have someone wh...              0.0   \n",
            "1  Your jewish friends were the ones who told you...              0.2   \n",
            "2  Possible collusion by Trump and his affiliates...              0.0   \n",
            "3  Exactly.  We need a % of GDP spending cap at t...              0.0   \n",
            "4  By your own comment, even if some of them vote...              0.0   \n",
            "\n",
            "   obscene  identity_attack    insult  threat  asian  ...  article_id  \\\n",
            "0      0.0              0.0  0.166667     0.0    NaN  ...      151356   \n",
            "1      0.0              0.6  0.400000     0.0    0.0  ...      158493   \n",
            "2      0.0              0.0  0.000000     0.0    NaN  ...      343435   \n",
            "3      0.0              0.0  0.000000     0.0    NaN  ...      368584   \n",
            "4      0.0              0.0  0.000000     0.0    NaN  ...      149754   \n",
            "\n",
            "     rating  funny  wow  sad  likes  disagree  sexual_explicit  \\\n",
            "0  approved      0    0    0      4         0              0.0   \n",
            "1  approved      0    0    0      0         0              0.0   \n",
            "2  approved      0    0    0      1         0              0.0   \n",
            "3  approved      0    0    0      7         0              0.0   \n",
            "4  approved      0    0    0      1         0              0.0   \n",
            "\n",
            "   identity_annotator_count  toxicity_annotator_count  \n",
            "0                         0                         6  \n",
            "1                         6                        10  \n",
            "2                         0                         4  \n",
            "3                         0                         4  \n",
            "4                         0                         4  \n",
            "\n",
            "[5 rows x 46 columns]\n"
          ]
        }
      ]
    },
    {
      "cell_type": "code",
      "source": [
        "!pip install datasets"
      ],
      "metadata": {
        "colab": {
          "base_uri": "https://localhost:8080/"
        },
        "id": "cp_S9cNW8DXl",
        "outputId": "9b7566b9-9f3d-4f67-c602-7cab5ed262a2"
      },
      "execution_count": 11,
      "outputs": [
        {
          "output_type": "stream",
          "name": "stdout",
          "text": [
            "Collecting datasets\n",
            "  Downloading datasets-2.14.6-py3-none-any.whl (493 kB)\n",
            "\u001b[2K     \u001b[90m━━━━━━━━━━━━━━━━━━━━━━━━━━━━━━━━━━━━━━━━\u001b[0m \u001b[32m493.7/493.7 kB\u001b[0m \u001b[31m9.5 MB/s\u001b[0m eta \u001b[36m0:00:00\u001b[0m\n",
            "\u001b[?25hRequirement already satisfied: numpy>=1.17 in /usr/local/lib/python3.10/dist-packages (from datasets) (1.23.5)\n",
            "Requirement already satisfied: pyarrow>=8.0.0 in /usr/local/lib/python3.10/dist-packages (from datasets) (9.0.0)\n",
            "Collecting dill<0.3.8,>=0.3.0 (from datasets)\n",
            "  Downloading dill-0.3.7-py3-none-any.whl (115 kB)\n",
            "\u001b[2K     \u001b[90m━━━━━━━━━━━━━━━━━━━━━━━━━━━━━━━━━━━━━━━━\u001b[0m \u001b[32m115.3/115.3 kB\u001b[0m \u001b[31m14.6 MB/s\u001b[0m eta \u001b[36m0:00:00\u001b[0m\n",
            "\u001b[?25hRequirement already satisfied: pandas in /usr/local/lib/python3.10/dist-packages (from datasets) (1.5.3)\n",
            "Requirement already satisfied: requests>=2.19.0 in /usr/local/lib/python3.10/dist-packages (from datasets) (2.31.0)\n",
            "Requirement already satisfied: tqdm>=4.62.1 in /usr/local/lib/python3.10/dist-packages (from datasets) (4.66.1)\n",
            "Requirement already satisfied: xxhash in /usr/local/lib/python3.10/dist-packages (from datasets) (3.4.1)\n",
            "Collecting multiprocess (from datasets)\n",
            "  Downloading multiprocess-0.70.15-py310-none-any.whl (134 kB)\n",
            "\u001b[2K     \u001b[90m━━━━━━━━━━━━━━━━━━━━━━━━━━━━━━━━━━━━━━━━\u001b[0m \u001b[32m134.8/134.8 kB\u001b[0m \u001b[31m15.0 MB/s\u001b[0m eta \u001b[36m0:00:00\u001b[0m\n",
            "\u001b[?25hRequirement already satisfied: fsspec[http]<=2023.10.0,>=2023.1.0 in /usr/local/lib/python3.10/dist-packages (from datasets) (2023.6.0)\n",
            "Requirement already satisfied: aiohttp in /usr/local/lib/python3.10/dist-packages (from datasets) (3.8.6)\n",
            "Requirement already satisfied: huggingface-hub<1.0.0,>=0.14.0 in /usr/local/lib/python3.10/dist-packages (from datasets) (0.17.3)\n",
            "Requirement already satisfied: packaging in /usr/local/lib/python3.10/dist-packages (from datasets) (23.2)\n",
            "Requirement already satisfied: pyyaml>=5.1 in /usr/local/lib/python3.10/dist-packages (from datasets) (6.0.1)\n",
            "Requirement already satisfied: attrs>=17.3.0 in /usr/local/lib/python3.10/dist-packages (from aiohttp->datasets) (23.1.0)\n",
            "Requirement already satisfied: charset-normalizer<4.0,>=2.0 in /usr/local/lib/python3.10/dist-packages (from aiohttp->datasets) (3.3.1)\n",
            "Requirement already satisfied: multidict<7.0,>=4.5 in /usr/local/lib/python3.10/dist-packages (from aiohttp->datasets) (6.0.4)\n",
            "Requirement already satisfied: async-timeout<5.0,>=4.0.0a3 in /usr/local/lib/python3.10/dist-packages (from aiohttp->datasets) (4.0.3)\n",
            "Requirement already satisfied: yarl<2.0,>=1.0 in /usr/local/lib/python3.10/dist-packages (from aiohttp->datasets) (1.9.2)\n",
            "Requirement already satisfied: frozenlist>=1.1.1 in /usr/local/lib/python3.10/dist-packages (from aiohttp->datasets) (1.4.0)\n",
            "Requirement already satisfied: aiosignal>=1.1.2 in /usr/local/lib/python3.10/dist-packages (from aiohttp->datasets) (1.3.1)\n",
            "Requirement already satisfied: filelock in /usr/local/lib/python3.10/dist-packages (from huggingface-hub<1.0.0,>=0.14.0->datasets) (3.12.4)\n",
            "Requirement already satisfied: typing-extensions>=3.7.4.3 in /usr/local/lib/python3.10/dist-packages (from huggingface-hub<1.0.0,>=0.14.0->datasets) (4.5.0)\n",
            "Requirement already satisfied: idna<4,>=2.5 in /usr/local/lib/python3.10/dist-packages (from requests>=2.19.0->datasets) (3.4)\n",
            "Requirement already satisfied: urllib3<3,>=1.21.1 in /usr/local/lib/python3.10/dist-packages (from requests>=2.19.0->datasets) (2.0.7)\n",
            "Requirement already satisfied: certifi>=2017.4.17 in /usr/local/lib/python3.10/dist-packages (from requests>=2.19.0->datasets) (2023.7.22)\n",
            "Requirement already satisfied: python-dateutil>=2.8.1 in /usr/local/lib/python3.10/dist-packages (from pandas->datasets) (2.8.2)\n",
            "Requirement already satisfied: pytz>=2020.1 in /usr/local/lib/python3.10/dist-packages (from pandas->datasets) (2023.3.post1)\n",
            "Requirement already satisfied: six>=1.5 in /usr/local/lib/python3.10/dist-packages (from python-dateutil>=2.8.1->pandas->datasets) (1.16.0)\n",
            "Installing collected packages: dill, multiprocess, datasets\n",
            "Successfully installed datasets-2.14.6 dill-0.3.7 multiprocess-0.70.15\n"
          ]
        }
      ]
    },
    {
      "cell_type": "code",
      "source": [
        "from datasets import Dataset\n",
        "import pandas as pd\n",
        "\n",
        "# Define the path to your CSV file\n",
        "csv_path = \"/content/drive/MyDrive/fairness-feedback-nlp/Code/Datasets/Kaggle_Toxicity/train_preprocessed_reduced_one_fifty.csv\"\n",
        "\n",
        "# Load your CSV data using pandas\n",
        "df = pd.read_csv(csv_path)\n",
        "\n",
        "# Add a new column \"label\" based on the \"target\" column\n",
        "df[\"label\"] = df[\"target\"].apply(lambda x: 1 if x > 0.1 else 0)\n",
        "\n",
        "# Select and keep only the \"comment_text\" and \"numerical_target\" columns\n",
        "selected_columns = [\"target\", \"comment_text\", \"label\"]\n",
        "df = df[selected_columns]\n",
        "\n",
        "# Convert the DataFrame to a dictionary\n",
        "data_dict = df.to_dict(orient=\"list\")\n",
        "\n",
        "# Create a Hugging Face dataset\n",
        "dataset = Dataset.from_dict(data_dict)\n",
        "\n",
        "# Save the dataset\n",
        "dataset.save_to_disk(\"/content/drive/MyDrive/fairness-feedback-nlp/Code/Dataset_Dictionary\")\n",
        "\n",
        "# Load the dataset\n",
        "loaded_dataset = Dataset.load_from_disk(\"/content/drive/MyDrive/fairness-feedback-nlp/Code/Dataset_Dictionary\")\n",
        "\n",
        "# Print the dataset with the selected and renamed columns\n",
        "print(loaded_dataset)\n"
      ],
      "metadata": {
        "colab": {
          "base_uri": "https://localhost:8080/",
          "height": 118,
          "referenced_widgets": [
            "d5f74d414dbb4fec98ce8154b2ec0484",
            "a610bf0ea6db47c7ba7d902ecffa27af",
            "2aa3177ec482498488b6c903b117a001",
            "3f06c21235b942e5980566f4c9f03160",
            "7c402d005bf94dfb90612485cf199ea5",
            "eca76ed0efd3433ea8ed1a521d4a1d2d",
            "ee067d9b4eed4e68a183cb2e01e2321c",
            "07afe4527b6941a48caf5efd9009c02b",
            "868cbc34e8c144618d2e2c149274b0a9",
            "4fc6f718e08e4d14a399ca06739411d2",
            "305796e9a5754062a19d6f9f50696f75"
          ]
        },
        "id": "timon5a-4f35",
        "outputId": "0c1ffce1-d767-46b0-9ac2-93b6e781c346"
      },
      "execution_count": 156,
      "outputs": [
        {
          "output_type": "display_data",
          "data": {
            "text/plain": [
              "Saving the dataset (0/1 shards):   0%|          | 0/36097 [00:00<?, ? examples/s]"
            ],
            "application/vnd.jupyter.widget-view+json": {
              "version_major": 2,
              "version_minor": 0,
              "model_id": "d5f74d414dbb4fec98ce8154b2ec0484"
            }
          },
          "metadata": {}
        },
        {
          "output_type": "stream",
          "name": "stdout",
          "text": [
            "Dataset({\n",
            "    features: ['target', 'comment_text', 'label'],\n",
            "    num_rows: 36097\n",
            "})\n"
          ]
        }
      ]
    },
    {
      "cell_type": "code",
      "source": [
        "# Print the first couple of samples from loaded_dataset\n",
        "# Numerical Target means: negative = 1 and positive = 0 based on target column.\n",
        "num_samples_to_print = 5  # Change this number as needed\n",
        "for i in range(num_samples_to_print):\n",
        "    sample = loaded_dataset[i]\n",
        "    print(f\"Sample {i + 1}:\")\n",
        "    print(f\"Comment Text: {sample['comment_text']}\")\n",
        "    print(f\"Label: {sample['label']}\")\n",
        "    print(f\"Target: {sample['target']}\")\n",
        "    print()"
      ],
      "metadata": {
        "colab": {
          "base_uri": "https://localhost:8080/"
        },
        "id": "5Wk7KCcfE3-X",
        "outputId": "be3adecd-0d10-45e9-8b45-578321db53eb"
      },
      "execution_count": 158,
      "outputs": [
        {
          "output_type": "stream",
          "name": "stdout",
          "text": [
            "Sample 1:\n",
            "Comment Text: What a breathe of fresh air to have someone who embraces common sense values, instead of the leadership we have in Canada, that is clearly on a different page, perhaps reading from a different book.\n",
            "Label: 1\n",
            "Target: 0.1666666666666666\n",
            "\n",
            "Sample 2:\n",
            "Comment Text: Your jewish friends were the ones who told you that Zionists control Canada?  Very believable.. hahaha.  Do your jewish friends get their info from a white supremacist web site, or do they publish the sites themselves, given that jews control the media and such?   That is, when they're taking off time from controlling the banks.\n",
            "Label: 1\n",
            "Target: 0.6\n",
            "\n",
            "Sample 3:\n",
            "Comment Text: Possible collusion by Trump and his affiliates has not been debunked, as you state. The matter is one focus of the ongoing investigations. The existence of ongoing investigations of collusion is factual even though it might conflict with diatribe and political spin of some persons' echo chambers.\n",
            "Label: 0\n",
            "Target: 0.0\n",
            "\n",
            "Sample 4:\n",
            "Comment Text: Exactly.  We need a % of GDP spending cap at the federal level (18%).  I wouldn't mind paying more taxes so much if it meant paying down the debt.  But instead, they just spend every dime, and more, anytime they get their hands on our money.\n",
            "Label: 0\n",
            "Target: 0.0\n",
            "\n",
            "Sample 5:\n",
            "Comment Text: By your own comment, even if some of them voted NDP or PQ, then Trudeau has been demonstrably less partisan in his appointments.    Of course, the NDP don't support the Senate and actually put their money where their mouths are.\n",
            "Label: 0\n",
            "Target: 0.0\n",
            "\n"
          ]
        }
      ]
    },
    {
      "cell_type": "code",
      "source": [
        "#https://huggingface.co/blog/sentiment-analysis-python\n",
        "from sklearn.model_selection import train_test_split\n",
        "from datasets import load_dataset, DatasetDict\n",
        "\n",
        "# 90% train, 10% test + validation\n",
        "train_testvalid = loaded_dataset.train_test_split(test_size=0.1, shuffle=True, seed=42)\n",
        "\n",
        "# Split the 10% test + valid in half test, half valid\n",
        "test_valid = train_testvalid['test'].train_test_split(test_size=0.5, shuffle=True, seed=42)\n",
        "\n",
        "# Gather everyone if you want to have a single DatasetDict\n",
        "train_test_valid_dataset = DatasetDict({\n",
        "    'train': train_testvalid['train'],\n",
        "    'test': test_valid['test'],\n",
        "    'valid': test_valid['train']\n",
        "})\n",
        "\n",
        "print(train_test_valid_dataset)\n"
      ],
      "metadata": {
        "colab": {
          "base_uri": "https://localhost:8080/"
        },
        "id": "1-k7gE8zSscU",
        "outputId": "05be9b4c-f0bf-4651-99a7-adfe6bb26aab"
      },
      "execution_count": 159,
      "outputs": [
        {
          "output_type": "stream",
          "name": "stdout",
          "text": [
            "DatasetDict({\n",
            "    train: Dataset({\n",
            "        features: ['target', 'comment_text', 'label'],\n",
            "        num_rows: 32487\n",
            "    })\n",
            "    test: Dataset({\n",
            "        features: ['target', 'comment_text', 'label'],\n",
            "        num_rows: 1805\n",
            "    })\n",
            "    valid: Dataset({\n",
            "        features: ['target', 'comment_text', 'label'],\n",
            "        num_rows: 1805\n",
            "    })\n",
            "})\n"
          ]
        }
      ]
    },
    {
      "cell_type": "code",
      "source": [
        "small_train_dataset = train_test_valid_dataset[\"train\"].shuffle(seed=42).select([i for i in list(range(3000))])\n",
        "small_test_dataset = train_test_valid_dataset[\"test\"].shuffle(seed=42).select([i for i in list(range(300))])"
      ],
      "metadata": {
        "id": "XgQcLnaybcei"
      },
      "execution_count": 160,
      "outputs": []
    },
    {
      "cell_type": "code",
      "source": [
        "print(small_train_dataset)"
      ],
      "metadata": {
        "colab": {
          "base_uri": "https://localhost:8080/"
        },
        "id": "QNRTgi3BcKBJ",
        "outputId": "ab54c168-862b-4a5c-e000-bb30d7c19e39"
      },
      "execution_count": 161,
      "outputs": [
        {
          "output_type": "stream",
          "name": "stdout",
          "text": [
            "Dataset({\n",
            "    features: ['target', 'comment_text', 'label'],\n",
            "    num_rows: 3000\n",
            "})\n"
          ]
        }
      ]
    },
    {
      "cell_type": "code",
      "source": [
        "print(small_test_dataset)"
      ],
      "metadata": {
        "colab": {
          "base_uri": "https://localhost:8080/"
        },
        "id": "VAqkfgxqcOvW",
        "outputId": "119cde7d-12ba-4712-fb67-270b495b5497"
      },
      "execution_count": 162,
      "outputs": [
        {
          "output_type": "stream",
          "name": "stdout",
          "text": [
            "Dataset({\n",
            "    features: ['target', 'comment_text', 'label'],\n",
            "    num_rows: 300\n",
            "})\n"
          ]
        }
      ]
    },
    {
      "cell_type": "markdown",
      "source": [
        "##Pre-Process"
      ],
      "metadata": {
        "id": "84N0fSWX5J_S"
      }
    },
    {
      "cell_type": "code",
      "source": [
        "# Load a DistilBERT tokenizer to preprocess the text field:\n",
        "from transformers import AutoTokenizer\n",
        "\n",
        "tokenizer = AutoTokenizer.from_pretrained(\"distilbert-base-uncased\")"
      ],
      "metadata": {
        "id": "C4fKeSFR5A9K"
      },
      "execution_count": 163,
      "outputs": []
    },
    {
      "cell_type": "code",
      "source": [
        "#Create a preprocessing function to tokenize text and truncate sequences to be no longer than DistilBERT’s maximum input length\n",
        "def preprocess_function(examples):\n",
        "  return tokenizer(examples[\"comment_text\"], truncation=True)\n",
        "\n",
        "tokenized_train = small_train_dataset.map(preprocess_function, batched=True)\n",
        "tokenized_test = small_test_dataset.map(preprocess_function, batched=True)"
      ],
      "metadata": {
        "colab": {
          "base_uri": "https://localhost:8080/",
          "height": 81,
          "referenced_widgets": [
            "0d81205f9541463ea525a496a42694aa",
            "d2a33143175a4ad195f430907dfaa548",
            "af5f86d63c4a466bbdf984d76077d795",
            "3dcfad9ea4ef49d885b92be7b1336c9c",
            "cb414d8aaa4e493b9cca9b326a8a5f87",
            "2df543bf55e84d10a429ffd39cd6b229",
            "e7a5717e0a024c2a9c80ff2185a9a428",
            "ddb2bc9cb87f4ff89ffc0790177d75ab",
            "88a303c1251f46dfab3698997f100799",
            "8d612bc3606144de86f3756a84efd004",
            "11e9b311a83a4b6e9c3802c572acc6ac",
            "e877515bbcab4220b2a3854c6f46463c",
            "c6d765983eba4761b68c7df7940edccb",
            "a0a88628773f4a36a2fcac183fd751b9",
            "7fe7c366b84a4140a8943c90c0b74424",
            "e956c5cf693e4679aa9dfe2d8c92167a",
            "8f422d15087e49288692a3b62f936d32",
            "745c807374524c91bd2a50ad36aec1f1",
            "a1fb901406424603b7d66867573af8fb",
            "06baba467e914643b40022035f02cb9c",
            "ecaa066442a044b2999c223820c74a7d",
            "ef4d943309234593a931a1377691500c"
          ]
        },
        "id": "YO0bj8FN5TDY",
        "outputId": "0c5a4ae6-bfeb-4d62-82e3-b210300f3608"
      },
      "execution_count": 165,
      "outputs": [
        {
          "output_type": "display_data",
          "data": {
            "text/plain": [
              "Map:   0%|          | 0/3000 [00:00<?, ? examples/s]"
            ],
            "application/vnd.jupyter.widget-view+json": {
              "version_major": 2,
              "version_minor": 0,
              "model_id": "0d81205f9541463ea525a496a42694aa"
            }
          },
          "metadata": {}
        },
        {
          "output_type": "display_data",
          "data": {
            "text/plain": [
              "Map:   0%|          | 0/300 [00:00<?, ? examples/s]"
            ],
            "application/vnd.jupyter.widget-view+json": {
              "version_major": 2,
              "version_minor": 0,
              "model_id": "e877515bbcab4220b2a3854c6f46463c"
            }
          },
          "metadata": {}
        }
      ]
    },
    {
      "cell_type": "code",
      "source": [
        "print(tokenized_train)\n",
        "print(tokenized_test)"
      ],
      "metadata": {
        "colab": {
          "base_uri": "https://localhost:8080/"
        },
        "id": "xKsWuBEyhrgo",
        "outputId": "a93189da-a731-49f2-e17e-8941d405e522"
      },
      "execution_count": 166,
      "outputs": [
        {
          "output_type": "stream",
          "name": "stdout",
          "text": [
            "Dataset({\n",
            "    features: ['target', 'comment_text', 'label', 'input_ids', 'attention_mask'],\n",
            "    num_rows: 3000\n",
            "})\n",
            "Dataset({\n",
            "    features: ['target', 'comment_text', 'label', 'input_ids', 'attention_mask'],\n",
            "    num_rows: 300\n",
            "})\n"
          ]
        }
      ]
    },
    {
      "cell_type": "code",
      "source": [
        "# To speed up training, data_collator convert your training samples to PyTorch tensors and concatenate them with the correct amount of padding\n",
        "from transformers import DataCollatorWithPadding\n",
        "data_collator = DataCollatorWithPadding(tokenizer=tokenizer)"
      ],
      "metadata": {
        "id": "Hk-6CkYX5arW"
      },
      "execution_count": 167,
      "outputs": []
    },
    {
      "cell_type": "markdown",
      "source": [
        "##Training the model"
      ],
      "metadata": {
        "id": "MIEQbf_2b4VV"
      }
    },
    {
      "cell_type": "code",
      "source": [
        "# DistilBERT as your base model:\n",
        "from transformers import AutoModelForSequenceClassification\n",
        "model = AutoModelForSequenceClassification.from_pretrained(\"distilbert-base-uncased\", num_labels=2)"
      ],
      "metadata": {
        "colab": {
          "base_uri": "https://localhost:8080/"
        },
        "id": "ik_1sKS2b3nQ",
        "outputId": "8ca29773-01cd-4373-b480-82906e4b4b44"
      },
      "execution_count": 168,
      "outputs": [
        {
          "output_type": "stream",
          "name": "stderr",
          "text": [
            "Some weights of DistilBertForSequenceClassification were not initialized from the model checkpoint at distilbert-base-uncased and are newly initialized: ['classifier.bias', 'pre_classifier.bias', 'classifier.weight', 'pre_classifier.weight']\n",
            "You should probably TRAIN this model on a down-stream task to be able to use it for predictions and inference.\n"
          ]
        }
      ]
    },
    {
      "cell_type": "code",
      "source": [
        "# metrics you will be using to evaluate how good is your fine-tuned model\n",
        "import numpy as np\n",
        "from datasets import load_metric\n",
        "\n",
        "def compute_metrics(eval_pred):\n",
        "   load_accuracy = load_metric(\"accuracy\")\n",
        "   load_f1 = load_metric(\"f1\")\n",
        "\n",
        "   logits, labels = eval_pred\n",
        "   predictions = np.argmax(logits, axis=-1)\n",
        "   accuracy = load_accuracy.compute(predictions=predictions, references=labels)[\"accuracy\"]\n",
        "   f1 = load_f1.compute(predictions=predictions, references=labels)[\"f1\"]\n",
        "   return {\"accuracy\": accuracy, \"f1\": f1}"
      ],
      "metadata": {
        "id": "AgQeMZGM_Ycy"
      },
      "execution_count": 170,
      "outputs": []
    },
    {
      "cell_type": "code",
      "source": [
        "from huggingface_hub import notebook_login\n",
        "notebook_login()"
      ],
      "metadata": {
        "colab": {
          "base_uri": "https://localhost:8080/",
          "height": 145,
          "referenced_widgets": [
            "3c26580d501842fea3b9e813447951a2",
            "0e138f8f25854560883fdd561f01fac1",
            "810015c2c507430092e87d68cc4a6281",
            "7444673c545642fc82f5690f290c7fdb",
            "0be8cc1bfccb47c18007a9d9f2dff7fd",
            "84ccb7bb546949908404221dc2da17ad",
            "1f89518ef6034a66872e06fce2ff2458",
            "851a9698ff954c08a0951fa8f06e87a9",
            "6b9377c9684d49f48b3471971a1ee532",
            "77eb873047fe4c58b5f6e3b74a205632",
            "8bf48331c6e54178846e1779dec801cb",
            "d1ae232e4e1f457f8e7d46982d787ada",
            "301d9f98bb7b41589041b09371b3abaa",
            "e97eddc05e9c47ca9f9c88e0b60aca4d",
            "8f8d4041bd004c1992390e6ef4b2d660",
            "95fcd5f3f7b84a468defb2720ee3d0c8",
            "33c75730c6004cda830f4f2b27946cf8",
            "2d3138f8f42c48f3a20aa2c74fb7f409",
            "1fae40e213734385bf640235605adf2b",
            "050a785f9d404f268c9156502717b530",
            "dd065b3532954dcd8144b175e2f173ed",
            "ec85b92afff04251871a64419514d6eb",
            "fcd0e8df250d474bbdd716c5e3d03b5a",
            "aefc01e276e64861917689775b8ae4c9",
            "4b7f2dc9950f41b3b9603a812eb78a41",
            "ee64f383439a40b4a8b9cbc6ce4b7ff3",
            "61e20a19bef247d1899359e00024bdc0",
            "e240938aca7d4d58906ca325023ec075",
            "05918e4781f9450e9610c166c36f4b51",
            "cd9a8ee884374476916ab8e1100a0be0",
            "f9cf2c6fb6ba46aca591da7b56d72732",
            "97d272a17bf44d58bbcd8a73fd48d80f"
          ]
        },
        "id": "sa4fP0o2cdZf",
        "outputId": "6f007992-95e1-441c-906b-da21f54e5973"
      },
      "execution_count": 92,
      "outputs": [
        {
          "output_type": "display_data",
          "data": {
            "text/plain": [
              "VBox(children=(HTML(value='<center> <img\\nsrc=https://huggingface.co/front/assets/huggingface_logo-noborder.sv…"
            ],
            "application/vnd.jupyter.widget-view+json": {
              "version_major": 2,
              "version_minor": 0,
              "model_id": "3c26580d501842fea3b9e813447951a2"
            }
          },
          "metadata": {}
        }
      ]
    },
    {
      "cell_type": "code",
      "source": [
        "!pip install evaluate"
      ],
      "metadata": {
        "colab": {
          "base_uri": "https://localhost:8080/"
        },
        "id": "C-WlsmNT_yl0",
        "outputId": "81936262-ec78-4471-d59e-c54d82c7592b"
      },
      "execution_count": 19,
      "outputs": [
        {
          "output_type": "stream",
          "name": "stdout",
          "text": [
            "Collecting evaluate\n",
            "  Downloading evaluate-0.4.1-py3-none-any.whl (84 kB)\n",
            "\u001b[?25l     \u001b[90m━━━━━━━━━━━━━━━━━━━━━━━━━━━━━━━━━━━━━━━━\u001b[0m \u001b[32m0.0/84.1 kB\u001b[0m \u001b[31m?\u001b[0m eta \u001b[36m-:--:--\u001b[0m\r\u001b[2K     \u001b[90m━━━━━━━━━━━━━━━━━━━━━━━━━━━━━━━━━━━━━━━━\u001b[0m \u001b[32m84.1/84.1 kB\u001b[0m \u001b[31m2.9 MB/s\u001b[0m eta \u001b[36m0:00:00\u001b[0m\n",
            "\u001b[?25hRequirement already satisfied: datasets>=2.0.0 in /usr/local/lib/python3.10/dist-packages (from evaluate) (2.14.6)\n",
            "Requirement already satisfied: numpy>=1.17 in /usr/local/lib/python3.10/dist-packages (from evaluate) (1.23.5)\n",
            "Requirement already satisfied: dill in /usr/local/lib/python3.10/dist-packages (from evaluate) (0.3.7)\n",
            "Requirement already satisfied: pandas in /usr/local/lib/python3.10/dist-packages (from evaluate) (1.5.3)\n",
            "Requirement already satisfied: requests>=2.19.0 in /usr/local/lib/python3.10/dist-packages (from evaluate) (2.31.0)\n",
            "Requirement already satisfied: tqdm>=4.62.1 in /usr/local/lib/python3.10/dist-packages (from evaluate) (4.66.1)\n",
            "Requirement already satisfied: xxhash in /usr/local/lib/python3.10/dist-packages (from evaluate) (3.4.1)\n",
            "Requirement already satisfied: multiprocess in /usr/local/lib/python3.10/dist-packages (from evaluate) (0.70.15)\n",
            "Requirement already satisfied: fsspec[http]>=2021.05.0 in /usr/local/lib/python3.10/dist-packages (from evaluate) (2023.6.0)\n",
            "Requirement already satisfied: huggingface-hub>=0.7.0 in /usr/local/lib/python3.10/dist-packages (from evaluate) (0.17.3)\n",
            "Requirement already satisfied: packaging in /usr/local/lib/python3.10/dist-packages (from evaluate) (23.2)\n",
            "Collecting responses<0.19 (from evaluate)\n",
            "  Downloading responses-0.18.0-py3-none-any.whl (38 kB)\n",
            "Requirement already satisfied: pyarrow>=8.0.0 in /usr/local/lib/python3.10/dist-packages (from datasets>=2.0.0->evaluate) (9.0.0)\n",
            "Requirement already satisfied: aiohttp in /usr/local/lib/python3.10/dist-packages (from datasets>=2.0.0->evaluate) (3.8.6)\n",
            "Requirement already satisfied: pyyaml>=5.1 in /usr/local/lib/python3.10/dist-packages (from datasets>=2.0.0->evaluate) (6.0.1)\n",
            "Requirement already satisfied: filelock in /usr/local/lib/python3.10/dist-packages (from huggingface-hub>=0.7.0->evaluate) (3.12.4)\n",
            "Requirement already satisfied: typing-extensions>=3.7.4.3 in /usr/local/lib/python3.10/dist-packages (from huggingface-hub>=0.7.0->evaluate) (4.5.0)\n",
            "Requirement already satisfied: charset-normalizer<4,>=2 in /usr/local/lib/python3.10/dist-packages (from requests>=2.19.0->evaluate) (3.3.1)\n",
            "Requirement already satisfied: idna<4,>=2.5 in /usr/local/lib/python3.10/dist-packages (from requests>=2.19.0->evaluate) (3.4)\n",
            "Requirement already satisfied: urllib3<3,>=1.21.1 in /usr/local/lib/python3.10/dist-packages (from requests>=2.19.0->evaluate) (2.0.7)\n",
            "Requirement already satisfied: certifi>=2017.4.17 in /usr/local/lib/python3.10/dist-packages (from requests>=2.19.0->evaluate) (2023.7.22)\n",
            "Requirement already satisfied: python-dateutil>=2.8.1 in /usr/local/lib/python3.10/dist-packages (from pandas->evaluate) (2.8.2)\n",
            "Requirement already satisfied: pytz>=2020.1 in /usr/local/lib/python3.10/dist-packages (from pandas->evaluate) (2023.3.post1)\n",
            "Requirement already satisfied: attrs>=17.3.0 in /usr/local/lib/python3.10/dist-packages (from aiohttp->datasets>=2.0.0->evaluate) (23.1.0)\n",
            "Requirement already satisfied: multidict<7.0,>=4.5 in /usr/local/lib/python3.10/dist-packages (from aiohttp->datasets>=2.0.0->evaluate) (6.0.4)\n",
            "Requirement already satisfied: async-timeout<5.0,>=4.0.0a3 in /usr/local/lib/python3.10/dist-packages (from aiohttp->datasets>=2.0.0->evaluate) (4.0.3)\n",
            "Requirement already satisfied: yarl<2.0,>=1.0 in /usr/local/lib/python3.10/dist-packages (from aiohttp->datasets>=2.0.0->evaluate) (1.9.2)\n",
            "Requirement already satisfied: frozenlist>=1.1.1 in /usr/local/lib/python3.10/dist-packages (from aiohttp->datasets>=2.0.0->evaluate) (1.4.0)\n",
            "Requirement already satisfied: aiosignal>=1.1.2 in /usr/local/lib/python3.10/dist-packages (from aiohttp->datasets>=2.0.0->evaluate) (1.3.1)\n",
            "Requirement already satisfied: six>=1.5 in /usr/local/lib/python3.10/dist-packages (from python-dateutil>=2.8.1->pandas->evaluate) (1.16.0)\n",
            "Installing collected packages: responses, evaluate\n",
            "Successfully installed evaluate-0.4.1 responses-0.18.0\n"
          ]
        }
      ]
    },
    {
      "cell_type": "code",
      "source": [
        "# Evaluate https://huggingface.co/docs/evaluate/index\n",
        "import evaluate\n",
        "\n",
        "accuracy = evaluate.load(\"accuracy\")"
      ],
      "metadata": {
        "colab": {
          "base_uri": "https://localhost:8080/",
          "height": 49,
          "referenced_widgets": [
            "92af49d1a99d41448747f1d8b889a90e",
            "e9765b1a537a46b98ed326438532a5aa",
            "03ebf75087b147e6a4eb94023b2a77ac",
            "3314e0df8ee1419fb629e0d9724ab171",
            "e43ac41c08a3430aa57e05dbf6c20cca",
            "2f01ef245fc54fd08c65800a1fcb571e",
            "957355cf6d0242268abdbb91011e3824",
            "93f9479a79c44ae2b17eb2a0ccd5977e",
            "44c0acef24404139908ff442957db83d",
            "1fd3df0086404c9eb2c8bff477cbe3ca",
            "0c7ca1a948174423828d1342e59c9b88"
          ]
        },
        "id": "YH6zndL0_ni1",
        "outputId": "653f0a45-45fc-4c84-ca9e-4082af1b976f"
      },
      "execution_count": 20,
      "outputs": [
        {
          "output_type": "display_data",
          "data": {
            "text/plain": [
              "Downloading builder script:   0%|          | 0.00/4.20k [00:00<?, ?B/s]"
            ],
            "application/vnd.jupyter.widget-view+json": {
              "version_major": 2,
              "version_minor": 0,
              "model_id": "92af49d1a99d41448747f1d8b889a90e"
            }
          },
          "metadata": {}
        }
      ]
    },
    {
      "cell_type": "code",
      "source": [
        "import torch\n",
        "torch.cuda.is_available()"
      ],
      "metadata": {
        "colab": {
          "base_uri": "https://localhost:8080/"
        },
        "id": "xh_Gw6XybGhL",
        "outputId": "5d682d0c-a780-476d-85c6-98d9eacf2f21"
      },
      "execution_count": 79,
      "outputs": [
        {
          "output_type": "execute_result",
          "data": {
            "text/plain": [
              "True"
            ]
          },
          "metadata": {},
          "execution_count": 79
        }
      ]
    },
    {
      "cell_type": "code",
      "source": [
        "!pip install datasets transformers huggingface_hub"
      ],
      "metadata": {
        "colab": {
          "base_uri": "https://localhost:8080/"
        },
        "id": "J455fey4bJRM",
        "outputId": "2f84860e-74d4-48ba-d761-b82cbcc968f0"
      },
      "execution_count": 100,
      "outputs": [
        {
          "output_type": "stream",
          "name": "stdout",
          "text": [
            "Requirement already satisfied: datasets in /usr/local/lib/python3.10/dist-packages (2.14.6)\n",
            "Requirement already satisfied: transformers in /usr/local/lib/python3.10/dist-packages (4.35.0)\n",
            "Requirement already satisfied: huggingface_hub in /usr/local/lib/python3.10/dist-packages (0.17.3)\n",
            "Requirement already satisfied: numpy>=1.17 in /usr/local/lib/python3.10/dist-packages (from datasets) (1.23.5)\n",
            "Requirement already satisfied: pyarrow>=8.0.0 in /usr/local/lib/python3.10/dist-packages (from datasets) (9.0.0)\n",
            "Requirement already satisfied: dill<0.3.8,>=0.3.0 in /usr/local/lib/python3.10/dist-packages (from datasets) (0.3.7)\n",
            "Requirement already satisfied: pandas in /usr/local/lib/python3.10/dist-packages (from datasets) (1.5.3)\n",
            "Requirement already satisfied: requests>=2.19.0 in /usr/local/lib/python3.10/dist-packages (from datasets) (2.31.0)\n",
            "Requirement already satisfied: tqdm>=4.62.1 in /usr/local/lib/python3.10/dist-packages (from datasets) (4.66.1)\n",
            "Requirement already satisfied: xxhash in /usr/local/lib/python3.10/dist-packages (from datasets) (3.4.1)\n",
            "Requirement already satisfied: multiprocess in /usr/local/lib/python3.10/dist-packages (from datasets) (0.70.15)\n",
            "Requirement already satisfied: fsspec[http]<=2023.10.0,>=2023.1.0 in /usr/local/lib/python3.10/dist-packages (from datasets) (2023.6.0)\n",
            "Requirement already satisfied: aiohttp in /usr/local/lib/python3.10/dist-packages (from datasets) (3.8.6)\n",
            "Requirement already satisfied: packaging in /usr/local/lib/python3.10/dist-packages (from datasets) (23.2)\n",
            "Requirement already satisfied: pyyaml>=5.1 in /usr/local/lib/python3.10/dist-packages (from datasets) (6.0.1)\n",
            "Requirement already satisfied: filelock in /usr/local/lib/python3.10/dist-packages (from transformers) (3.12.4)\n",
            "Requirement already satisfied: regex!=2019.12.17 in /usr/local/lib/python3.10/dist-packages (from transformers) (2023.6.3)\n",
            "Requirement already satisfied: tokenizers<0.15,>=0.14 in /usr/local/lib/python3.10/dist-packages (from transformers) (0.14.1)\n",
            "Requirement already satisfied: safetensors>=0.3.1 in /usr/local/lib/python3.10/dist-packages (from transformers) (0.4.0)\n",
            "Requirement already satisfied: typing-extensions>=3.7.4.3 in /usr/local/lib/python3.10/dist-packages (from huggingface_hub) (4.5.0)\n",
            "Requirement already satisfied: attrs>=17.3.0 in /usr/local/lib/python3.10/dist-packages (from aiohttp->datasets) (23.1.0)\n",
            "Requirement already satisfied: charset-normalizer<4.0,>=2.0 in /usr/local/lib/python3.10/dist-packages (from aiohttp->datasets) (3.3.1)\n",
            "Requirement already satisfied: multidict<7.0,>=4.5 in /usr/local/lib/python3.10/dist-packages (from aiohttp->datasets) (6.0.4)\n",
            "Requirement already satisfied: async-timeout<5.0,>=4.0.0a3 in /usr/local/lib/python3.10/dist-packages (from aiohttp->datasets) (4.0.3)\n",
            "Requirement already satisfied: yarl<2.0,>=1.0 in /usr/local/lib/python3.10/dist-packages (from aiohttp->datasets) (1.9.2)\n",
            "Requirement already satisfied: frozenlist>=1.1.1 in /usr/local/lib/python3.10/dist-packages (from aiohttp->datasets) (1.4.0)\n",
            "Requirement already satisfied: aiosignal>=1.1.2 in /usr/local/lib/python3.10/dist-packages (from aiohttp->datasets) (1.3.1)\n",
            "Requirement already satisfied: idna<4,>=2.5 in /usr/local/lib/python3.10/dist-packages (from requests>=2.19.0->datasets) (3.4)\n",
            "Requirement already satisfied: urllib3<3,>=1.21.1 in /usr/local/lib/python3.10/dist-packages (from requests>=2.19.0->datasets) (2.0.7)\n",
            "Requirement already satisfied: certifi>=2017.4.17 in /usr/local/lib/python3.10/dist-packages (from requests>=2.19.0->datasets) (2023.7.22)\n",
            "Requirement already satisfied: python-dateutil>=2.8.1 in /usr/local/lib/python3.10/dist-packages (from pandas->datasets) (2.8.2)\n",
            "Requirement already satisfied: pytz>=2020.1 in /usr/local/lib/python3.10/dist-packages (from pandas->datasets) (2023.3.post1)\n",
            "Requirement already satisfied: six>=1.5 in /usr/local/lib/python3.10/dist-packages (from python-dateutil>=2.8.1->pandas->datasets) (1.16.0)\n"
          ]
        }
      ]
    },
    {
      "cell_type": "code",
      "source": [
        "!apt-get install git-lfs"
      ],
      "metadata": {
        "colab": {
          "base_uri": "https://localhost:8080/"
        },
        "id": "qkLxxRlEbMg9",
        "outputId": "9cee17d6-2aca-44da-834d-9e11f7f21acc"
      },
      "execution_count": 101,
      "outputs": [
        {
          "output_type": "stream",
          "name": "stdout",
          "text": [
            "Reading package lists... Done\n",
            "Building dependency tree... Done\n",
            "Reading state information... Done\n",
            "git-lfs is already the newest version (3.0.2-1ubuntu0.2).\n",
            "0 upgraded, 0 newly installed, 0 to remove and 19 not upgraded.\n"
          ]
        }
      ]
    },
    {
      "cell_type": "code",
      "source": [
        "from transformers import TrainingArguments, Trainer\n",
        "\n",
        "repo_name = \"finetuning-sentiment-model-3000-samples\"\n",
        "\n",
        "training_args = TrainingArguments(\n",
        "   output_dir=repo_name,\n",
        "   learning_rate=2e-5,\n",
        "   per_device_train_batch_size=16,\n",
        "   per_device_eval_batch_size=16,\n",
        "   num_train_epochs=2,\n",
        "   weight_decay=0.01,\n",
        "   save_strategy=\"epoch\",\n",
        "   push_to_hub=True,\n",
        ")\n",
        "\n",
        "trainer = Trainer(\n",
        "   model=model,\n",
        "   args=training_args,\n",
        "   train_dataset=tokenized_train,\n",
        "   eval_dataset=tokenized_test,\n",
        "   tokenizer=tokenizer,\n",
        "   data_collator=data_collator,\n",
        "   compute_metrics=compute_metrics,\n",
        ")"
      ],
      "metadata": {
        "id": "1Sq2IA-uIZso"
      },
      "execution_count": 171,
      "outputs": []
    },
    {
      "cell_type": "code",
      "source": [
        "trainer.train()"
      ],
      "metadata": {
        "colab": {
          "base_uri": "https://localhost:8080/",
          "height": 147
        },
        "id": "T_zQ0QNfc1Ge",
        "outputId": "b80c1ec9-cbdb-4d2f-e652-b1cc18c95d5d"
      },
      "execution_count": 172,
      "outputs": [
        {
          "output_type": "stream",
          "name": "stderr",
          "text": [
            "You're using a DistilBertTokenizerFast tokenizer. Please note that with a fast tokenizer, using the `__call__` method is faster than using a method to encode the text followed by a call to the `pad` method to get a padded encoding.\n"
          ]
        },
        {
          "output_type": "display_data",
          "data": {
            "text/plain": [
              "<IPython.core.display.HTML object>"
            ],
            "text/html": [
              "\n",
              "    <div>\n",
              "      \n",
              "      <progress value='376' max='376' style='width:300px; height:20px; vertical-align: middle;'></progress>\n",
              "      [376/376 00:42, Epoch 2/2]\n",
              "    </div>\n",
              "    <table border=\"1\" class=\"dataframe\">\n",
              "  <thead>\n",
              " <tr style=\"text-align: left;\">\n",
              "      <th>Step</th>\n",
              "      <th>Training Loss</th>\n",
              "    </tr>\n",
              "  </thead>\n",
              "  <tbody>\n",
              "  </tbody>\n",
              "</table><p>"
            ]
          },
          "metadata": {}
        },
        {
          "output_type": "execute_result",
          "data": {
            "text/plain": [
              "TrainOutput(global_step=376, training_loss=0.46550044607608876, metrics={'train_runtime': 42.7781, 'train_samples_per_second': 140.259, 'train_steps_per_second': 8.79, 'total_flos': 306072134004000.0, 'train_loss': 0.46550044607608876, 'epoch': 2.0})"
            ]
          },
          "metadata": {},
          "execution_count": 172
        }
      ]
    },
    {
      "cell_type": "code",
      "source": [
        "#Evaluate"
      ],
      "metadata": {
        "id": "2ltEO3Lkj_bL"
      },
      "execution_count": null,
      "outputs": []
    },
    {
      "cell_type": "markdown",
      "source": [
        "###Semantic Encoding\n",
        "#### Tokenize sentences, obtain embeddings using the Roberta model trained from phase 1"
      ],
      "metadata": {
        "id": "LNspe2jru9xW"
      }
    },
    {
      "cell_type": "code",
      "source": [
        "# import torch\n",
        "# import torch.nn as nn\n",
        "# from transformers import RobertaTokenizer, RobertaModel\n",
        "# import pandas as pd\n",
        "# import numpy as np\n",
        "# import os\n",
        "\n",
        "# # Load pre-trained RoBERTa model and tokenizer\n",
        "# model_name = \"roberta-base\"\n",
        "# model = RobertaModel.from_pretrained(model_name)\n",
        "# tokenizer = RobertaTokenizer.from_pretrained(model_name)\n",
        "\n",
        "# # Load your text data (modify this part according to your data source)\n",
        "# text_data = [\"Your text data here\", \"Another text data sample\"]\n",
        "\n",
        "# # Parameters\n",
        "# max_length = 15\n",
        "# input_dim = model.config.hidden_size\n",
        "# output_dim = 2  # Example output dimension\n",
        "# num_epochs = 5\n",
        "# batch_size = 32\n",
        "# learning_rate = 1e-3\n",
        "\n",
        "# # Encoding function\n",
        "# def encode_text(text, tokenizer, model, max_length):\n",
        "#     tokens = tokenizer.tokenize(text)\n",
        "#     if len(tokens) > max_length - 2:\n",
        "#         tokens = tokens[:max_length - 2]  # Trim tokens to fit max_length\n",
        "#     tokens = [\"[CLS]\"] + tokens + [\"[SEP]\"]  # Add [CLS] and [SEP] tokens\n",
        "#     padded_tokens = tokens + ['[PAD]' for _ in range(max_length - len(tokens))]\n",
        "\n",
        "#     attn_mask = [1 if token != '[PAD]' else 0 for token in padded_tokens]\n",
        "#     seg_ids = [0 for _ in range(len(padded_tokens))]\n",
        "\n",
        "#     sent_ids = tokenizer.convert_tokens_to_ids(padded_tokens)\n",
        "#     token_ids = torch.tensor(sent_ids).unsqueeze(0)\n",
        "#     attn_mask = torch.tensor(attn_mask).unsqueeze(0)\n",
        "#     seg_ids = torch.tensor(seg_ids).unsqueeze(0)\n",
        "\n",
        "#     output = model(token_ids, attention_mask=attn_mask, token_type_ids=seg_ids)\n",
        "#     last_hidden_state, pooler_output = output[0], output[1]\n",
        "\n",
        "#     return pooler_output\n",
        "\n",
        "# # Create a DataFrame for processed data\n",
        "# mean_embeddings = []\n",
        "# for text in text_data:\n",
        "#     embeddings = encode_text(text, tokenizer, model, max_length)\n",
        "#     mean_embeddings.append(embeddings.tolist())\n",
        "\n",
        "# data = {\"Text\": text_data, \"Embeddings\": mean_embeddings}\n",
        "# df = pd.DataFrame(data)\n",
        "\n",
        "# # Store the DataFrame as a CSV file\n",
        "# output_csv_file = \"/content/drive/MyDrive/fairness-feedback-nlp/Code/embeddings/encoded_data.csv\"\n",
        "# df.to_csv(output_csv_file, index=False)\n",
        "\n",
        "# print(\"Encoded data has been stored in\", output_csv_file)\n",
        "\n",
        "# # Add a linear layer for fine-tuning\n",
        "# class FineTuningLinear(nn.Module):\n",
        "#     def __init__(self, input_dim, output_dim):\n",
        "#         super(FineTuningLinear, self).__init__()\n",
        "#         self.fc = nn.Linear(input_dim, output_dim)\n",
        "\n",
        "#     def forward(self, x):\n",
        "#         return self.fc(x)\n",
        "\n",
        "# # Example usage:\n",
        "# input_dim = model.config.hidden_size\n",
        "# output_dim = 2  # Example output dimension\n",
        "# fine_tuning_layer = FineTuningLinear(input_dim, output_dim)\n"
      ],
      "metadata": {
        "id": "VtT0x4L3RyOm"
      },
      "execution_count": null,
      "outputs": []
    },
    {
      "cell_type": "markdown",
      "source": [
        "##**Step 3. Physical Channel with different types of noise**\n",
        "####AWGN, Rayleigh fading, and multiplicative Guassian noise (test robustness of semantic encoding)\n",
        "######Compare the effects of different types of noise on the quality of the embeddings."
      ],
      "metadata": {
        "id": "FWOZFYqjK5Tb"
      }
    },
    {
      "cell_type": "code",
      "source": [
        "import numpy as np\n",
        "from sklearn.metrics.pairwise import cosine_similarity\n",
        "\n",
        "# Load the saved embeddings\n",
        "loaded_embeddings = np.load(output_file)\n",
        "\n",
        "# Define functions to add noise to embeddings\n",
        "def add_awgn_noise(embeddings, snr_dB):\n",
        "    # Calculate the noise standard deviation based on SNR\n",
        "    snr = 10 ** (snr_dB / 10)\n",
        "    signal_power = np.mean(embeddings ** 2)\n",
        "    noise_power = signal_power / snr\n",
        "    noise = np.random.normal(0, np.sqrt(noise_power), embeddings.shape)\n",
        "    noisy_embeddings = embeddings + noise\n",
        "    return noisy_embeddings\n",
        "\n",
        "def add_rayleigh_fading(embeddings, fading_factor):\n",
        "    noisy_embeddings = embeddings * fading_factor\n",
        "    return noisy_embeddings\n",
        "\n",
        "def add_multiplicative_gaussian_noise(embeddings, noise_std):\n",
        "    noise = np.random.normal(1, noise_std, embeddings.shape)\n",
        "    noisy_embeddings = embeddings * noise\n",
        "    return noisy_embeddings\n",
        "\n",
        "# Choose a target sentence for comparison (you can change this as needed)\n",
        "target_sentence_index = 0\n",
        "target_embedding = loaded_embeddings[target_sentence_index]\n",
        "\n",
        "# Define SNR (Signal-to-Noise Ratio) and fading factor\n",
        "awgn_snr_dB = 20  # Adjust the SNR in dB as needed\n",
        "rayleigh_fading_factor = 0.5  # Adjust the fading factor as needed\n",
        "multiplicative_noise_std = 0.2  # Adjust the multiplicative noise standard deviation as needed\n",
        "\n",
        "# Add noise to the target embedding\n",
        "awgn_noisy_embedding = add_awgn_noise(target_embedding, awgn_snr_dB)\n",
        "rayleigh_noisy_embedding = add_rayleigh_fading(target_embedding, rayleigh_fading_factor)\n",
        "multiplicative_noisy_embedding = add_multiplicative_gaussian_noise(target_embedding, multiplicative_noise_std)\n",
        "\n",
        "# Calculate cosine similarity with all other sentences for each noisy embedding\n",
        "similarities_awgn = cosine_similarity([awgn_noisy_embedding], loaded_embeddings)\n",
        "similarities_rayleigh = cosine_similarity([rayleigh_noisy_embedding], loaded_embeddings)\n",
        "similarities_multiplicative = cosine_similarity([multiplicative_noisy_embedding], loaded_embeddings)\n",
        "\n",
        "# Get the most similar sentences for each noisy embedding\n",
        "num_similar_sentences = 5\n",
        "most_similar_awgn_indices = np.argsort(-similarities_awgn)[0][1:num_similar_sentences + 1]\n",
        "most_similar_rayleigh_indices = np.argsort(-similarities_rayleigh)[0][1:num_similar_sentences + 1]\n",
        "most_similar_multiplicative_indices = np.argsort(-similarities_multiplicative)[0][1:num_similar_sentences + 1]\n",
        "\n",
        "# Print the most similar sentences for each noisy embedding\n",
        "print(\"Target Sentence:\")\n",
        "print(sentences[target_sentence_index])\n",
        "\n",
        "print(\"\\nMost Similar Sentences with AWGN Noise:\")\n",
        "for index in most_similar_awgn_indices:\n",
        "    print(sentences[index])\n",
        "\n",
        "print(\"\\nMost Similar Sentences with Rayleigh Fading:\")\n",
        "for index in most_similar_rayleigh_indices:\n",
        "    print(sentences[index])\n",
        "\n",
        "print(\"\\nMost Similar Sentences with Multiplicative Gaussian Noise:\")\n",
        "for index in most_similar_multiplicative_indices:\n",
        "    print(sentences[index])\n"
      ],
      "metadata": {
        "id": "rRxxfl-1fXW5"
      },
      "execution_count": null,
      "outputs": []
    },
    {
      "cell_type": "markdown",
      "source": [
        "####Calculate the Structural Similarity Index (SSIM) using scikit-image\n",
        "\n",
        "##### The ssim function returns an SSIM score between -1 and 1, where 1 indicates perfect similarity between the two images, and values closer to -1 indicate less similarity.\n"
      ],
      "metadata": {
        "id": "Vx1gFogbQxh4"
      }
    },
    {
      "cell_type": "code",
      "source": [
        "# # Install library\n",
        "# !pip install scikit-image"
      ],
      "metadata": {
        "id": "PZiV_FZ7Q5zZ"
      },
      "execution_count": null,
      "outputs": []
    },
    {
      "cell_type": "code",
      "source": [
        "# # Calculate SSIM\n",
        "# ssim_score = ssim(original_embeddings, noisy_embeddings, data_range=noisy_embeddings.max() - noisy_embeddings.min())\n",
        "\n",
        "# # Print the SSIM score\n",
        "# print(\"Structural Similarity Index (SSIM):\", ssim_score)"
      ],
      "metadata": {
        "id": "MoeOUQxDQ-xS"
      },
      "execution_count": null,
      "outputs": []
    },
    {
      "cell_type": "markdown",
      "source": [
        "##**Step 4. Channel Decoding and Semantic Recovery**\n",
        "####Decoded semantic representations into channel decoder (NNs noise channel simulations). Bit Error Rate (BER) calculated to identify accuracy/ noise present."
      ],
      "metadata": {
        "id": "9PvSlO4DLmyu"
      }
    },
    {
      "cell_type": "code",
      "source": [
        "# Implmenting\n",
        "# '''\n",
        "# #Decoded semantic representations into channel decoder (NNs noise channel simulations). Bit Error Rate (BER) calculated to identify accuracy/ noise present.\n",
        "# '''\n",
        "\n"
      ],
      "metadata": {
        "id": "borOMc0jWjML"
      },
      "execution_count": null,
      "outputs": []
    },
    {
      "cell_type": "markdown",
      "source": [
        "##**Step 5. Evaluation**\n",
        "####Comparing BER values from different noise conditions.\n"
      ],
      "metadata": {
        "id": "UByBPS0KL889"
      }
    },
    {
      "cell_type": "code",
      "source": [
        "# Implmenting\n",
        "# '''\n",
        "# #Comparing BER values from different noise conditions.\n",
        "# '''"
      ],
      "metadata": {
        "id": "yeVOShQkWl1L"
      },
      "execution_count": null,
      "outputs": []
    }
  ]
}