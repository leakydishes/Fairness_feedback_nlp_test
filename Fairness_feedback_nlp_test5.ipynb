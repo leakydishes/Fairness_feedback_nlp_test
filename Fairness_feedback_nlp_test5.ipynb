{
  "nbformat": 4,
  "nbformat_minor": 0,
  "metadata": {
    "colab": {
      "provenance": [],
      "gpuType": "T4",
      "mount_file_id": "1jixwOITC2bjIzZRc388tdtr1wOYlxE2f",
      "authorship_tag": "ABX9TyNVjkAfe0QHtaZKO1qObDoT",
      "include_colab_link": true
    },
    "kernelspec": {
      "name": "python3",
      "display_name": "Python 3"
    },
    "language_info": {
      "name": "python"
    },
    "accelerator": "GPU"
  },
  "cells": [
    {
      "cell_type": "markdown",
      "metadata": {
        "id": "view-in-github",
        "colab_type": "text"
      },
      "source": [
        "<a href=\"https://colab.research.google.com/github/leakydishes/Fairness_feedback_nlp_test/blob/main/Fairness_feedback_nlp_test5.ipynb\" target=\"_parent\"><img src=\"https://colab.research.google.com/assets/colab-badge.svg\" alt=\"Open In Colab\"/></a>"
      ]
    },
    {
      "cell_type": "markdown",
      "source": [
        "#**Deakin University Internship 2023**\n",
        "##Human-Guided Fair Classification for NLP\n",
        "#####Te' Claire\n",
        "\n",
        "*@inproceedings{\n",
        "dorner2023humanguided,\n",
        "title={Human-Guided Fair Classification for Natural Language Processing},\n",
        "author={Florian E. Dorner and Momchil Peychev and Nikola Konstantinov and Naman Goel and Elliott Ash and Martin Vechev},\n",
        "booktitle={The Eleventh International Conference on Learning Representations },\n",
        "year={2023},\n",
        "url={https://openreview.net/forum?id=N_g8TT9Cy7f}\n",
        "}*"
      ],
      "metadata": {
        "id": "1krF2sLeA9Ip"
      }
    },
    {
      "cell_type": "markdown",
      "source": [
        "##**Step 1. Mount Google Drive**"
      ],
      "metadata": {
        "id": "rnMkrDpv5XY_"
      }
    },
    {
      "cell_type": "code",
      "source": [
        "from google.colab import drive\n",
        "drive.mount('/content/drive',force_remount=True)"
      ],
      "metadata": {
        "colab": {
          "base_uri": "https://localhost:8080/"
        },
        "id": "wuts1xQ2_yPd",
        "outputId": "02917535-0695-4c8d-8bd8-7d579ba37b86"
      },
      "execution_count": 1,
      "outputs": [
        {
          "output_type": "stream",
          "name": "stdout",
          "text": [
            "Mounted at /content/drive\n"
          ]
        }
      ]
    },
    {
      "cell_type": "markdown",
      "source": [
        "##**Step 2.Download the train.csv file from the Civil comments dataset to Code/Datasets/Kaggle_Toxicity**\n",
        "####Set up a virtual environment with the required packages"
      ],
      "metadata": {
        "id": "riJuKYPvAzPR"
      }
    },
    {
      "cell_type": "markdown",
      "source": [
        "####Note: Google Colab already has Python pre-installed therefore you don't need to create a virtual environment. Instead install dependencies."
      ],
      "metadata": {
        "id": "gg9i_BeQoFoT"
      }
    },
    {
      "cell_type": "code",
      "source": [
        "cd /content/drive/MyDrive/fairness-feedback-nlp-master/Code"
      ],
      "metadata": {
        "id": "2FKZmY_S5tzf",
        "colab": {
          "base_uri": "https://localhost:8080/"
        },
        "outputId": "042f6f64-b5d1-414b-805a-aa2c16743861"
      },
      "execution_count": 2,
      "outputs": [
        {
          "output_type": "stream",
          "name": "stdout",
          "text": [
            "/content/drive/MyDrive/fairness-feedback-nlp-master/Code\n"
          ]
        }
      ]
    },
    {
      "cell_type": "markdown",
      "source": [
        "####Install python 3.8 and update"
      ],
      "metadata": {
        "id": "Tu6ZHHic10Xr"
      }
    },
    {
      "cell_type": "code",
      "source": [
        "!sudo apt-get update\n",
        "!sudo apt-get install python3.8\n",
        "!python3.8 -m ensurepip --upgrade"
      ],
      "metadata": {
        "colab": {
          "base_uri": "https://localhost:8080/"
        },
        "id": "dfnHxFukotDq",
        "outputId": "3dcb4b6f-bebc-4cbf-d751-bd37c61ec1c1"
      },
      "execution_count": 3,
      "outputs": [
        {
          "output_type": "stream",
          "name": "stdout",
          "text": [
            "\r0% [Working]\r            \rGet:1 https://cloud.r-project.org/bin/linux/ubuntu jammy-cran40/ InRelease [3,626 B]\n",
            "Get:2 https://developer.download.nvidia.com/compute/cuda/repos/ubuntu2204/x86_64  InRelease [1,581 B]\n",
            "Get:3 https://developer.download.nvidia.com/compute/cuda/repos/ubuntu2204/x86_64  Packages [457 kB]\n",
            "Get:4 http://security.ubuntu.com/ubuntu jammy-security InRelease [110 kB]\n",
            "Hit:5 http://archive.ubuntu.com/ubuntu jammy InRelease\n",
            "Get:6 http://archive.ubuntu.com/ubuntu jammy-updates InRelease [119 kB]\n",
            "Get:7 https://ppa.launchpadcontent.net/c2d4u.team/c2d4u4.0+/ubuntu jammy InRelease [18.1 kB]\n",
            "Get:8 http://security.ubuntu.com/ubuntu jammy-security/universe amd64 Packages [979 kB]\n",
            "Get:9 http://archive.ubuntu.com/ubuntu jammy-backports InRelease [109 kB]\n",
            "Get:10 http://archive.ubuntu.com/ubuntu jammy-updates/main amd64 Packages [1,110 kB]\n",
            "Hit:11 https://ppa.launchpadcontent.net/deadsnakes/ppa/ubuntu jammy InRelease\n",
            "Get:12 http://archive.ubuntu.com/ubuntu jammy-updates/multiverse amd64 Packages [49.9 kB]\n",
            "Get:13 http://archive.ubuntu.com/ubuntu jammy-updates/restricted amd64 Packages [876 kB]\n",
            "Get:14 http://archive.ubuntu.com/ubuntu jammy-updates/universe amd64 Packages [1,236 kB]\n",
            "Hit:15 https://ppa.launchpadcontent.net/graphics-drivers/ppa/ubuntu jammy InRelease\n",
            "Hit:16 https://ppa.launchpadcontent.net/ubuntugis/ppa/ubuntu jammy InRelease\n",
            "Get:17 https://ppa.launchpadcontent.net/c2d4u.team/c2d4u4.0+/ubuntu jammy/main Sources [2,163 kB]\n",
            "Get:18 https://ppa.launchpadcontent.net/c2d4u.team/c2d4u4.0+/ubuntu jammy/main amd64 Packages [1,110 kB]\n",
            "Fetched 8,342 kB in 7s (1,278 kB/s)\n",
            "Reading package lists... Done\n",
            "Reading package lists... Done\n",
            "Building dependency tree... Done\n",
            "Reading state information... Done\n",
            "The following additional packages will be installed:\n",
            "  libpython3.8-minimal libpython3.8-stdlib mailcap mime-support\n",
            "  python3.8-minimal\n",
            "Suggested packages:\n",
            "  python3.8-venv binfmt-support\n",
            "The following NEW packages will be installed:\n",
            "  libpython3.8-minimal libpython3.8-stdlib mailcap mime-support python3.8\n",
            "  python3.8-minimal\n",
            "0 upgraded, 6 newly installed, 0 to remove and 16 not upgraded.\n",
            "Need to get 5,099 kB of archives.\n",
            "After this operation, 18.9 MB of additional disk space will be used.\n",
            "Get:1 http://archive.ubuntu.com/ubuntu jammy/main amd64 mailcap all 3.70+nmu1ubuntu1 [23.8 kB]\n",
            "Get:2 https://ppa.launchpadcontent.net/deadsnakes/ppa/ubuntu jammy/main amd64 libpython3.8-minimal amd64 3.8.17-1+jammy1 [793 kB]\n",
            "Get:3 http://archive.ubuntu.com/ubuntu jammy/main amd64 mime-support all 3.66 [3,696 B]\n",
            "Get:4 https://ppa.launchpadcontent.net/deadsnakes/ppa/ubuntu jammy/main amd64 python3.8-minimal amd64 3.8.17-1+jammy1 [2,023 kB]\n",
            "Get:5 https://ppa.launchpadcontent.net/deadsnakes/ppa/ubuntu jammy/main amd64 libpython3.8-stdlib amd64 3.8.17-1+jammy1 [1,817 kB]\n",
            "Get:6 https://ppa.launchpadcontent.net/deadsnakes/ppa/ubuntu jammy/main amd64 python3.8 amd64 3.8.17-1+jammy1 [438 kB]\n",
            "Fetched 5,099 kB in 6s (795 kB/s)\n",
            "debconf: unable to initialize frontend: Dialog\n",
            "debconf: (No usable dialog-like program is installed, so the dialog based frontend cannot be used. at /usr/share/perl5/Debconf/FrontEnd/Dialog.pm line 78, <> line 6.)\n",
            "debconf: falling back to frontend: Readline\n",
            "debconf: unable to initialize frontend: Readline\n",
            "debconf: (This frontend requires a controlling tty.)\n",
            "debconf: falling back to frontend: Teletype\n",
            "dpkg-preconfigure: unable to re-open stdin: \n",
            "Selecting previously unselected package libpython3.8-minimal:amd64.\n",
            "(Reading database ... 120511 files and directories currently installed.)\n",
            "Preparing to unpack .../0-libpython3.8-minimal_3.8.17-1+jammy1_amd64.deb ...\n",
            "Unpacking libpython3.8-minimal:amd64 (3.8.17-1+jammy1) ...\n",
            "Selecting previously unselected package python3.8-minimal.\n",
            "Preparing to unpack .../1-python3.8-minimal_3.8.17-1+jammy1_amd64.deb ...\n",
            "Unpacking python3.8-minimal (3.8.17-1+jammy1) ...\n",
            "Selecting previously unselected package mailcap.\n",
            "Preparing to unpack .../2-mailcap_3.70+nmu1ubuntu1_all.deb ...\n",
            "Unpacking mailcap (3.70+nmu1ubuntu1) ...\n",
            "Selecting previously unselected package mime-support.\n",
            "Preparing to unpack .../3-mime-support_3.66_all.deb ...\n",
            "Unpacking mime-support (3.66) ...\n",
            "Selecting previously unselected package libpython3.8-stdlib:amd64.\n",
            "Preparing to unpack .../4-libpython3.8-stdlib_3.8.17-1+jammy1_amd64.deb ...\n",
            "Unpacking libpython3.8-stdlib:amd64 (3.8.17-1+jammy1) ...\n",
            "Selecting previously unselected package python3.8.\n",
            "Preparing to unpack .../5-python3.8_3.8.17-1+jammy1_amd64.deb ...\n",
            "Unpacking python3.8 (3.8.17-1+jammy1) ...\n",
            "Setting up libpython3.8-minimal:amd64 (3.8.17-1+jammy1) ...\n",
            "Setting up python3.8-minimal (3.8.17-1+jammy1) ...\n",
            "Setting up mailcap (3.70+nmu1ubuntu1) ...\n",
            "Setting up mime-support (3.66) ...\n",
            "Setting up libpython3.8-stdlib:amd64 (3.8.17-1+jammy1) ...\n",
            "Setting up python3.8 (3.8.17-1+jammy1) ...\n",
            "Processing triggers for man-db (2.10.2-1) ...\n",
            "/usr/bin/python3.8: No module named ensurepip\n"
          ]
        }
      ]
    },
    {
      "cell_type": "code",
      "source": [
        "#list python versions\n",
        "!ls /usr/bin/python*"
      ],
      "metadata": {
        "colab": {
          "base_uri": "https://localhost:8080/"
        },
        "id": "eMHuy1OAo9LZ",
        "outputId": "6a40a620-127b-4a22-c470-435403215c94"
      },
      "execution_count": 4,
      "outputs": [
        {
          "output_type": "stream",
          "name": "stdout",
          "text": [
            "/usr/bin/python3     /usr/bin/python3.10-config  /usr/bin/python3-config\n",
            "/usr/bin/python3.10  /usr/bin/python3.8\n"
          ]
        }
      ]
    },
    {
      "cell_type": "code",
      "source": [
        "#update python version\n",
        "!sudo update-alternatives --install /usr/bin/python3 python3 /usr/bin/python3.8 1"
      ],
      "metadata": {
        "id": "Bm-ZnUMYqZUq",
        "colab": {
          "base_uri": "https://localhost:8080/"
        },
        "outputId": "2c3c56da-fc74-4a49-fc8f-a1ee7857f237"
      },
      "execution_count": 5,
      "outputs": [
        {
          "output_type": "stream",
          "name": "stdout",
          "text": [
            "update-alternatives: using /usr/bin/python3.8 to provide /usr/bin/python3 (python3) in auto mode\n"
          ]
        }
      ]
    },
    {
      "cell_type": "code",
      "source": [
        "#Confirgure python version\n",
        "!sudo update-alternatives --config python3"
      ],
      "metadata": {
        "colab": {
          "base_uri": "https://localhost:8080/"
        },
        "id": "zVGh3s64tzNV",
        "outputId": "c5db01a5-626c-4fc2-b01b-a700f97ff874"
      },
      "execution_count": 6,
      "outputs": [
        {
          "output_type": "stream",
          "name": "stdout",
          "text": [
            "There is only one alternative in link group python3 (providing /usr/bin/python3): /usr/bin/python3.8\n",
            "Nothing to configure.\n"
          ]
        }
      ]
    },
    {
      "cell_type": "code",
      "source": [
        "#permanently install the specific version to the google colab\n",
        "!sudo apt install python3-pip"
      ],
      "metadata": {
        "colab": {
          "base_uri": "https://localhost:8080/"
        },
        "id": "oV2U9wrSt-DG",
        "outputId": "663b4fd8-7500-4ad8-f7f5-1e304ddb5589"
      },
      "execution_count": 7,
      "outputs": [
        {
          "output_type": "stream",
          "name": "stdout",
          "text": [
            "Reading package lists... Done\n",
            "Building dependency tree... Done\n",
            "Reading state information... Done\n",
            "The following additional packages will be installed:\n",
            "  python3-setuptools python3-wheel\n",
            "Suggested packages:\n",
            "  python-setuptools-doc\n",
            "The following NEW packages will be installed:\n",
            "  python3-pip python3-setuptools python3-wheel\n",
            "0 upgraded, 3 newly installed, 0 to remove and 16 not upgraded.\n",
            "Need to get 1,677 kB of archives.\n",
            "After this operation, 8,965 kB of additional disk space will be used.\n",
            "Get:1 http://archive.ubuntu.com/ubuntu jammy-updates/main amd64 python3-setuptools all 59.6.0-1.2ubuntu0.22.04.1 [339 kB]\n",
            "Get:2 http://archive.ubuntu.com/ubuntu jammy-updates/universe amd64 python3-wheel all 0.37.1-2ubuntu0.22.04.1 [32.0 kB]\n",
            "Get:3 http://archive.ubuntu.com/ubuntu jammy-updates/universe amd64 python3-pip all 22.0.2+dfsg-1ubuntu0.3 [1,305 kB]\n",
            "Fetched 1,677 kB in 2s (754 kB/s)\n",
            "debconf: unable to initialize frontend: Dialog\n",
            "debconf: (No usable dialog-like program is installed, so the dialog based frontend cannot be used. at /usr/share/perl5/Debconf/FrontEnd/Dialog.pm line 78, <> line 3.)\n",
            "debconf: falling back to frontend: Readline\n",
            "debconf: unable to initialize frontend: Readline\n",
            "debconf: (This frontend requires a controlling tty.)\n",
            "debconf: falling back to frontend: Teletype\n",
            "dpkg-preconfigure: unable to re-open stdin: \n",
            "Selecting previously unselected package python3-setuptools.\n",
            "(Reading database ... 121162 files and directories currently installed.)\n",
            "Preparing to unpack .../python3-setuptools_59.6.0-1.2ubuntu0.22.04.1_all.deb ...\n",
            "Unpacking python3-setuptools (59.6.0-1.2ubuntu0.22.04.1) ...\n",
            "Selecting previously unselected package python3-wheel.\n",
            "Preparing to unpack .../python3-wheel_0.37.1-2ubuntu0.22.04.1_all.deb ...\n",
            "Unpacking python3-wheel (0.37.1-2ubuntu0.22.04.1) ...\n",
            "Selecting previously unselected package python3-pip.\n",
            "Preparing to unpack .../python3-pip_22.0.2+dfsg-1ubuntu0.3_all.deb ...\n",
            "Unpacking python3-pip (22.0.2+dfsg-1ubuntu0.3) ...\n",
            "Setting up python3-setuptools (59.6.0-1.2ubuntu0.22.04.1) ...\n",
            "Setting up python3-wheel (0.37.1-2ubuntu0.22.04.1) ...\n",
            "Setting up python3-pip (22.0.2+dfsg-1ubuntu0.3) ...\n",
            "Processing triggers for man-db (2.10.2-1) ...\n"
          ]
        }
      ]
    },
    {
      "cell_type": "markdown",
      "source": [
        "####Check correct packages installed for distutils and Numpy"
      ],
      "metadata": {
        "id": "rY-Jb9V52SwK"
      }
    },
    {
      "cell_type": "code",
      "source": [
        "!sudo apt-get install python3.8-distutils"
      ],
      "metadata": {
        "colab": {
          "base_uri": "https://localhost:8080/"
        },
        "id": "30gzRE2nuaLv",
        "outputId": "5dd05409-0156-4def-82d4-8f8eaf384aaa"
      },
      "execution_count": 8,
      "outputs": [
        {
          "output_type": "stream",
          "name": "stdout",
          "text": [
            "Reading package lists... Done\n",
            "Building dependency tree... Done\n",
            "Reading state information... Done\n",
            "The following additional packages will be installed:\n",
            "  python3.8-lib2to3\n",
            "The following NEW packages will be installed:\n",
            "  python3.8-distutils python3.8-lib2to3\n",
            "0 upgraded, 2 newly installed, 0 to remove and 16 not upgraded.\n",
            "Need to get 319 kB of archives.\n",
            "After this operation, 1,237 kB of additional disk space will be used.\n",
            "Get:1 https://ppa.launchpadcontent.net/deadsnakes/ppa/ubuntu jammy/main amd64 python3.8-lib2to3 all 3.8.17-1+jammy1 [126 kB]\n",
            "Get:2 https://ppa.launchpadcontent.net/deadsnakes/ppa/ubuntu jammy/main amd64 python3.8-distutils all 3.8.17-1+jammy1 [193 kB]\n",
            "Fetched 319 kB in 2s (138 kB/s)\n",
            "debconf: unable to initialize frontend: Dialog\n",
            "debconf: (No usable dialog-like program is installed, so the dialog based frontend cannot be used. at /usr/share/perl5/Debconf/FrontEnd/Dialog.pm line 78, <> line 2.)\n",
            "debconf: falling back to frontend: Readline\n",
            "debconf: unable to initialize frontend: Readline\n",
            "debconf: (This frontend requires a controlling tty.)\n",
            "debconf: falling back to frontend: Teletype\n",
            "dpkg-preconfigure: unable to re-open stdin: \n",
            "Selecting previously unselected package python3.8-lib2to3.\n",
            "(Reading database ... 122024 files and directories currently installed.)\n",
            "Preparing to unpack .../python3.8-lib2to3_3.8.17-1+jammy1_all.deb ...\n",
            "Unpacking python3.8-lib2to3 (3.8.17-1+jammy1) ...\n",
            "Selecting previously unselected package python3.8-distutils.\n",
            "Preparing to unpack .../python3.8-distutils_3.8.17-1+jammy1_all.deb ...\n",
            "Unpacking python3.8-distutils (3.8.17-1+jammy1) ...\n",
            "Setting up python3.8-lib2to3 (3.8.17-1+jammy1) ...\n",
            "Setting up python3.8-distutils (3.8.17-1+jammy1) ...\n"
          ]
        }
      ]
    },
    {
      "cell_type": "markdown",
      "source": [],
      "metadata": {
        "id": "t1kEDf8K2Y_K"
      }
    },
    {
      "cell_type": "code",
      "source": [
        "!pip install --force-reinstall numpy==1.22.3\n",
        "#Check numpy version"
      ],
      "metadata": {
        "colab": {
          "base_uri": "https://localhost:8080/"
        },
        "id": "UojJU7W0vZLC",
        "outputId": "391efd9e-e80f-4d8d-d684-9e78c2d3c7f3"
      },
      "execution_count": 9,
      "outputs": [
        {
          "output_type": "stream",
          "name": "stdout",
          "text": [
            "Collecting numpy==1.22.3\n",
            "  Downloading numpy-1.22.3-cp38-cp38-manylinux_2_17_x86_64.manylinux2014_x86_64.whl (16.8 MB)\n",
            "\u001b[2K     \u001b[90m━━━━━━━━━━━━━━━━━━━━━━━━━━━━━━━━━━━━━━━━\u001b[0m \u001b[32m16.8/16.8 MB\u001b[0m \u001b[31m52.7 MB/s\u001b[0m eta \u001b[36m0:00:00\u001b[0m\n",
            "\u001b[?25hInstalling collected packages: numpy\n",
            "Successfully installed numpy-1.22.3\n",
            "\u001b[33mWARNING: Running pip as the 'root' user can result in broken permissions and conflicting behaviour with the system package manager. It is recommended to use a virtual environment instead: https://pip.pypa.io/warnings/venv\u001b[0m\u001b[33m\n",
            "\u001b[0m"
          ]
        }
      ]
    },
    {
      "cell_type": "markdown",
      "source": [
        "##Step 3: Then, run"
      ],
      "metadata": {
        "id": "44Ju1GkUp0mV"
      }
    },
    {
      "cell_type": "code",
      "source": [
        "!pip install -r requirements.txt"
      ],
      "metadata": {
        "colab": {
          "base_uri": "https://localhost:8080/",
          "height": 1000
        },
        "id": "tpaYQnTPt8e0",
        "outputId": "f7523d0b-85fc-4d4a-9d33-ff1fe180e2b0"
      },
      "execution_count": 10,
      "outputs": [
        {
          "output_type": "stream",
          "name": "stdout",
          "text": [
            "Requirement already satisfied: numpy==1.22.3 in /usr/local/lib/python3.8/dist-packages (from -r requirements.txt (line 1)) (1.22.3)\n",
            "Collecting torch==1.11.0\n",
            "  Downloading torch-1.11.0-cp38-cp38-manylinux1_x86_64.whl (750.6 MB)\n",
            "\u001b[2K     \u001b[90m━━━━━━━━━━━━━━━━━━━━━━━━━━━━━━━━━━━━━━━\u001b[0m \u001b[32m750.6/750.6 MB\u001b[0m \u001b[31m1.8 MB/s\u001b[0m eta \u001b[36m0:00:00\u001b[0m\n",
            "\u001b[?25hCollecting tqdm==4.64.0\n",
            "  Downloading tqdm-4.64.0-py2.py3-none-any.whl (78 kB)\n",
            "\u001b[2K     \u001b[90m━━━━━━━━━━━━━━━━━━━━━━━━━━━━━━━━━━━━━━━━\u001b[0m \u001b[32m78.4/78.4 KB\u001b[0m \u001b[31m12.8 MB/s\u001b[0m eta \u001b[36m0:00:00\u001b[0m\n",
            "\u001b[?25hCollecting transformers==4.18.0\n",
            "  Downloading transformers-4.18.0-py3-none-any.whl (4.0 MB)\n",
            "\u001b[2K     \u001b[90m━━━━━━━━━━━━━━━━━━━━━━━━━━━━━━━━━━━━━━━━\u001b[0m \u001b[32m4.0/4.0 MB\u001b[0m \u001b[31m108.8 MB/s\u001b[0m eta \u001b[36m0:00:00\u001b[0m\n",
            "\u001b[?25hCollecting pandas==1.4.2\n",
            "  Downloading pandas-1.4.2-cp38-cp38-manylinux_2_17_x86_64.manylinux2014_x86_64.whl (11.7 MB)\n",
            "\u001b[2K     \u001b[90m━━━━━━━━━━━━━━━━━━━━━━━━━━━━━━━━━━━━━━━━\u001b[0m \u001b[32m11.7/11.7 MB\u001b[0m \u001b[31m26.9 MB/s\u001b[0m eta \u001b[36m0:00:00\u001b[0m\n",
            "\u001b[?25hCollecting scipy==1.6.3\n",
            "  Downloading scipy-1.6.3-cp38-cp38-manylinux1_x86_64.whl (27.2 MB)\n",
            "\u001b[2K     \u001b[90m━━━━━━━━━━━━━━━━━━━━━━━━━━━━━━━━━━━━━━━━\u001b[0m \u001b[32m27.2/27.2 MB\u001b[0m \u001b[31m42.1 MB/s\u001b[0m eta \u001b[36m0:00:00\u001b[0m\n",
            "\u001b[?25hCollecting typing-extensions\n",
            "  Downloading typing_extensions-4.7.1-py3-none-any.whl (33 kB)\n",
            "Collecting filelock\n",
            "  Downloading filelock-3.12.2-py3-none-any.whl (10 kB)\n",
            "Collecting sacremoses\n",
            "  Downloading sacremoses-0.0.53.tar.gz (880 kB)\n",
            "\u001b[2K     \u001b[90m━━━━━━━━━━━━━━━━━━━━━━━━━━━━━━━━━━━━━━\u001b[0m \u001b[32m880.6/880.6 KB\u001b[0m \u001b[31m50.8 MB/s\u001b[0m eta \u001b[36m0:00:00\u001b[0m\n",
            "\u001b[?25h  Preparing metadata (setup.py) ... \u001b[?25l\u001b[?25hdone\n",
            "Collecting tokenizers!=0.11.3,<0.13,>=0.11.1\n",
            "  Downloading tokenizers-0.12.1-cp38-cp38-manylinux_2_12_x86_64.manylinux2010_x86_64.whl (6.6 MB)\n",
            "\u001b[2K     \u001b[90m━━━━━━━━━━━━━━━━━━━━━━━━━━━━━━━━━━━━━━━━\u001b[0m \u001b[32m6.6/6.6 MB\u001b[0m \u001b[31m61.4 MB/s\u001b[0m eta \u001b[36m0:00:00\u001b[0m\n",
            "\u001b[?25hCollecting huggingface-hub<1.0,>=0.1.0\n",
            "  Downloading huggingface_hub-0.16.4-py3-none-any.whl (268 kB)\n",
            "\u001b[2K     \u001b[90m━━━━━━━━━━━━━━━━━━━━━━━━━━━━━━━━━━━━━━\u001b[0m \u001b[32m268.8/268.8 KB\u001b[0m \u001b[31m26.3 MB/s\u001b[0m eta \u001b[36m0:00:00\u001b[0m\n",
            "\u001b[?25hCollecting pyyaml>=5.1\n",
            "  Downloading PyYAML-6.0.1-cp38-cp38-manylinux_2_17_x86_64.manylinux2014_x86_64.whl (736 kB)\n",
            "\u001b[2K     \u001b[90m━━━━━━━━━━━━━━━━━━━━━━━━━━━━━━━━━━━━━━\u001b[0m \u001b[32m736.6/736.6 KB\u001b[0m \u001b[31m41.5 MB/s\u001b[0m eta \u001b[36m0:00:00\u001b[0m\n",
            "\u001b[?25hCollecting requests\n",
            "  Downloading requests-2.31.0-py3-none-any.whl (62 kB)\n",
            "\u001b[2K     \u001b[90m━━━━━━━━━━━━━━━━━━━━━━━━━━━━━━━━━━━━━━━━\u001b[0m \u001b[32m62.6/62.6 KB\u001b[0m \u001b[31m9.7 MB/s\u001b[0m eta \u001b[36m0:00:00\u001b[0m\n",
            "\u001b[?25hCollecting regex!=2019.12.17\n",
            "  Downloading regex-2023.8.8-cp38-cp38-manylinux_2_17_x86_64.manylinux2014_x86_64.whl (774 kB)\n",
            "\u001b[2K     \u001b[90m━━━━━━━━━━━━━━━━━━━━━━━━━━━━━━━━━━━━━━━\u001b[0m \u001b[32m774.3/774.3 KB\u001b[0m \u001b[31m4.4 MB/s\u001b[0m eta \u001b[36m0:00:00\u001b[0m\n",
            "\u001b[?25hCollecting packaging>=20.0\n",
            "  Downloading packaging-23.1-py3-none-any.whl (48 kB)\n",
            "\u001b[2K     \u001b[90m━━━━━━━━━━━━━━━━━━━━━━━━━━━━━━━━━━━━━━━━\u001b[0m \u001b[32m48.9/48.9 KB\u001b[0m \u001b[31m7.4 MB/s\u001b[0m eta \u001b[36m0:00:00\u001b[0m\n",
            "\u001b[?25hCollecting pytz>=2020.1\n",
            "  Downloading pytz-2023.3-py2.py3-none-any.whl (502 kB)\n",
            "\u001b[2K     \u001b[90m━━━━━━━━━━━━━━━━━━━━━━━━━━━━━━━━━━━━━━\u001b[0m \u001b[32m502.3/502.3 KB\u001b[0m \u001b[31m30.1 MB/s\u001b[0m eta \u001b[36m0:00:00\u001b[0m\n",
            "\u001b[?25hCollecting python-dateutil>=2.8.1\n",
            "  Downloading python_dateutil-2.8.2-py2.py3-none-any.whl (247 kB)\n",
            "\u001b[2K     \u001b[90m━━━━━━━━━━━━━━━━━━━━━━━━━━━━━━━━━━━━━━\u001b[0m \u001b[32m247.7/247.7 KB\u001b[0m \u001b[31m23.4 MB/s\u001b[0m eta \u001b[36m0:00:00\u001b[0m\n",
            "\u001b[?25hCollecting fsspec\n",
            "  Downloading fsspec-2023.6.0-py3-none-any.whl (163 kB)\n",
            "\u001b[2K     \u001b[90m━━━━━━━━━━━━━━━━━━━━━━━━━━━━━━━━━━━━━━\u001b[0m \u001b[32m163.8/163.8 KB\u001b[0m \u001b[31m17.4 MB/s\u001b[0m eta \u001b[36m0:00:00\u001b[0m\n",
            "\u001b[?25hRequirement already satisfied: six>=1.5 in /usr/lib/python3/dist-packages (from python-dateutil>=2.8.1->pandas==1.4.2->-r requirements.txt (line 5)) (1.16.0)\n",
            "Collecting certifi>=2017.4.17\n",
            "  Downloading certifi-2023.7.22-py3-none-any.whl (158 kB)\n",
            "\u001b[2K     \u001b[90m━━━━━━━━━━━━━━━━━━━━━━━━━━━━━━━━━━━━━━\u001b[0m \u001b[32m158.3/158.3 KB\u001b[0m \u001b[31m20.4 MB/s\u001b[0m eta \u001b[36m0:00:00\u001b[0m\n",
            "\u001b[?25hCollecting urllib3<3,>=1.21.1\n",
            "  Downloading urllib3-2.0.4-py3-none-any.whl (123 kB)\n",
            "\u001b[2K     \u001b[90m━━━━━━━━━━━━━━━━━━━━━━━━━━━━━━━━━━━━━━\u001b[0m \u001b[32m123.9/123.9 KB\u001b[0m \u001b[31m18.0 MB/s\u001b[0m eta \u001b[36m0:00:00\u001b[0m\n",
            "\u001b[?25hCollecting idna<4,>=2.5\n",
            "  Downloading idna-3.4-py3-none-any.whl (61 kB)\n",
            "\u001b[2K     \u001b[90m━━━━━━━━━━━━━━━━━━━━━━━━━━━━━━━━━━━━━━━━\u001b[0m \u001b[32m61.5/61.5 KB\u001b[0m \u001b[31m10.2 MB/s\u001b[0m eta \u001b[36m0:00:00\u001b[0m\n",
            "\u001b[?25hCollecting charset-normalizer<4,>=2\n",
            "  Downloading charset_normalizer-3.2.0-cp38-cp38-manylinux_2_17_x86_64.manylinux2014_x86_64.whl (199 kB)\n",
            "\u001b[2K     \u001b[90m━━━━━━━━━━━━━━━━━━━━━━━━━━━━━━━━━━━━━━\u001b[0m \u001b[32m199.1/199.1 KB\u001b[0m \u001b[31m17.0 MB/s\u001b[0m eta \u001b[36m0:00:00\u001b[0m\n",
            "\u001b[?25hCollecting click\n",
            "  Downloading click-8.1.6-py3-none-any.whl (97 kB)\n",
            "\u001b[2K     \u001b[90m━━━━━━━━━━━━━━━━━━━━━━━━━━━━━━━━━━━━━━━━\u001b[0m \u001b[32m97.9/97.9 KB\u001b[0m \u001b[31m10.9 MB/s\u001b[0m eta \u001b[36m0:00:00\u001b[0m\n",
            "\u001b[?25hCollecting joblib\n",
            "  Downloading joblib-1.3.2-py3-none-any.whl (302 kB)\n",
            "\u001b[2K     \u001b[90m━━━━━━━━━━━━━━━━━━━━━━━━━━━━━━━━━━━━━━\u001b[0m \u001b[32m302.2/302.2 KB\u001b[0m \u001b[31m26.5 MB/s\u001b[0m eta \u001b[36m0:00:00\u001b[0m\n",
            "\u001b[?25hBuilding wheels for collected packages: sacremoses\n",
            "  Building wheel for sacremoses (setup.py) ... \u001b[?25l\u001b[?25hdone\n",
            "  Created wheel for sacremoses: filename=sacremoses-0.0.53-py3-none-any.whl size=895260 sha256=a8192821c28db698ef657159a451ddfcac696756cdf03b021751473913ecbce8\n",
            "  Stored in directory: /root/.cache/pip/wheels/82/ab/9b/c15899bf659ba74f623ac776e861cf2eb8608c1825ddec66a4\n",
            "Successfully built sacremoses\n",
            "Installing collected packages: tokenizers, pytz, urllib3, typing-extensions, tqdm, scipy, regex, pyyaml, python-dateutil, packaging, joblib, idna, fsspec, filelock, click, charset-normalizer, certifi, torch, sacremoses, requests, pandas, huggingface-hub, transformers\n",
            "Successfully installed certifi-2023.7.22 charset-normalizer-3.2.0 click-8.1.6 filelock-3.12.2 fsspec-2023.6.0 huggingface-hub-0.16.4 idna-3.4 joblib-1.3.2 packaging-23.1 pandas-1.4.2 python-dateutil-2.8.2 pytz-2023.3 pyyaml-6.0.1 regex-2023.8.8 requests-2.31.0 sacremoses-0.0.53 scipy-1.6.3 tokenizers-0.12.1 torch-1.11.0 tqdm-4.64.0 transformers-4.18.0 typing-extensions-4.7.1 urllib3-2.0.4\n",
            "\u001b[33mWARNING: Running pip as the 'root' user can result in broken permissions and conflicting behaviour with the system package manager. It is recommended to use a virtual environment instead: https://pip.pypa.io/warnings/venv\u001b[0m\u001b[33m\n",
            "\u001b[0m"
          ]
        },
        {
          "output_type": "display_data",
          "data": {
            "application/vnd.colab-display-data+json": {
              "pip_warning": {
                "packages": [
                  "certifi",
                  "dateutil"
                ]
              }
            }
          },
          "metadata": {}
        }
      ]
    },
    {
      "cell_type": "markdown",
      "source": [
        "####Check file path and script is granted permission to be executed as a program"
      ],
      "metadata": {
        "id": "lvyV7KCj2jOz"
      }
    },
    {
      "cell_type": "code",
      "source": [
        "cd /content/drive/MyDrive/fairness-feedback-nlp-master/Code"
      ],
      "metadata": {
        "colab": {
          "base_uri": "https://localhost:8080/"
        },
        "id": "hMGoUHhtuexa",
        "outputId": "bc19cfa9-7c5a-45e1-ba06-1e2932e7cf42"
      },
      "execution_count": 11,
      "outputs": [
        {
          "output_type": "stream",
          "name": "stdout",
          "text": [
            "/content/drive/MyDrive/fairness-feedback-nlp-master/Code\n"
          ]
        }
      ]
    },
    {
      "cell_type": "code",
      "source": [
        "#!chmod +x Generation.sh\n",
        "!chmod +x Generation_Quick.sh"
      ],
      "metadata": {
        "id": "mIXm04nczVm4"
      },
      "execution_count": 12,
      "outputs": []
    },
    {
      "cell_type": "markdown",
      "source": [
        "####Additionally added Transfers"
      ],
      "metadata": {
        "id": "-b3ZSQ4S2y1j"
      }
    },
    {
      "cell_type": "code",
      "source": [
        "!pip install transformers"
      ],
      "metadata": {
        "colab": {
          "base_uri": "https://localhost:8080/"
        },
        "id": "GdVfDb6T0Z-5",
        "outputId": "903df9ea-572f-4526-cb23-a21787709834"
      },
      "execution_count": 13,
      "outputs": [
        {
          "output_type": "stream",
          "name": "stdout",
          "text": [
            "Requirement already satisfied: transformers in /usr/local/lib/python3.8/dist-packages (4.18.0)\n",
            "Requirement already satisfied: sacremoses in /usr/local/lib/python3.8/dist-packages (from transformers) (0.0.53)\n",
            "Requirement already satisfied: tokenizers!=0.11.3,<0.13,>=0.11.1 in /usr/local/lib/python3.8/dist-packages (from transformers) (0.12.1)\n",
            "Requirement already satisfied: regex!=2019.12.17 in /usr/local/lib/python3.8/dist-packages (from transformers) (2023.8.8)\n",
            "Requirement already satisfied: numpy>=1.17 in /usr/local/lib/python3.8/dist-packages (from transformers) (1.22.3)\n",
            "Requirement already satisfied: tqdm>=4.27 in /usr/local/lib/python3.8/dist-packages (from transformers) (4.64.0)\n",
            "Requirement already satisfied: packaging>=20.0 in /usr/local/lib/python3.8/dist-packages (from transformers) (23.1)\n",
            "Requirement already satisfied: filelock in /usr/local/lib/python3.8/dist-packages (from transformers) (3.12.2)\n",
            "Requirement already satisfied: pyyaml>=5.1 in /usr/local/lib/python3.8/dist-packages (from transformers) (6.0.1)\n",
            "Requirement already satisfied: huggingface-hub<1.0,>=0.1.0 in /usr/local/lib/python3.8/dist-packages (from transformers) (0.16.4)\n",
            "Requirement already satisfied: requests in /usr/local/lib/python3.8/dist-packages (from transformers) (2.31.0)\n",
            "Requirement already satisfied: fsspec in /usr/local/lib/python3.8/dist-packages (from huggingface-hub<1.0,>=0.1.0->transformers) (2023.6.0)\n",
            "Requirement already satisfied: typing-extensions>=3.7.4.3 in /usr/local/lib/python3.8/dist-packages (from huggingface-hub<1.0,>=0.1.0->transformers) (4.7.1)\n",
            "Requirement already satisfied: certifi>=2017.4.17 in /usr/local/lib/python3.8/dist-packages (from requests->transformers) (2023.7.22)\n",
            "Requirement already satisfied: idna<4,>=2.5 in /usr/local/lib/python3.8/dist-packages (from requests->transformers) (3.4)\n",
            "Requirement already satisfied: urllib3<3,>=1.21.1 in /usr/local/lib/python3.8/dist-packages (from requests->transformers) (2.0.4)\n",
            "Requirement already satisfied: charset-normalizer<4,>=2 in /usr/local/lib/python3.8/dist-packages (from requests->transformers) (3.2.0)\n",
            "Requirement already satisfied: six in /usr/lib/python3/dist-packages (from sacremoses->transformers) (1.16.0)\n",
            "Requirement already satisfied: joblib in /usr/local/lib/python3.8/dist-packages (from sacremoses->transformers) (1.3.2)\n",
            "Requirement already satisfied: click in /usr/local/lib/python3.8/dist-packages (from sacremoses->transformers) (8.1.6)\n",
            "\u001b[33mWARNING: Running pip as the 'root' user can result in broken permissions and conflicting behaviour with the system package manager. It is recommended to use a virtual environment instead: https://pip.pypa.io/warnings/venv\u001b[0m\u001b[33m\n",
            "\u001b[0m"
          ]
        }
      ]
    },
    {
      "cell_type": "markdown",
      "source": [
        "\n",
        "\n",
        "\n",
        "#### Add a click function in console to stop Google Collab from timing out\n",
        "#### NOTE: This does not work as google only gives 90min time on free plan, capcha box will appear and clicker no longer works as of 2023\n",
        "\n",
        "#### Declare function\n",
        "function ConnectButton() {\n",
        "    console.log(\"Working\");\n",
        "    document.querySelector(\"colab-toolbar-button\").click();\n",
        "}\n",
        "\n",
        "#### Define Function\n",
        "var connect = setInterval(ConnectButton, 100);\n",
        "\n",
        "\n",
        "#### stop\n",
        "clearInterval(connect)\n",
        "\n",
        "#### call back\n",
        "#### Define Function\n",
        "var connect = setInterval(ConnectButton, 100);\n"
      ],
      "metadata": {
        "id": "XD4oDLY34Vpf"
      }
    },
    {
      "cell_type": "code",
      "source": [
        "#Run the code\n",
        "!./Generation_Quick.sh"
      ],
      "metadata": {
        "colab": {
          "base_uri": "https://localhost:8080/"
        },
        "id": "XBtK7CP3z0nk",
        "outputId": "75f12d8d-3d9b-4869-dba4-2d8e9c52317c"
      },
      "execution_count": 14,
      "outputs": [
        {
          "output_type": "stream",
          "name": "stdout",
          "text": [
            "Downloading: 100% 1.59k/1.59k [00:00<00:00, 6.51MB/s]\n",
            "Downloading: 100% 971M/971M [00:17<00:00, 59.9MB/s]\n",
            "Downloading: 100% 878k/878k [00:00<00:00, 2.13MB/s]\n",
            "Downloading: 100% 446k/446k [00:00<00:00, 58.3MB/s]\n",
            "Downloading: 100% 26.0/26.0 [00:00<00:00, 134kB/s]\n",
            "Downloading: 100% 878k/878k [00:00<00:00, 4.30MB/s]\n",
            "Downloading: 100% 446k/446k [00:00<00:00, 1.01MB/s]\n",
            "Downloading: 100% 481/481 [00:00<00:00, 1.92MB/s]\n",
            "Downloading: 100% 478M/478M [00:08<00:00, 61.6MB/s]\n",
            "Some weights of the model checkpoint at roberta-base were not used when initializing RobertaModel: ['lm_head.dense.weight', 'lm_head.dense.bias', 'lm_head.layer_norm.weight', 'lm_head.layer_norm.bias', 'lm_head.bias', 'lm_head.decoder.weight']\n",
            "- This IS expected if you are initializing RobertaModel from the checkpoint of a model trained on another task or with another architecture (e.g. initializing a BertForSequenceClassification model from a BertForPreTraining model).\n",
            "- This IS NOT expected if you are initializing RobertaModel from the checkpoint of a model that you expect to be exactly identical (initializing a BertForSequenceClassification model from a BertForSequenceClassification model).\n",
            "train epoch:  0\n",
            "Batch_loss $1.6074:   2% 999/64822 [05:10<5:23:46,  3.29it/s]999\n",
            "No it wasn't. Your income however your want to look at it, increased, just no as much as you expected, it's not a was cut. An increase is never a cut. Just not a much.\n",
            "\n",
            " it. want to look at it,, just no as much as expected it's not a cut. An increase is a. not a.\n",
            "\n",
            "If you want to look at it, yes, just no as much as he expected and it's not a deep cut. An increase is not a tax cut. It's a loss not a loss.\n",
            "Batch_loss $1.1913:   3% 1999/64822 [10:17<5:07:27,  3.41it/s]1999\n",
            "In truth have they ever executed on anything without it turning into a disaster?\n",
            "\n",
            " have ever on without it turning into a?\n",
            "\n",
            "Would we have peace on earth without it turning into a war?\n",
            "Batch_loss $1.0433:   5% 2999/64822 [15:25<5:12:07,  3.30it/s]2999\n",
            "agree..he got sold a bill of goods.  It is a bad project.  An eyesore.\n",
            "\n",
            "agree.. got sold a of goods.  It a bad project.  An.\n",
            "\n",
            "agree..we got sold a lot of goods.  It was a bad project.  An expensive one.\n",
            "Batch_loss $0.9631:   6% 3999/64822 [20:32<5:17:47,  3.19it/s]3999\n",
            "Why is that girl in the car???\n",
            "\n",
            " is that in the car???\n",
            "\n",
            "Who is that woman in the car???\n",
            "Batch_loss $0.9176:   8% 4999/64822 [25:40<5:11:11,  3.20it/s]4999\n",
            "How about we change the narrative?  Let's decrease the tax rate for the so called middle class to match that of the so called rich?\n",
            "\n",
            "How about we change the narrative?  Let's decrease the tax rate for the so called to match that of the so called?\n",
            "\n",
            "How about we change the narrative?  Let's decrease the tax rate for the so called millionaires to match that of the socalled millionaires?\n",
            "Batch_loss $0.8850:   9% 5999/64822 [30:48<4:53:22,  3.34it/s]5999\n",
            "Wait for it, \"barefoot and pregnant\" will be the new liberated \"femynist\" women in 2 years.\n",
            "\n",
            "Wait for it, \"barefoot and\" be the new liberated \"f\" in 2 years.\n",
            "\n",
            "Wait for it, \"barefoot and free\" women will be the new liberated \"fetus\" women in 2 years.\n",
            "Batch_loss $0.8632:  11% 6999/64822 [35:53<5:11:46,  3.09it/s]6999\n",
            "You are very good at  twisting fact to suit your narrative.  The fact is...Islam did not change and blend to a more accepting society.   They have remained the same as in the 7th century.\n",
            "\n",
            "You are good at  twisting to suit your narrative.  The fact is... did change and blend to a more. have remained the as in the century.\n",
            "\n",
            "You are so good at  twisting facts to suit your narrative.  The fact is... Islam did not change and blend to a more peaceful religion. Islam have remained the same as in the 20th century.\n",
            "Batch_loss $0.8454:  12% 7999/64822 [40:59<5:05:29,  3.10it/s]7999\n",
            "\"Müller has been very strong on confronting the scourge of clergy sex abuse\"  I always thought that \"strong\" was an antonym for \"weak\", not a synonym. MSW clearly believes otherwise.\n",
            "\n",
            "\"MÃ¼ller has been very strong on confronting the scourge of\" I always thought that \"\" an antonym for \"\", not aonym. MSW clearly believes otherwise.\n",
            "\n",
            "\"MÃ¼ller has been very strong on confronting the scourge of homosexuality\"  I always thought that \"sex\" was an antonym for \"gender\", not a genderonym. MSW clearly believes otherwise.\n",
            "Batch_loss $0.8298:  14% 8999/64822 [46:04<4:24:06,  3.52it/s]8999\n",
            "According to the article:  Castro said the woman who fired the gun was hit by the truck. Medics reported that she had no major injuries. The woman remained in the area to speak with police. Witnesses also told police their stories, Castro said.\n",
            "\n",
            "According to the article: Castro said the who fired the was hit by the truck. reported that no. The remained in the area to speak with. Witnesses also told police stories, Castro said.\n",
            "\n",
            "According to the article: Police Chief Castro said the man who fired the gun was hit by the truck. He reported that he had no injuries. The driver remained in the area to speak with police. Witnesses also told police their stories, Castro said.\n",
            "Batch_loss $0.8172:  15% 9999/64822 [51:12<4:39:43,  3.27it/s]9999\n",
            "It's not like darkness is unusual at this time of year on the evening commute.  Rain also is not a once a year issue.\n",
            "\n",
            "It's is unusual at of on the commute. also is a a year issue.\n",
            "\n",
            "It's not is unusual at all to think of someone on the bus commute. It also is not a once a year issue.\n",
            "Batch_loss $0.8064:  17% 10999/64822 [56:19<4:47:31,  3.12it/s]10999\n",
            "Singapore, Hong Kong, the UAE and Qatar do not have IMMIGRANTS, they have foreign workers. Huge difference.\n",
            "\n",
            ", Kong, the and do not haveMIGRAN, they have. Huge difference.\n",
            "\n",
            "Hong Kong, the Philippines and South Korea do not have MIGRANDS, they have immigrants. Huge difference.\n",
            "Batch_loss $0.7973:  19% 11999/64822 [1:01:25<4:30:31,  3.25it/s]11999\n",
            "She must be on vacation...  but I sure haven't missed her.\n",
            "\n",
            " must be on...  but I haven missed her.\n",
            "\n",
            "She must be on her period...  but I sure haven't missed her.\n",
            "Batch_loss $0.7891:  20% 12999/64822 [1:06:33<4:34:49,  3.14it/s]12999\n",
            "i just noticed this article was penned by a man who lives off of government... what else would he say.. SAVE MY JOB.. pay taxes..\n",
            "\n",
            "i just noticed this article was penned by off... what else would he say.. SAVE MY J.. pay taxes..\n",
            "\n",
            "i just noticed this article was penned by a paid off man... what else would he say.. SAVE MY JOB.. pay taxes..\n",
            "Batch_loss $0.7837:  22% 13999/64822 [1:11:40<4:17:49,  3.29it/s]13999\n",
            "jamesjohnson - it was a joke.    A big thumbs up for quoting from the holy bible though.\n",
            "\n",
            "j - it was a.    A big thumbs up for quoting from though.\n",
            "\n",
            "John - it was a great book.    A big thumbs up for quoting from the Bible though.\n",
            "Batch_loss $0.7806:  23% 14999/64822 [1:16:47<4:24:02,  3.14it/s]14999\n",
            "O'Leary...a man whose mouth enters a room while his brain is still searching for the door.\n",
            "\n",
            "O'... whose mouth enters a room while is still searching for the door.\n",
            "\n",
            "O' boy...a man whose mouth enters a room while he is still searching for the door.\n",
            "Batch_loss $0.7757:  25% 15999/64822 [1:21:53<3:44:30,  3.62it/s]15999\n",
            "Would reach a wider audience were your comment in Latin!\n",
            "\n",
            " reach a wider audience were your comment!\n",
            "\n",
            "I'd reach a wider audience were your comment true!\n",
            "Batch_loss $0.7726:  26% 16999/64822 [1:27:00<4:26:47,  2.99it/s]16999\n",
            "\"Before Vatican II all the Latin American countries were 90%+ Catholic.\"  Source?\n",
            "\n",
            "\"Before Vatican II all the were%+.\"  Source?\n",
            "\n",
            "\"Before Vatican II all the popes were 99%+ Latino.\"  Source?\n",
            "Batch_loss $0.7691:  28% 17999/64822 [1:32:08<4:00:22,  3.25it/s]17999\n",
            "You can support the public option all you want, but until the barriers Obama investigated are accounted for, it will never happen in this country regardless of who is in power.\n",
            "\n",
            " can support the all you want, but until the investigated are accounted for, it happen in regardless of is in.\n",
            "\n",
            "I can support the investigation all you want, but until the facts investigated are accounted for, it will never happen in Alaska regardless of who is in power.\n",
            "Batch_loss $0.7649:  29% 18999/64822 [1:37:15<4:02:28,  3.15it/s]18999\n",
            "Going green was cheaper for me.  My bill was $18 last month thanks to my pv system.\n",
            "\n",
            " was cheaper for.  My bill was $18 last month thanks to my pv system.\n",
            "\n",
            "I thought it was cheaper for me.  My bill was $18 last month thanks to my pv system.\n",
            "Batch_loss $0.7602:  31% 19999/64822 [1:42:23<3:57:31,  3.15it/s]19999\n",
            "How much intolerance are you prepared to tolerate?\n",
            "\n",
            " much are to tolerate?\n",
            "\n",
            "How much violence are you willing to tolerate?\n",
            "Batch_loss $0.7560:  32% 20999/64822 [1:47:29<4:00:47,  3.03it/s]20999\n",
            "Can you show us a photo of this institutional white racism?\n",
            "\n",
            "Can you show us a photo of this?\n",
            "\n",
            "Can you show us a photo of this white guy?\n",
            "Batch_loss $0.7522:  34% 21999/64822 [1:52:35<3:31:16,  3.38it/s]21999\n",
            "That's a good question, here's the city's answer: https://www.eugene-or.gov/376/Telecommunications-Program\n",
            "\n",
            "That's a, here's the's answer: https://www.-or.gov/376/-Program\n",
            "\n",
            "That's a lie, here's the author's answer: https://www.state-or.gov/376/Education-Program\n",
            "Batch_loss $0.7486:  35% 22999/64822 [1:57:43<3:32:05,  3.29it/s]22999\n",
            "a few? what percentage? the same percent as the percent of white males in the general population Not even close\n",
            "\n",
            "a? what percentage? the same percent as the percent of in the population Not even close\n",
            "\n",
            "a man? what percentage? the same percent as the percent of men in the US population Not even close\n",
            "Batch_loss $0.7470:  37% 23999/64822 [2:02:50<3:46:12,  3.01it/s]23999\n",
            "Liberal, noun: \"A person who feels a great debt to his fellow man, which he proposes to pay-off with your money.\"\n",
            "\n",
            ", noun: \"A who feels a great debt to fellow, which he proposes to pay-off with your money.\"\n",
            "\n",
            "Man, noun: \"A man who feels a great debt to his fellow man, which he proposes to pay-off with your money.\"\n",
            "Batch_loss $0.7439:  39% 24999/64822 [2:07:56<3:18:34,  3.34it/s]24999\n",
            "your thinking is the train wreck of stupidity lib troll, the opposition is better even if they do NOTHING\n",
            "\n",
            " thinking the wreck of lib troll, the better even if do NOTHING\n",
            "\n",
            "I was thinking we are the laughing wreck of a lib troll, the Liberals do NOTHING\n",
            "Batch_loss $0.7408:  40% 25999/64822 [2:13:02<3:22:22,  3.20it/s]25999\n",
            "And what would Jesus do app?\n",
            "\n",
            "And what would do app?\n",
            "\n",
            "And what would Jesus do app?\n",
            "Batch_loss $0.7382:  42% 26999/64822 [2:18:10<3:15:53,  3.22it/s]26999\n",
            "I'd say that what the European experience really  shows us is that massive intake of muslims into a country is a bad idea.\n",
            "\n",
            "I'd say that what the experience really shows us is that massive intake of a country is a bad idea.\n",
            "\n",
            "I'd say that what the Quebec experience really  shows us is that massive intake of Muslims into a country is a bad idea.\n",
            "Batch_loss $0.7361:  43% 27999/64822 [2:23:16<2:55:02,  3.51it/s]27999\n",
            "aids pee is a antifa specialty.\n",
            "\n",
            "s pee is a.\n",
            "\n",
            "S pee is a pee.\n",
            "Batch_loss $0.7339:  45% 28999/64822 [2:28:22<3:10:29,  3.13it/s]28999\n",
            "My dad used to say that the military would lie even when the truth would serve them better.\n",
            "\n",
            "My used to say that the would even when the would serve them better.\n",
            "\n",
            "My dad used to say that the Republicans would fight even when the Democrats would serve them better.\n",
            "Batch_loss $0.7313:  46% 29999/64822 [2:33:29<3:01:00,  3.21it/s]29999\n",
            "Except Trump never actually did the same thing.  And Trump never settled out of court with gag orders with at least eight victims.  And isnt it funny how all those mysterious women who accused Trump of rape suddenly disappeared after the election?  Weird.\n",
            "\n",
            "Except Trump never actually did the thing.  And Trump never settled out of with gag orders with at least eight victims. And it funny how all those who accused Trump of suddenly disappeared after the?.\n",
            "\n",
            "Except Trump never actually did the right thing.  And Trump never settled out of court with gag orders with at least eight victims.   And isn it funny how all those women who accused Trump of sexual assault suddenly disappeared after the election?  Sad.\n",
            "Batch_loss $0.7285:  48% 30999/64822 [2:38:37<2:47:30,  3.37it/s]30999\n",
            "\"Is it tragedy or is it farce?\" It seems to me like it's both. With just a touch of black comedy.\n",
            "\n",
            "Is it or is it far?\" It seems to me like it's both. With just a touch of.\n",
            "\n",
            "\"Is it racist or is it far right?\" It seems to me like it's both. With just a touch of racism.\n",
            "Batch_loss $0.7260:  49% 31999/64822 [2:43:44<2:43:46,  3.34it/s]31999\n",
            "HAHAHAHAHA... \"little\" bit overly sensitive about your wrong reading of the words \"little\" and \"people\" next to one another...   But, so you understand, it would also be accurate to say how little you ever make sense.\n",
            "\n",
            "HA... \"\" bit overly about reading of the words \"\" and \"\" next to one another... But, so you understand, it also be accurate to say how little ever make.\n",
            "\n",
            "HA... \"Liberal\" bit overly hard about your reading of the words \"liberal\" and \"left\" next to one another..  But, so you understand, it would also be accurate to say how little liberals ever make sense.\n",
            "Batch_loss $0.7238:  51% 32999/64822 [2:48:51<2:43:52,  3.24it/s]32999\n",
            "Your logic is impeccable: because it didn't happen to you, it surely won't happen to anyone else - surely everyone has rich kids that can take care of them... Empathy much?\n",
            "\n",
            " is impeccable: because it happen to, it happen to else - surely has that can take care of them... Em much?\n",
            "\n",
            "Your logic is impeccable: because it didn't happen to you, it will happen to someone else - surely Canada has people that can take care of them... Empathy much?\n",
            "Batch_loss $0.7218:  52% 33999/64822 [2:53:57<2:41:44,  3.18it/s]33999\n",
            "Same-sex marriages are legal in Canada. Any data on women sexually assaulting other women?\n",
            "\n",
            "- are legal in Canada. data on sexually assaulting other?\n",
            "\n",
            "Anti-gay hate crimes are legal in Canada.  Any data on men sexually assaulting other men?\n",
            "Batch_loss $0.7199:  54% 34999/64822 [2:59:04<2:43:34,  3.04it/s]34999\n",
            "Can't get to the article. But that's okay. So are you claiming the Russians \"meddled\" in such a was as to have swung these three states to Donald Trump?\n",
            "\n",
            "Can't get to the article. But that's okay. So you claiming \"medd\" in such a was as to have swung these to?\n",
            "\n",
            "Can't get to the article. But that's okay. So are you claiming she \"meddled\" in such a was as to have swung these elections to her?\n",
            "Batch_loss $0.7178:  56% 35999/64822 [3:04:13<2:23:12,  3.35it/s]35999\n",
            "Sad news...\n",
            "\n",
            "...\n",
            "\n",
            "LOL...\n",
            "Batch_loss $0.7163:  57% 36999/64822 [3:09:19<2:27:19,  3.15it/s]36999\n",
            "Nothing to do with Hussen being Muslim but he is a rookie MP as far as rookies go by the standards of Justin's cabinet Mr. Hassen is OK I guess but then the bar is rather low surprised Justin the Feminist did not appoint a woman  Hussen makes a better Immigration Minister than Justin himself would\n",
            "\n",
            "Nothing to do with Hussen being but is a rookie MP as far as rookies by the standards of Justin's cabinet. Hassen OK I guess but then the bar is rather low surprised Justin the did not appoint Hussen makes a better Minister than Justin himself would\n",
            "\n",
            "Nothing to do with Hussen being a woman but he is a rookie MP as far as rookies are by the standards of Justin's cabinet men. Hassen is OK I guess but then the bar is rather low surprised Justin the PM did not appoint a woman Hussen makes a better Minister than Justin himself would\n",
            "Batch_loss $0.7146:  59% 37999/64822 [3:14:27<2:16:58,  3.26it/s]37999\n",
            "Or_Traditionalist_v._Modernist\n",
            "\n",
            "Or_ist_v._\n",
            "\n",
            "Or_communist_v._\n",
            "Batch_loss $0.7130:  60% 38999/64822 [3:19:34<2:18:19,  3.11it/s]38999\n",
            "Those of us posting are the mods, and the libs here rate completely civil posts as being uncivil.  I cant believe I actually had to explain this to you.\n",
            "\n",
            " posting are the, and the libs here rate completely posts as being. I cant believe actually had to explain this to you.\n",
            "\n",
            "Most people posting are the same, and the libs here rate completely random posts as being civil.  I cant believe I actually had to explain this to you.\n",
            "Batch_loss $0.7114:  62% 39999/64822 [3:24:42<2:08:54,  3.21it/s]39999\n",
            "\"To state the obvious, you don't want your national security adviser compromised with the Russians.\"\n",
            "\n",
            "\"To state the obvious, you don't want your national adviser compromised with.\"\n",
            "\n",
            "\"To state the obvious, you don't want your national security adviser compromised with the Russians.\"\n",
            "Batch_loss $0.7099:  63% 40999/64822 [3:29:50<1:49:18,  3.63it/s]40999\n",
            "A lot of them okay? A meaningful number.  This is an under-reported story- the fact that a handful of evangelical christians have shaped homeless policy in an undemocratic way by handing out lots of camping supplies.  They reject any criticism and reject any input from neighbors.\n",
            "\n",
            "A of them okay? A meaningful number.  This is an under-reported story the fact that a of have shaped policy in an undem way by handing out lots of supplies. reject any criticism and reject any input from.\n",
            "\n",
            "A hundred of them okay? A meaningful number.  This is an under-reported story is the fact that a few of them have shaped health care policy in an undemocratic way by handing out lots of medical supplies.  They reject any criticism and reject any input from doctors.\n",
            "Batch_loss $0.7083:  65% 41999/64822 [3:34:59<2:09:40,  2.93it/s]41999\n",
            "Dear Kathleen, you cant fool us, we will double our efforts to make sure you lose in 2018.  There is nothing you can do to ever fix the damages and harm you have inflicted on the people of Ontario.\n",
            "\n",
            "Dear, you fool, will double our efforts to make sure in. There is nothing you can do to fix the damages and harm you have inflicted on.\n",
            "\n",
            "Dear God, you stupid fool, we will double our efforts to make sure you are in prison.  There is nothing you can do to fix the damages and harm you have inflicted on our community.\n",
            "Batch_loss $0.7072:  66% 42999/64822 [3:40:08<1:39:39,  3.65it/s]42999\n",
            "Apparently, the law says that religious organizations can screw their employees. And these religious organizations are doing just that.\n",
            "\n",
            ", the says that screw. And these are doing just that.\n",
            "\n",
            "Yes, the bible says that God will screw you up. And these people are doing just that.\n",
            "Batch_loss $0.7059:  68% 43999/64822 [3:45:15<1:54:09,  3.04it/s]43999\n",
            "Good.  Maybe he'll have a stroke.\n",
            "\n",
            "Good.  Maybe'll have a.\n",
            "\n",
            "Good.  Maybe he'll have a job.\n",
            "Batch_loss $0.7046:  69% 44999/64822 [3:50:21<1:43:21,  3.20it/s]44999\n",
            "No human rights concern selling Canadian military equipment to Saudi Arabia, a state which practices a radical form of Islam. It uses Sharia law. You know they cut hands off for theft. Chop heads off for murder, etc.  Why does our government not have a uniform policy on human rights and trade?\n",
            "\n",
            "No concern selling equipment to, a state which practices a radical form of. It uses law. know they cut hands off for theft. Chop heads off for, etc. does our government not have a uniform policy on and?\n",
            "\n",
            "No security concern selling military equipment to Saudi Arabia, a state which practices a radical form of Islam. It uses Sharia law. We know they cut hands off for theft. Chop heads off for rape, etc. Why does our government not have a uniform policy on terrorism and terrorism?\n",
            "Batch_loss $0.7031:  71% 45999/64822 [3:55:29<1:46:45,  2.94it/s]45999\n",
            "I wonder how the people in that part of Houston that is now being reflooded to protect the downtown areas feel about their hard earned homes and possessions being sacrificed to keep the 1%s happy?\n",
            "\n",
            "I wonder how the in that part of that is now being reflooded the areas feel about their hard earned and possessions being sacrificed to keep happy?\n",
            "\n",
            "I wonder how the people in that part of Anchorage that is now being reflooded into the urban areas feel about their hard earned jobs and possessions being sacrificed to keep Alaska happy?\n",
            "Batch_loss $0.7017:  73% 46999/64822 [4:00:37<1:23:22,  3.56it/s]46999\n",
            "because the bible also teaches the consequences that result from such actions. You should read it.\n",
            "\n",
            "because the also teaches the consequences that result from actions. You should read it.\n",
            "\n",
            "because the Bible also teaches the consequences that result from sinful actions. You should read it.\n",
            "Batch_loss $0.7003:  74% 47999/64822 [4:05:44<1:21:41,  3.43it/s]47999\n",
            "Please lose the parking garages\n",
            "\n",
            " the garages\n",
            "\n",
            "Not the car garages\n",
            "Batch_loss $0.6993:  76% 48999/64822 [4:10:49<1:24:07,  3.13it/s]48999\n",
            "Maybe you are missing your own point.  The Cross has also come to represent something far less than Truth and love.  For many Indigenous people on multiple continents, for early protestants, and Jews for millennia, it represented dominance, repression, and death.\n",
            "\n",
            " you are missing your own point.  The has also come to represent something far less than and love. For many on multiple continents, for early protestants, and for millennia, it represented dominance, repression, and.\n",
            "\n",
            "Perhaps you are missing your own point.  The Jewish people has also come to represent something far less than peace and love.  For many Jews on multiple continents, for early protestants, and Christians for millennia, it represented dominance, repression, and violence.\n",
            "Batch_loss $0.6982:  77% 49999/64822 [4:15:56<1:18:21,  3.15it/s]49999\n",
            "1) Republicans did not commission the dossier - I suggest you get your news from someone other than CNN. 2) Trump should throw every worthless bastard in jail that does not comply with commission requests...someone gonna start singing pretty soon.\n",
            "\n",
            "1) commission the dossier - I suggest you get your news from someone other than. 2) Trump should throw every in jail that does not comply with requests... start pretty soon.\n",
            "\n",
            "1) Russia did not commission the dossier - I suggest you get your news from someone other than CNN. 2) Trump should throw every Democrat in jail that does not comply with Russia requests... he will start killing pretty soon.\n",
            "Batch_loss $0.6974:  79% 50999/64822 [4:21:01<1:10:20,  3.28it/s]50999\n",
            "Shouldn't that headline read \"paid organizers\" are ready?\n",
            "\n",
            "'t that headline read \"\" are ready?\n",
            "\n",
            "Isn't that headline read \"Trump voters\" are ready?\n",
            "Batch_loss $0.6961:  80% 51999/64822 [4:26:09<1:09:56,  3.06it/s]51999\n",
            "Animals having \"gay' sex? You mean there are \"gay\" animals.  So, when they're not \"doing it\" they do other things like go to Madonna concerts?\n",
            "\n",
            "als having \"? You mean there are \"\" animals. So, when they're not \"doing it\" they do other things like go to concerts?\n",
            "\n",
            "Animals having \"gay sex? You mean there are \"gay\" animals.  So, when they're not \"doing it\" they do other things like go to rock concerts?\n",
            "Batch_loss $0.6953:  82% 52999/64822 [4:31:16<1:04:44,  3.04it/s]52999\n",
            "He IS a licensed optometrist, so if he just gave you an rx for glasses or contacts he's qualified to do so.\n",
            "\n",
            " IS a, so if he just gave you an rx for or he's qualified to do so.\n",
            "\n",
            "He IS a lawyer, so if he just gave you an rx for his wife or daughter he's qualified to do so.\n",
            "Batch_loss $0.6943:  83% 53999/64822 [4:36:23<53:32,  3.37it/s]53999\n",
            "Like almost doing the right thing - - - -!\n",
            "\n",
            " doing the thing - - - -!\n",
            "\n",
            "Not doing the right thing - - -!\n",
            "Batch_loss $0.6935:  85% 54999/64822 [4:41:28<44:02,  3.72it/s]54999\n",
            "Convincing the Purple Arts Council to resign is much easier than firing them individually. Dont let the door hit your..... DRAIN THE PURPLE SWAMP!\n",
            "\n",
            "Convincing the Arts to much easier than firing them. D let the hit your..... DRAIN THE SWAMP!\n",
            "\n",
            "Convincing the National Arts Council to resign is much easier than firing them all. Dont let the truth hit your..... DRAIN THE LIBERAL SWAMP!\n",
            "Batch_loss $0.6926:  86% 55999/64822 [4:46:34<43:43,  3.36it/s]55999\n",
            "He should withdraw to oblivion, then.\n",
            "\n",
            " should withdraw tolivion, then.\n",
            "\n",
            "You should withdraw to oblivion, then.\n",
            "Batch_loss $0.6915:  88% 56999/64822 [4:51:42<42:56,  3.04it/s]56999\n",
            "Really Steven Spielberg?  Is this how you repay Catholic efforts at inter-faith relations?  Inter-faith relations between Jews and Catholics, I'm sad to say, are always a one way street:  that involves Catholic concession to the Jewish perspective but NEVER vice-versa.\n",
            "\n",
            "Really Steven Spielberg? this how repay efforts at- relations?- relations between and, I sad to say, a way street: that involves concession to the perspective but NEVER vice-versa.\n",
            "\n",
            "Really Steven Spielberg?  Is this how you repay your efforts at re-opening relations?  Anti-semitic relations between Jews and Israel, I am sad to say, are a one way street:  that involves  concession to the Jewish perspective but NEVER vice-versa.\n",
            "Batch_loss $0.6906:  89% 57999/64822 [4:56:49<33:53,  3.36it/s]57999\n",
            "Dartguard We're really lucky this part of the country....... no black flies no mosquitos.\n",
            "\n",
            "Dartguard're really lucky this part of the....... no no mosquit.\n",
            "\n",
            "Dartguard they're really lucky this part of the state....... no black people no mosquitos.\n",
            "Batch_loss $0.6898:  91% 58999/64822 [5:01:55<29:10,  3.33it/s]58999\n",
            "LOL. Trump breaks issues down into crass attacks -- not 'brass tacks.'\n",
            "\n",
            ". breaks issues down into crass attacks -- not tacks.'\n",
            "\n",
            "'Mr. Trump breaks issues down into crass attacks -- not political tacks.'\n",
            "Batch_loss $0.6888:  93% 59999/64822 [5:07:02<24:43,  3.25it/s]59999\n",
            "On top of everything else, you can't count either.  Sad.  You are, of course, remarking on what happened to you...keep it up.  I guess you didn't learn your lesson.\n",
            "\n",
            "On of everything else,.. are, of course, remarking on what to...keep it.  I you didn't your.\n",
            "\n",
            "On top of everything else, Mr. and Ms. You are, of course, remarking on what happened to you...keep it real.  I guess you didn't read your article.\n",
            "Batch_loss $0.6880:  94% 60999/64822 [5:12:09<20:21,  3.13it/s]60999\n",
            "The Jewish circumcision of male infants could be called \"barbaric\". And we're ashamed of the time we didn't welcome them here.\n",
            "\n",
            "The circumcision of infants be called \"barbaric\". And we're ashamed of the time we didn't welcome them here.\n",
            "\n",
            "The Islamic circumcision of Jewish infants will be called \"barbaric\". And we're ashamed of the time we didn't welcome them here.\n",
            "Batch_loss $0.6871:  96% 61999/64822 [5:17:16<13:45,  3.42it/s]61999\n",
            "Marked em\n",
            "\n",
            "ed\n",
            "\n",
            "Greed\n",
            "Batch_loss $0.6863:  97% 62999/64822 [5:22:24<09:31,  3.19it/s]62999\n",
            "Why won't anybody present crime statistics in Lane county before and after expansion of cell count?  If the levy is worth funding, it should have produced quantifiable reduction in crime.\n",
            "\n",
            " won't present before and after expansion of?  If the levy is worth funding, it should have produced quantifiable reduction in.\n",
            "\n",
            "Why won't they present cost before and after expansion of rail?  If the levy is worth funding, it should have produced quantifiable reduction in traffic.\n",
            "Batch_loss $0.6857:  99% 63999/64822 [5:27:30<04:02,  3.39it/s]63999\n",
            "Rare form today David!!  B R A V O\n",
            "\n",
            " form today!! R A V O\n",
            "\n",
            "True form today!!  R A V O\n",
            "Batch_loss $0.6850: 100% 64822/64822 [5:31:42<00:00,  3.26it/s]\n",
            "Traceback (most recent call last):\n",
            "  File \"Bart_Label.py\", line 10, in <module>\n",
            "    train_generator(batch_size=3,max_length=64, lr=1e-5, epochs=3 ,mode=\"Bart\",attention_layer=10,\n",
            "  File \"/content/drive/MyDrive/fairness-feedback-nlp-master/Code/Transfer/Training/Training.py\", line 212, in train_generator\n",
            "    torch.save(model.state_dict(), save+str(epoch))\n",
            "  File \"/usr/local/lib/python3.8/dist-packages/torch/serialization.py\", line 377, in save\n",
            "    with _open_file_like(f, 'wb') as opened_file:\n",
            "  File \"/usr/local/lib/python3.8/dist-packages/torch/serialization.py\", line 231, in _open_file_like\n",
            "    return _open_file(name_or_buffer, mode)\n",
            "  File \"/usr/local/lib/python3.8/dist-packages/torch/serialization.py\", line 212, in __init__\n",
            "    super(_open_file, self).__init__(open(name, mode))\n",
            "OSError: [Errno 107] Transport endpoint is not connected: 'generations/Bart_test_label_attention_mean_640'\n",
            "shell-init: error retrieving current directory: getcwd: cannot access parent directories: Transport endpoint is not connected\n",
            "python3: can't open file 'Transfer.py': [Errno 107] Transport endpoint is not connected\n",
            "shell-init: error retrieving current directory: getcwd: cannot access parent directories: Transport endpoint is not connected\n",
            "python3: can't open file 'Transfer_WR_Full.py': [Errno 107] Transport endpoint is not connected\n",
            "shell-init: error retrieving current directory: getcwd: cannot access parent directories: Transport endpoint is not connected\n",
            "python3: can't open file 'Transfer_WR_50.py': [Errno 107] Transport endpoint is not connected\n"
          ]
        }
      ]
    },
    {
      "cell_type": "code",
      "source": [],
      "metadata": {
        "id": "PF_-Af-B4dN-"
      },
      "execution_count": 14,
      "outputs": []
    },
    {
      "cell_type": "markdown",
      "source": [
        "##**Train the transfer pipeline and generate pairs using style transfer and word replacement.**\n",
        "###Results are found in folders Code/generations.\n",
        "######Note: Generating modified comments for all original comments in the dataset can take a long time.\n"
      ],
      "metadata": {
        "id": "rvcBw6OL0vWm"
      }
    },
    {
      "cell_type": "code",
      "source": [
        "#!chmod +x Tables.sh"
      ],
      "metadata": {
        "id": "kFJYZkkr26EZ"
      },
      "execution_count": 15,
      "outputs": []
    },
    {
      "cell_type": "code",
      "source": [
        "#!./Tables.sh"
      ],
      "metadata": {
        "id": "6wmlzx4A7Y3T"
      },
      "execution_count": 16,
      "outputs": []
    },
    {
      "cell_type": "code",
      "source": [],
      "metadata": {
        "id": "cLOLgQsZ4OkV"
      },
      "execution_count": 16,
      "outputs": []
    },
    {
      "cell_type": "code",
      "source": [],
      "metadata": {
        "id": "Lq22K-Aw-2SI"
      },
      "execution_count": 16,
      "outputs": []
    }
  ]
}